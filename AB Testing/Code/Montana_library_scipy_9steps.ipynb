{
  "cells": [
    {
      "cell_type": "markdown",
      "metadata": {
        "id": "aVcmIETZQHPt"
      },
      "source": [
        "# Hypothesis testing: Chi-Square Test within the Montana Library case study\n",
        "\n",
        "In this notebook we perform a chi-square test with the data from the Library of Montana University case study, applying a post-hoc correction to perform pairwise tests and find the true winner.\n",
        "\n",
        "For the sake of simplicity, we follow the 9 step approach you already know, but use scipy instead of doing the math manually."
      ]
    },
    {
      "cell_type": "markdown",
      "source": [
        "## 1.&nbsp;Define the initial question for which the truth is not known."
      ],
      "metadata": {
        "id": "UoxVTvBOioKF"
      }
    },
    {
      "cell_type": "markdown",
      "source": [
        "To improve click-through rates (CTR) for the interact section of the website, we found 4 other terms that could be more intuitive alternatives.\n",
        "\n",
        "In an A/B test, we showed all 5 versions to randomly selected visitors, and counted how many visitors clicked on each of the alternatives.\n",
        "\n",
        "Now we want to know whether one of the 5 versions tested performed much better than the others, and to an extent that this is unlikely to be explained by chance alone."
      ],
      "metadata": {
        "id": "WtDvj6gAixSw"
      }
    },
    {
      "cell_type": "markdown",
      "source": [
        "## 2.&nbsp;State the Null Hypothesis and the Alternative Hypothesis."
      ],
      "metadata": {
        "id": "NQWQXzWCjlBk"
      }
    },
    {
      "cell_type": "markdown",
      "source": [
        "Null Hypothesis ($H_0$): CTR(version 1) = CTR(version 2) = CTR(version 3) = CTR(version 4) = CTR(version 5)\n",
        "\n",
        "Alternative Hypothesis ($H_A$): at least one of the versions has a significantly better or worse CTR than the others"
      ],
      "metadata": {
        "id": "MGwD1tLjjoB6"
      }
    },
    {
      "cell_type": "markdown",
      "source": [
        "## 3.&nbsp; Select an appropriate significance level alpha ($\\alpha$)."
      ],
      "metadata": {
        "id": "NG4PgnCGj78F"
      }
    },
    {
      "cell_type": "markdown",
      "source": [
        "It was decided that a relatively high alpha was acceptable in this case, so the standard approach was to select alpha = 0.1."
      ],
      "metadata": {
        "id": "S19zI7qokDkB"
      }
    },
    {
      "cell_type": "code",
      "source": [
        "alpha = 0.1"
      ],
      "metadata": {
        "id": "r6RpgMTekCkC"
      },
      "execution_count": null,
      "outputs": []
    },
    {
      "cell_type": "markdown",
      "source": [
        "## 4.&nbsp; Consider the statistical assumptions about the set of data."
      ],
      "metadata": {
        "id": "OFQQMcMmkQgc"
      }
    },
    {
      "cell_type": "markdown",
      "source": [
        "4 assumptions need to be met:\n",
        "\n",
        "1. Both variables are categorical.\n",
        "\n",
        "2. All observations are independent.\n",
        "\n",
        "3. Cells in the contingency table are mutually exclusive.\n",
        "\n",
        "4. The sample size is large enough (at least 5 observations in each of the cells of the table with expected values)."
      ],
      "metadata": {
        "id": "FbbW6KSrkXVj"
      }
    },
    {
      "cell_type": "markdown",
      "source": [
        "### 4.1&nbsp; Both variables are categorical."
      ],
      "metadata": {
        "id": "dDnELNFAkazj"
      }
    },
    {
      "cell_type": "markdown",
      "source": [
        "#### 4.1.1&nbsp;Read in the data"
      ],
      "metadata": {
        "id": "hDyceAL3lKKb"
      }
    },
    {
      "cell_type": "markdown",
      "metadata": {
        "id": "BD5u2LKrQHPx"
      },
      "source": [
        "The important pieces of information (clicks on each element of interest & visits on each page) are scattered around. Let's collect them:"
      ]
    },
    {
      "cell_type": "code",
      "execution_count": null,
      "metadata": {
        "id": "UkRmZnIbQHPy"
      },
      "outputs": [],
      "source": [
        "import pandas as pd\n",
        "import numpy as np\n",
        "pd.set_option(\"max_colwidth\", 1000)\n",
        "pd.set_option(\"max_rows\", 1000)\n",
        "\n",
        "# Element list Homepage Version 1 - Interact, 5-29-2013.csv\n",
        "url = 'https://drive.google.com/file/d/1Tj6Z4OtJqLBOW0z2fvuGS5EhZo8xTVM6/view?usp=sharing' \n",
        "path = 'https://drive.google.com/uc?export=download&id='+url.split('/')[-2]\n",
        "v1 = pd.read_csv(path)\n",
        "\n",
        "# Element list Homepage Version 2 - Connect, 5-29-2013.csv\n",
        "url = 'https://drive.google.com/file/d/1qHBdOjUWvJpN-LTg1z2jpeA3mDXQjdch/view?usp=sharing' \n",
        "path = 'https://drive.google.com/uc?export=download&id='+url.split('/')[-2]\n",
        "v2 = pd.read_csv(path)\n",
        "\n",
        "# Element list Homepage Version 3 - Learn, 5-29-2013.csv\n",
        "url = 'https://drive.google.com/file/d/1g8prRmy3hpVtL6zvkdCwXcgIV0CS48zr/view?usp=sharing' \n",
        "path = 'https://drive.google.com/uc?export=download&id='+url.split('/')[-2]\n",
        "v3 = pd.read_csv(path)\n",
        "\n",
        "# Element list Homepage Version 4 - Help, 5-29-2013.csv\n",
        "url = 'https://drive.google.com/file/d/1I9bjXkxtiILDogeQmsWCCDlQtRZ8OSrs/view?usp=sharing' \n",
        "path = 'https://drive.google.com/uc?export=download&id='+url.split('/')[-2]\n",
        "v4 = pd.read_csv(path)\n",
        "\n",
        "# Element list Homepage Version 5 - Services, 5-29-2013.csv\n",
        "url = 'https://drive.google.com/file/d/1noDp_jpdAL_LGxU3SPDxqP94pUCqisqW/view?usp=sharing' \n",
        "path = 'https://drive.google.com/uc?export=download&id='+url.split('/')[-2]\n",
        "v5 = pd.read_csv(path)"
      ]
    },
    {
      "cell_type": "code",
      "execution_count": null,
      "metadata": {
        "id": "01vrGGGdQHP0"
      },
      "outputs": [],
      "source": [
        "# clicks on each element\n",
        "v1_clicks = int(v1.loc[v1[\"Name\"]==\"INTERACT\"][\"No. clicks\"])\n",
        "v2_clicks = int(v2.loc[v2[\"Name\"]==\"CONNECT\"][\"No. clicks\"])\n",
        "v3_clicks = int(v3.loc[v3[\"Name\"]==\"LEARN\"][\"No. clicks\"])\n",
        "v4_clicks = int(v4.loc[v4[\"Name\"]==\"HELP\"][\"No. clicks\"])\n",
        "v5_clicks = int(v5.loc[v5[\"Name\"]==\"SERVICES\"][\"No. clicks\"])"
      ]
    },
    {
      "cell_type": "code",
      "execution_count": null,
      "metadata": {
        "colab": {
          "base_uri": "https://localhost:8080/"
        },
        "id": "QFopuyf4QHP0",
        "outputId": "e94eeb17-b05f-4c3d-d9d4-005b3e4f9a8f"
      },
      "outputs": [
        {
          "output_type": "stream",
          "name": "stdout",
          "text": [
            "42 53 21 38 45\n"
          ]
        }
      ],
      "source": [
        "print(v1_clicks, v2_clicks, v3_clicks, v4_clicks, v5_clicks)"
      ]
    },
    {
      "cell_type": "code",
      "execution_count": null,
      "metadata": {
        "id": "wyPQ1FlQQHP1"
      },
      "outputs": [],
      "source": [
        "# visits on each page (they are in the last column of the second row, we read them manually)\n",
        "v1_visits = 10283\n",
        "v2_visits = 2742\n",
        "v3_visits = 2747\n",
        "v4_visits = 3180\n",
        "v5_visits = 2064"
      ]
    },
    {
      "cell_type": "markdown",
      "metadata": {
        "id": "i8UNGXvhQHP2"
      },
      "source": [
        "#### 4.1.2&nbsp; Calculate the CTR\n",
        "\n",
        "Defined as clicks / visits"
      ]
    },
    {
      "cell_type": "code",
      "execution_count": null,
      "metadata": {
        "id": "mQLyrfiQQHP3"
      },
      "outputs": [],
      "source": [
        "# click-through rates\n",
        "interact_rate = float(v1_clicks / v1_visits)\n",
        "connect_rate = float(v2_clicks / v2_visits)\n",
        "learn_rate = float(v3_clicks / v3_visits)\n",
        "help_rate = float(v4_clicks / v4_visits)\n",
        "services_rate = float(v5_clicks / v5_visits)"
      ]
    },
    {
      "cell_type": "code",
      "execution_count": null,
      "metadata": {
        "colab": {
          "base_uri": "https://localhost:8080/",
          "height": 206
        },
        "id": "lEyizFPxQHP3",
        "outputId": "5fc9a82a-8913-4c33-e9c6-84939e46a803"
      },
      "outputs": [
        {
          "output_type": "execute_result",
          "data": {
            "text/plain": [
              "      rates     names\n",
              "4  0.021802  Services\n",
              "1  0.019329   Connect\n",
              "3  0.011950      Help\n",
              "2  0.007645     Learn\n",
              "0  0.004084  Interact"
            ],
            "text/html": [
              "\n",
              "  <div id=\"df-b32f786e-b8a8-448d-8658-b64c23caa87b\">\n",
              "    <div class=\"colab-df-container\">\n",
              "      <div>\n",
              "<style scoped>\n",
              "    .dataframe tbody tr th:only-of-type {\n",
              "        vertical-align: middle;\n",
              "    }\n",
              "\n",
              "    .dataframe tbody tr th {\n",
              "        vertical-align: top;\n",
              "    }\n",
              "\n",
              "    .dataframe thead th {\n",
              "        text-align: right;\n",
              "    }\n",
              "</style>\n",
              "<table border=\"1\" class=\"dataframe\">\n",
              "  <thead>\n",
              "    <tr style=\"text-align: right;\">\n",
              "      <th></th>\n",
              "      <th>rates</th>\n",
              "      <th>names</th>\n",
              "    </tr>\n",
              "  </thead>\n",
              "  <tbody>\n",
              "    <tr>\n",
              "      <th>4</th>\n",
              "      <td>0.021802</td>\n",
              "      <td>Services</td>\n",
              "    </tr>\n",
              "    <tr>\n",
              "      <th>1</th>\n",
              "      <td>0.019329</td>\n",
              "      <td>Connect</td>\n",
              "    </tr>\n",
              "    <tr>\n",
              "      <th>3</th>\n",
              "      <td>0.011950</td>\n",
              "      <td>Help</td>\n",
              "    </tr>\n",
              "    <tr>\n",
              "      <th>2</th>\n",
              "      <td>0.007645</td>\n",
              "      <td>Learn</td>\n",
              "    </tr>\n",
              "    <tr>\n",
              "      <th>0</th>\n",
              "      <td>0.004084</td>\n",
              "      <td>Interact</td>\n",
              "    </tr>\n",
              "  </tbody>\n",
              "</table>\n",
              "</div>\n",
              "      <button class=\"colab-df-convert\" onclick=\"convertToInteractive('df-b32f786e-b8a8-448d-8658-b64c23caa87b')\"\n",
              "              title=\"Convert this dataframe to an interactive table.\"\n",
              "              style=\"display:none;\">\n",
              "        \n",
              "  <svg xmlns=\"http://www.w3.org/2000/svg\" height=\"24px\"viewBox=\"0 0 24 24\"\n",
              "       width=\"24px\">\n",
              "    <path d=\"M0 0h24v24H0V0z\" fill=\"none\"/>\n",
              "    <path d=\"M18.56 5.44l.94 2.06.94-2.06 2.06-.94-2.06-.94-.94-2.06-.94 2.06-2.06.94zm-11 1L8.5 8.5l.94-2.06 2.06-.94-2.06-.94L8.5 2.5l-.94 2.06-2.06.94zm10 10l.94 2.06.94-2.06 2.06-.94-2.06-.94-.94-2.06-.94 2.06-2.06.94z\"/><path d=\"M17.41 7.96l-1.37-1.37c-.4-.4-.92-.59-1.43-.59-.52 0-1.04.2-1.43.59L10.3 9.45l-7.72 7.72c-.78.78-.78 2.05 0 2.83L4 21.41c.39.39.9.59 1.41.59.51 0 1.02-.2 1.41-.59l7.78-7.78 2.81-2.81c.8-.78.8-2.07 0-2.86zM5.41 20L4 18.59l7.72-7.72 1.47 1.35L5.41 20z\"/>\n",
              "  </svg>\n",
              "      </button>\n",
              "      \n",
              "  <style>\n",
              "    .colab-df-container {\n",
              "      display:flex;\n",
              "      flex-wrap:wrap;\n",
              "      gap: 12px;\n",
              "    }\n",
              "\n",
              "    .colab-df-convert {\n",
              "      background-color: #E8F0FE;\n",
              "      border: none;\n",
              "      border-radius: 50%;\n",
              "      cursor: pointer;\n",
              "      display: none;\n",
              "      fill: #1967D2;\n",
              "      height: 32px;\n",
              "      padding: 0 0 0 0;\n",
              "      width: 32px;\n",
              "    }\n",
              "\n",
              "    .colab-df-convert:hover {\n",
              "      background-color: #E2EBFA;\n",
              "      box-shadow: 0px 1px 2px rgba(60, 64, 67, 0.3), 0px 1px 3px 1px rgba(60, 64, 67, 0.15);\n",
              "      fill: #174EA6;\n",
              "    }\n",
              "\n",
              "    [theme=dark] .colab-df-convert {\n",
              "      background-color: #3B4455;\n",
              "      fill: #D2E3FC;\n",
              "    }\n",
              "\n",
              "    [theme=dark] .colab-df-convert:hover {\n",
              "      background-color: #434B5C;\n",
              "      box-shadow: 0px 1px 3px 1px rgba(0, 0, 0, 0.15);\n",
              "      filter: drop-shadow(0px 1px 2px rgba(0, 0, 0, 0.3));\n",
              "      fill: #FFFFFF;\n",
              "    }\n",
              "  </style>\n",
              "\n",
              "      <script>\n",
              "        const buttonEl =\n",
              "          document.querySelector('#df-b32f786e-b8a8-448d-8658-b64c23caa87b button.colab-df-convert');\n",
              "        buttonEl.style.display =\n",
              "          google.colab.kernel.accessAllowed ? 'block' : 'none';\n",
              "\n",
              "        async function convertToInteractive(key) {\n",
              "          const element = document.querySelector('#df-b32f786e-b8a8-448d-8658-b64c23caa87b');\n",
              "          const dataTable =\n",
              "            await google.colab.kernel.invokeFunction('convertToInteractive',\n",
              "                                                     [key], {});\n",
              "          if (!dataTable) return;\n",
              "\n",
              "          const docLinkHtml = 'Like what you see? Visit the ' +\n",
              "            '<a target=\"_blank\" href=https://colab.research.google.com/notebooks/data_table.ipynb>data table notebook</a>'\n",
              "            + ' to learn more about interactive tables.';\n",
              "          element.innerHTML = '';\n",
              "          dataTable['output_type'] = 'display_data';\n",
              "          await google.colab.output.renderOutput(dataTable, element);\n",
              "          const docLink = document.createElement('div');\n",
              "          docLink.innerHTML = docLinkHtml;\n",
              "          element.appendChild(docLink);\n",
              "        }\n",
              "      </script>\n",
              "    </div>\n",
              "  </div>\n",
              "  "
            ]
          },
          "metadata": {},
          "execution_count": 7
        }
      ],
      "source": [
        "# CTR from worst to best\n",
        "rates = pd.Series([interact_rate, connect_rate, learn_rate, help_rate, services_rate])\n",
        "names = pd.Series([\"Interact\", \"Connect\", \"Learn\", \"Help\", \"Services\"])\n",
        "\n",
        "ctr_df = pd.DataFrame({\"rates\":rates, \"names\":names}).sort_values(\"rates\")\n",
        "ctr_df.sort_values(\"rates\", ascending=False)"
      ]
    },
    {
      "cell_type": "markdown",
      "metadata": {
        "id": "HoFpg1KiQHP4"
      },
      "source": [
        "#### 4.1.3&nbsp;Create the contingency table\n",
        "\n",
        "For observed values. We note clicks and no-clicks (defined as visits - clicks)"
      ]
    },
    {
      "cell_type": "code",
      "execution_count": null,
      "metadata": {
        "id": "L2fqknAvQHP4"
      },
      "outputs": [],
      "source": [
        "# no-clicks\n",
        "v1_noclick = v1_visits - v1_clicks\n",
        "v2_noclick = v2_visits - v2_clicks\n",
        "v3_noclick = v3_visits - v3_clicks\n",
        "v4_noclick = v4_visits - v4_clicks\n",
        "v5_noclick = v5_visits - v5_clicks"
      ]
    },
    {
      "cell_type": "code",
      "execution_count": null,
      "metadata": {
        "colab": {
          "base_uri": "https://localhost:8080/",
          "height": 112
        },
        "id": "KBqGulfZQHP4",
        "outputId": "27d21aba-838f-471f-c041-c3ec4c36a78c"
      },
      "outputs": [
        {
          "output_type": "execute_result",
          "data": {
            "text/plain": [
              "          Interact  Connect  Learn  Help  Services\n",
              "Click           42       53     21    38        45\n",
              "No-click     10241     2689   2726  3142      2019"
            ],
            "text/html": [
              "\n",
              "  <div id=\"df-55efb1e1-f1a8-49f6-a2e5-43de0f60becf\">\n",
              "    <div class=\"colab-df-container\">\n",
              "      <div>\n",
              "<style scoped>\n",
              "    .dataframe tbody tr th:only-of-type {\n",
              "        vertical-align: middle;\n",
              "    }\n",
              "\n",
              "    .dataframe tbody tr th {\n",
              "        vertical-align: top;\n",
              "    }\n",
              "\n",
              "    .dataframe thead th {\n",
              "        text-align: right;\n",
              "    }\n",
              "</style>\n",
              "<table border=\"1\" class=\"dataframe\">\n",
              "  <thead>\n",
              "    <tr style=\"text-align: right;\">\n",
              "      <th></th>\n",
              "      <th>Interact</th>\n",
              "      <th>Connect</th>\n",
              "      <th>Learn</th>\n",
              "      <th>Help</th>\n",
              "      <th>Services</th>\n",
              "    </tr>\n",
              "  </thead>\n",
              "  <tbody>\n",
              "    <tr>\n",
              "      <th>Click</th>\n",
              "      <td>42</td>\n",
              "      <td>53</td>\n",
              "      <td>21</td>\n",
              "      <td>38</td>\n",
              "      <td>45</td>\n",
              "    </tr>\n",
              "    <tr>\n",
              "      <th>No-click</th>\n",
              "      <td>10241</td>\n",
              "      <td>2689</td>\n",
              "      <td>2726</td>\n",
              "      <td>3142</td>\n",
              "      <td>2019</td>\n",
              "    </tr>\n",
              "  </tbody>\n",
              "</table>\n",
              "</div>\n",
              "      <button class=\"colab-df-convert\" onclick=\"convertToInteractive('df-55efb1e1-f1a8-49f6-a2e5-43de0f60becf')\"\n",
              "              title=\"Convert this dataframe to an interactive table.\"\n",
              "              style=\"display:none;\">\n",
              "        \n",
              "  <svg xmlns=\"http://www.w3.org/2000/svg\" height=\"24px\"viewBox=\"0 0 24 24\"\n",
              "       width=\"24px\">\n",
              "    <path d=\"M0 0h24v24H0V0z\" fill=\"none\"/>\n",
              "    <path d=\"M18.56 5.44l.94 2.06.94-2.06 2.06-.94-2.06-.94-.94-2.06-.94 2.06-2.06.94zm-11 1L8.5 8.5l.94-2.06 2.06-.94-2.06-.94L8.5 2.5l-.94 2.06-2.06.94zm10 10l.94 2.06.94-2.06 2.06-.94-2.06-.94-.94-2.06-.94 2.06-2.06.94z\"/><path d=\"M17.41 7.96l-1.37-1.37c-.4-.4-.92-.59-1.43-.59-.52 0-1.04.2-1.43.59L10.3 9.45l-7.72 7.72c-.78.78-.78 2.05 0 2.83L4 21.41c.39.39.9.59 1.41.59.51 0 1.02-.2 1.41-.59l7.78-7.78 2.81-2.81c.8-.78.8-2.07 0-2.86zM5.41 20L4 18.59l7.72-7.72 1.47 1.35L5.41 20z\"/>\n",
              "  </svg>\n",
              "      </button>\n",
              "      \n",
              "  <style>\n",
              "    .colab-df-container {\n",
              "      display:flex;\n",
              "      flex-wrap:wrap;\n",
              "      gap: 12px;\n",
              "    }\n",
              "\n",
              "    .colab-df-convert {\n",
              "      background-color: #E8F0FE;\n",
              "      border: none;\n",
              "      border-radius: 50%;\n",
              "      cursor: pointer;\n",
              "      display: none;\n",
              "      fill: #1967D2;\n",
              "      height: 32px;\n",
              "      padding: 0 0 0 0;\n",
              "      width: 32px;\n",
              "    }\n",
              "\n",
              "    .colab-df-convert:hover {\n",
              "      background-color: #E2EBFA;\n",
              "      box-shadow: 0px 1px 2px rgba(60, 64, 67, 0.3), 0px 1px 3px 1px rgba(60, 64, 67, 0.15);\n",
              "      fill: #174EA6;\n",
              "    }\n",
              "\n",
              "    [theme=dark] .colab-df-convert {\n",
              "      background-color: #3B4455;\n",
              "      fill: #D2E3FC;\n",
              "    }\n",
              "\n",
              "    [theme=dark] .colab-df-convert:hover {\n",
              "      background-color: #434B5C;\n",
              "      box-shadow: 0px 1px 3px 1px rgba(0, 0, 0, 0.15);\n",
              "      filter: drop-shadow(0px 1px 2px rgba(0, 0, 0, 0.3));\n",
              "      fill: #FFFFFF;\n",
              "    }\n",
              "  </style>\n",
              "\n",
              "      <script>\n",
              "        const buttonEl =\n",
              "          document.querySelector('#df-55efb1e1-f1a8-49f6-a2e5-43de0f60becf button.colab-df-convert');\n",
              "        buttonEl.style.display =\n",
              "          google.colab.kernel.accessAllowed ? 'block' : 'none';\n",
              "\n",
              "        async function convertToInteractive(key) {\n",
              "          const element = document.querySelector('#df-55efb1e1-f1a8-49f6-a2e5-43de0f60becf');\n",
              "          const dataTable =\n",
              "            await google.colab.kernel.invokeFunction('convertToInteractive',\n",
              "                                                     [key], {});\n",
              "          if (!dataTable) return;\n",
              "\n",
              "          const docLinkHtml = 'Like what you see? Visit the ' +\n",
              "            '<a target=\"_blank\" href=https://colab.research.google.com/notebooks/data_table.ipynb>data table notebook</a>'\n",
              "            + ' to learn more about interactive tables.';\n",
              "          element.innerHTML = '';\n",
              "          dataTable['output_type'] = 'display_data';\n",
              "          await google.colab.output.renderOutput(dataTable, element);\n",
              "          const docLink = document.createElement('div');\n",
              "          docLink.innerHTML = docLinkHtml;\n",
              "          element.appendChild(docLink);\n",
              "        }\n",
              "      </script>\n",
              "    </div>\n",
              "  </div>\n",
              "  "
            ]
          },
          "metadata": {},
          "execution_count": 9
        }
      ],
      "source": [
        "# contingency table as a pd.DataFrame creation\n",
        "clicks = pd.Series([v1_clicks, v2_clicks, v3_clicks, v4_clicks, v5_clicks])\n",
        "noclicks = pd.Series([v1_noclick, v2_noclick, v3_noclick, v4_noclick, v5_noclick])\n",
        "\n",
        "observed = pd.DataFrame(data = [clicks, noclicks])\n",
        "observed.columns = [\"Interact\", \"Connect\", \"Learn\", \"Help\", \"Services\"]\n",
        "observed.index = [\"Click\", \"No-click\"]\n",
        "\n",
        "observed"
      ]
    },
    {
      "cell_type": "markdown",
      "source": [
        "Both the versions (Interact, Connect, Learn, Help and Services) and the results (click, no-click) are categories.\n",
        "\n",
        "Condition fulfilled."
      ],
      "metadata": {
        "id": "rUdltk4wli9A"
      }
    },
    {
      "cell_type": "markdown",
      "source": [
        "### 4.2&nbsp;All observations are independent."
      ],
      "metadata": {
        "id": "oCvViSJhlq8p"
      }
    },
    {
      "cell_type": "markdown",
      "source": [
        "This needs to be ensured while collecting the data. At this point, we will assume that the visitors to the website were allocated randomly and did not influence each other, and that thus, their clicks are independent.\n",
        "\n",
        "Condition fulfilled."
      ],
      "metadata": {
        "id": "8orPNmx0l3kX"
      }
    },
    {
      "cell_type": "markdown",
      "source": [
        "###&nbsp;4.3 Cells in the contingency table are mutually exclusive."
      ],
      "metadata": {
        "id": "rM8o4emml5MZ"
      }
    },
    {
      "cell_type": "markdown",
      "source": [
        "Technically, this needs to be ensured while collecting the data. Logically, any visitor's behaviour can only be described using one single button (Interact, Connect, Learn, Help or Services) and one single row (click or no-click), meaning that the cells are mutually exclusive.\n",
        "\n",
        "Condition fulfilled."
      ],
      "metadata": {
        "id": "7rCuPw8AmCv2"
      }
    },
    {
      "cell_type": "markdown",
      "source": [
        "###4.4&nbsp;The sample size is large enough (at least 5 observations in each of the cells of the table with expected values)."
      ],
      "metadata": {
        "id": "20whVlvUmO9B"
      }
    },
    {
      "cell_type": "code",
      "source": [
        "observed_expanded = observed.copy()\n",
        "observed_expanded"
      ],
      "metadata": {
        "colab": {
          "base_uri": "https://localhost:8080/",
          "height": 112
        },
        "id": "d4pV-h2omTvz",
        "outputId": "ab84a83d-63b7-481b-e071-b9592ef23d8c"
      },
      "execution_count": null,
      "outputs": [
        {
          "output_type": "execute_result",
          "data": {
            "text/plain": [
              "          Interact  Connect  Learn  Help  Services\n",
              "Click           42       53     21    38        45\n",
              "No-click     10241     2689   2726  3142      2019"
            ],
            "text/html": [
              "\n",
              "  <div id=\"df-fdee81bc-c12c-4044-83c1-39a48f551b77\">\n",
              "    <div class=\"colab-df-container\">\n",
              "      <div>\n",
              "<style scoped>\n",
              "    .dataframe tbody tr th:only-of-type {\n",
              "        vertical-align: middle;\n",
              "    }\n",
              "\n",
              "    .dataframe tbody tr th {\n",
              "        vertical-align: top;\n",
              "    }\n",
              "\n",
              "    .dataframe thead th {\n",
              "        text-align: right;\n",
              "    }\n",
              "</style>\n",
              "<table border=\"1\" class=\"dataframe\">\n",
              "  <thead>\n",
              "    <tr style=\"text-align: right;\">\n",
              "      <th></th>\n",
              "      <th>Interact</th>\n",
              "      <th>Connect</th>\n",
              "      <th>Learn</th>\n",
              "      <th>Help</th>\n",
              "      <th>Services</th>\n",
              "    </tr>\n",
              "  </thead>\n",
              "  <tbody>\n",
              "    <tr>\n",
              "      <th>Click</th>\n",
              "      <td>42</td>\n",
              "      <td>53</td>\n",
              "      <td>21</td>\n",
              "      <td>38</td>\n",
              "      <td>45</td>\n",
              "    </tr>\n",
              "    <tr>\n",
              "      <th>No-click</th>\n",
              "      <td>10241</td>\n",
              "      <td>2689</td>\n",
              "      <td>2726</td>\n",
              "      <td>3142</td>\n",
              "      <td>2019</td>\n",
              "    </tr>\n",
              "  </tbody>\n",
              "</table>\n",
              "</div>\n",
              "      <button class=\"colab-df-convert\" onclick=\"convertToInteractive('df-fdee81bc-c12c-4044-83c1-39a48f551b77')\"\n",
              "              title=\"Convert this dataframe to an interactive table.\"\n",
              "              style=\"display:none;\">\n",
              "        \n",
              "  <svg xmlns=\"http://www.w3.org/2000/svg\" height=\"24px\"viewBox=\"0 0 24 24\"\n",
              "       width=\"24px\">\n",
              "    <path d=\"M0 0h24v24H0V0z\" fill=\"none\"/>\n",
              "    <path d=\"M18.56 5.44l.94 2.06.94-2.06 2.06-.94-2.06-.94-.94-2.06-.94 2.06-2.06.94zm-11 1L8.5 8.5l.94-2.06 2.06-.94-2.06-.94L8.5 2.5l-.94 2.06-2.06.94zm10 10l.94 2.06.94-2.06 2.06-.94-2.06-.94-.94-2.06-.94 2.06-2.06.94z\"/><path d=\"M17.41 7.96l-1.37-1.37c-.4-.4-.92-.59-1.43-.59-.52 0-1.04.2-1.43.59L10.3 9.45l-7.72 7.72c-.78.78-.78 2.05 0 2.83L4 21.41c.39.39.9.59 1.41.59.51 0 1.02-.2 1.41-.59l7.78-7.78 2.81-2.81c.8-.78.8-2.07 0-2.86zM5.41 20L4 18.59l7.72-7.72 1.47 1.35L5.41 20z\"/>\n",
              "  </svg>\n",
              "      </button>\n",
              "      \n",
              "  <style>\n",
              "    .colab-df-container {\n",
              "      display:flex;\n",
              "      flex-wrap:wrap;\n",
              "      gap: 12px;\n",
              "    }\n",
              "\n",
              "    .colab-df-convert {\n",
              "      background-color: #E8F0FE;\n",
              "      border: none;\n",
              "      border-radius: 50%;\n",
              "      cursor: pointer;\n",
              "      display: none;\n",
              "      fill: #1967D2;\n",
              "      height: 32px;\n",
              "      padding: 0 0 0 0;\n",
              "      width: 32px;\n",
              "    }\n",
              "\n",
              "    .colab-df-convert:hover {\n",
              "      background-color: #E2EBFA;\n",
              "      box-shadow: 0px 1px 2px rgba(60, 64, 67, 0.3), 0px 1px 3px 1px rgba(60, 64, 67, 0.15);\n",
              "      fill: #174EA6;\n",
              "    }\n",
              "\n",
              "    [theme=dark] .colab-df-convert {\n",
              "      background-color: #3B4455;\n",
              "      fill: #D2E3FC;\n",
              "    }\n",
              "\n",
              "    [theme=dark] .colab-df-convert:hover {\n",
              "      background-color: #434B5C;\n",
              "      box-shadow: 0px 1px 3px 1px rgba(0, 0, 0, 0.15);\n",
              "      filter: drop-shadow(0px 1px 2px rgba(0, 0, 0, 0.3));\n",
              "      fill: #FFFFFF;\n",
              "    }\n",
              "  </style>\n",
              "\n",
              "      <script>\n",
              "        const buttonEl =\n",
              "          document.querySelector('#df-fdee81bc-c12c-4044-83c1-39a48f551b77 button.colab-df-convert');\n",
              "        buttonEl.style.display =\n",
              "          google.colab.kernel.accessAllowed ? 'block' : 'none';\n",
              "\n",
              "        async function convertToInteractive(key) {\n",
              "          const element = document.querySelector('#df-fdee81bc-c12c-4044-83c1-39a48f551b77');\n",
              "          const dataTable =\n",
              "            await google.colab.kernel.invokeFunction('convertToInteractive',\n",
              "                                                     [key], {});\n",
              "          if (!dataTable) return;\n",
              "\n",
              "          const docLinkHtml = 'Like what you see? Visit the ' +\n",
              "            '<a target=\"_blank\" href=https://colab.research.google.com/notebooks/data_table.ipynb>data table notebook</a>'\n",
              "            + ' to learn more about interactive tables.';\n",
              "          element.innerHTML = '';\n",
              "          dataTable['output_type'] = 'display_data';\n",
              "          await google.colab.output.renderOutput(dataTable, element);\n",
              "          const docLink = document.createElement('div');\n",
              "          docLink.innerHTML = docLinkHtml;\n",
              "          element.appendChild(docLink);\n",
              "        }\n",
              "      </script>\n",
              "    </div>\n",
              "  </div>\n",
              "  "
            ]
          },
          "metadata": {},
          "execution_count": 10
        }
      ]
    },
    {
      "cell_type": "code",
      "source": [
        "# Create a new row called \"Total\" with the totals of each column.\n",
        "observed_expanded.loc[\"Total\"] = observed_expanded.sum()\n",
        "# Create a new column called \"Total\" with the totals of each row.\n",
        "observed_expanded[\"Total\"] = observed_expanded[\"Interact\"] + observed_expanded[\"Connect\"] + observed_expanded[\"Learn\"] + observed_expanded[\"Help\"] + observed_expanded[\"Services\"]\n",
        "observed_expanded"
      ],
      "metadata": {
        "colab": {
          "base_uri": "https://localhost:8080/",
          "height": 143
        },
        "id": "AOjo4qbtkvBB",
        "outputId": "3c30f12f-408f-4740-d34a-fc89b4945768"
      },
      "execution_count": null,
      "outputs": [
        {
          "output_type": "execute_result",
          "data": {
            "text/plain": [
              "          Interact  Connect  Learn  Help  Services  Total\n",
              "Click           42       53     21    38        45    199\n",
              "No-click     10241     2689   2726  3142      2019  20817\n",
              "Total        10283     2742   2747  3180      2064  21016"
            ],
            "text/html": [
              "\n",
              "  <div id=\"df-872f1ccb-62b4-46ce-9933-305543365604\">\n",
              "    <div class=\"colab-df-container\">\n",
              "      <div>\n",
              "<style scoped>\n",
              "    .dataframe tbody tr th:only-of-type {\n",
              "        vertical-align: middle;\n",
              "    }\n",
              "\n",
              "    .dataframe tbody tr th {\n",
              "        vertical-align: top;\n",
              "    }\n",
              "\n",
              "    .dataframe thead th {\n",
              "        text-align: right;\n",
              "    }\n",
              "</style>\n",
              "<table border=\"1\" class=\"dataframe\">\n",
              "  <thead>\n",
              "    <tr style=\"text-align: right;\">\n",
              "      <th></th>\n",
              "      <th>Interact</th>\n",
              "      <th>Connect</th>\n",
              "      <th>Learn</th>\n",
              "      <th>Help</th>\n",
              "      <th>Services</th>\n",
              "      <th>Total</th>\n",
              "    </tr>\n",
              "  </thead>\n",
              "  <tbody>\n",
              "    <tr>\n",
              "      <th>Click</th>\n",
              "      <td>42</td>\n",
              "      <td>53</td>\n",
              "      <td>21</td>\n",
              "      <td>38</td>\n",
              "      <td>45</td>\n",
              "      <td>199</td>\n",
              "    </tr>\n",
              "    <tr>\n",
              "      <th>No-click</th>\n",
              "      <td>10241</td>\n",
              "      <td>2689</td>\n",
              "      <td>2726</td>\n",
              "      <td>3142</td>\n",
              "      <td>2019</td>\n",
              "      <td>20817</td>\n",
              "    </tr>\n",
              "    <tr>\n",
              "      <th>Total</th>\n",
              "      <td>10283</td>\n",
              "      <td>2742</td>\n",
              "      <td>2747</td>\n",
              "      <td>3180</td>\n",
              "      <td>2064</td>\n",
              "      <td>21016</td>\n",
              "    </tr>\n",
              "  </tbody>\n",
              "</table>\n",
              "</div>\n",
              "      <button class=\"colab-df-convert\" onclick=\"convertToInteractive('df-872f1ccb-62b4-46ce-9933-305543365604')\"\n",
              "              title=\"Convert this dataframe to an interactive table.\"\n",
              "              style=\"display:none;\">\n",
              "        \n",
              "  <svg xmlns=\"http://www.w3.org/2000/svg\" height=\"24px\"viewBox=\"0 0 24 24\"\n",
              "       width=\"24px\">\n",
              "    <path d=\"M0 0h24v24H0V0z\" fill=\"none\"/>\n",
              "    <path d=\"M18.56 5.44l.94 2.06.94-2.06 2.06-.94-2.06-.94-.94-2.06-.94 2.06-2.06.94zm-11 1L8.5 8.5l.94-2.06 2.06-.94-2.06-.94L8.5 2.5l-.94 2.06-2.06.94zm10 10l.94 2.06.94-2.06 2.06-.94-2.06-.94-.94-2.06-.94 2.06-2.06.94z\"/><path d=\"M17.41 7.96l-1.37-1.37c-.4-.4-.92-.59-1.43-.59-.52 0-1.04.2-1.43.59L10.3 9.45l-7.72 7.72c-.78.78-.78 2.05 0 2.83L4 21.41c.39.39.9.59 1.41.59.51 0 1.02-.2 1.41-.59l7.78-7.78 2.81-2.81c.8-.78.8-2.07 0-2.86zM5.41 20L4 18.59l7.72-7.72 1.47 1.35L5.41 20z\"/>\n",
              "  </svg>\n",
              "      </button>\n",
              "      \n",
              "  <style>\n",
              "    .colab-df-container {\n",
              "      display:flex;\n",
              "      flex-wrap:wrap;\n",
              "      gap: 12px;\n",
              "    }\n",
              "\n",
              "    .colab-df-convert {\n",
              "      background-color: #E8F0FE;\n",
              "      border: none;\n",
              "      border-radius: 50%;\n",
              "      cursor: pointer;\n",
              "      display: none;\n",
              "      fill: #1967D2;\n",
              "      height: 32px;\n",
              "      padding: 0 0 0 0;\n",
              "      width: 32px;\n",
              "    }\n",
              "\n",
              "    .colab-df-convert:hover {\n",
              "      background-color: #E2EBFA;\n",
              "      box-shadow: 0px 1px 2px rgba(60, 64, 67, 0.3), 0px 1px 3px 1px rgba(60, 64, 67, 0.15);\n",
              "      fill: #174EA6;\n",
              "    }\n",
              "\n",
              "    [theme=dark] .colab-df-convert {\n",
              "      background-color: #3B4455;\n",
              "      fill: #D2E3FC;\n",
              "    }\n",
              "\n",
              "    [theme=dark] .colab-df-convert:hover {\n",
              "      background-color: #434B5C;\n",
              "      box-shadow: 0px 1px 3px 1px rgba(0, 0, 0, 0.15);\n",
              "      filter: drop-shadow(0px 1px 2px rgba(0, 0, 0, 0.3));\n",
              "      fill: #FFFFFF;\n",
              "    }\n",
              "  </style>\n",
              "\n",
              "      <script>\n",
              "        const buttonEl =\n",
              "          document.querySelector('#df-872f1ccb-62b4-46ce-9933-305543365604 button.colab-df-convert');\n",
              "        buttonEl.style.display =\n",
              "          google.colab.kernel.accessAllowed ? 'block' : 'none';\n",
              "\n",
              "        async function convertToInteractive(key) {\n",
              "          const element = document.querySelector('#df-872f1ccb-62b4-46ce-9933-305543365604');\n",
              "          const dataTable =\n",
              "            await google.colab.kernel.invokeFunction('convertToInteractive',\n",
              "                                                     [key], {});\n",
              "          if (!dataTable) return;\n",
              "\n",
              "          const docLinkHtml = 'Like what you see? Visit the ' +\n",
              "            '<a target=\"_blank\" href=https://colab.research.google.com/notebooks/data_table.ipynb>data table notebook</a>'\n",
              "            + ' to learn more about interactive tables.';\n",
              "          element.innerHTML = '';\n",
              "          dataTable['output_type'] = 'display_data';\n",
              "          await google.colab.output.renderOutput(dataTable, element);\n",
              "          const docLink = document.createElement('div');\n",
              "          docLink.innerHTML = docLinkHtml;\n",
              "          element.appendChild(docLink);\n",
              "        }\n",
              "      </script>\n",
              "    </div>\n",
              "  </div>\n",
              "  "
            ]
          },
          "metadata": {},
          "execution_count": 12
        }
      ]
    },
    {
      "cell_type": "code",
      "source": [
        "# For reasons of clarity, we get the largest index of the observed_expanded dataframe and assign it to a variable.\n",
        "max_row_index = len(observed_expanded.index)-1\n",
        "max_row_index"
      ],
      "metadata": {
        "colab": {
          "base_uri": "https://localhost:8080/"
        },
        "id": "ofxhMK3mlFTR",
        "outputId": "f9c793e9-8238-4313-8e58-7a80dc3d84e5"
      },
      "execution_count": null,
      "outputs": [
        {
          "output_type": "execute_result",
          "data": {
            "text/plain": [
              "2"
            ]
          },
          "metadata": {},
          "execution_count": 13
        }
      ]
    },
    {
      "cell_type": "code",
      "source": [
        "# For reasons of clarity, we get the largest index of the observed_expanded dataframe columns and assign it to a variable.\n",
        "max_column_index = len(observed_expanded.columns)-1\n",
        "max_column_index"
      ],
      "metadata": {
        "colab": {
          "base_uri": "https://localhost:8080/"
        },
        "id": "gCjX79oulHI3",
        "outputId": "914f0152-a3fd-4e77-922c-9865f2397f48"
      },
      "execution_count": null,
      "outputs": [
        {
          "output_type": "execute_result",
          "data": {
            "text/plain": [
              "5"
            ]
          },
          "metadata": {},
          "execution_count": 14
        }
      ]
    },
    {
      "cell_type": "code",
      "source": [
        "# Create table for the expected values as a copy of the observed table.\n",
        "# We will overwrite the values in the cells with the code below.\n",
        "expected = observed.copy()\n",
        "\n",
        "# Iterating over the rows in the table.\n",
        "for i in range(expected.shape[0]):\n",
        "  # Iterating over the columns in the table.\n",
        "  for j in range(expected.shape[1]):\n",
        "    # Setting the value in each cell to be equal to:\n",
        "    # the Total value of that same columns in the observed_expanded table\n",
        "    # (i.e. the total visitors of that version),\n",
        "    # multiplied by the share of that row's total from the overall total\n",
        "    # (i.e. the share of clicks/no-clicks from the overall total number of visitors) \n",
        "    expected.iloc[i,j] = observed_expanded.iloc[max_row_index,j] * (observed_expanded.iloc[i,max_column_index]/observed_expanded.iloc[max_row_index,max_column_index])\n",
        "\n",
        "expected"
      ],
      "metadata": {
        "colab": {
          "base_uri": "https://localhost:8080/",
          "height": 112
        },
        "id": "4lw1EsywlKLB",
        "outputId": "54d8de33-4253-4d7f-ad41-32b642bb93e6"
      },
      "execution_count": null,
      "outputs": [
        {
          "output_type": "execute_result",
          "data": {
            "text/plain": [
              "             Interact      Connect        Learn         Help     Services\n",
              "Click        97.36948    25.963932    26.011277    30.111344    19.543967\n",
              "No-click  10185.63052  2716.036068  2720.988723  3149.888656  2044.456033"
            ],
            "text/html": [
              "\n",
              "  <div id=\"df-305e549d-f144-4df9-b1b5-24478e430237\">\n",
              "    <div class=\"colab-df-container\">\n",
              "      <div>\n",
              "<style scoped>\n",
              "    .dataframe tbody tr th:only-of-type {\n",
              "        vertical-align: middle;\n",
              "    }\n",
              "\n",
              "    .dataframe tbody tr th {\n",
              "        vertical-align: top;\n",
              "    }\n",
              "\n",
              "    .dataframe thead th {\n",
              "        text-align: right;\n",
              "    }\n",
              "</style>\n",
              "<table border=\"1\" class=\"dataframe\">\n",
              "  <thead>\n",
              "    <tr style=\"text-align: right;\">\n",
              "      <th></th>\n",
              "      <th>Interact</th>\n",
              "      <th>Connect</th>\n",
              "      <th>Learn</th>\n",
              "      <th>Help</th>\n",
              "      <th>Services</th>\n",
              "    </tr>\n",
              "  </thead>\n",
              "  <tbody>\n",
              "    <tr>\n",
              "      <th>Click</th>\n",
              "      <td>97.36948</td>\n",
              "      <td>25.963932</td>\n",
              "      <td>26.011277</td>\n",
              "      <td>30.111344</td>\n",
              "      <td>19.543967</td>\n",
              "    </tr>\n",
              "    <tr>\n",
              "      <th>No-click</th>\n",
              "      <td>10185.63052</td>\n",
              "      <td>2716.036068</td>\n",
              "      <td>2720.988723</td>\n",
              "      <td>3149.888656</td>\n",
              "      <td>2044.456033</td>\n",
              "    </tr>\n",
              "  </tbody>\n",
              "</table>\n",
              "</div>\n",
              "      <button class=\"colab-df-convert\" onclick=\"convertToInteractive('df-305e549d-f144-4df9-b1b5-24478e430237')\"\n",
              "              title=\"Convert this dataframe to an interactive table.\"\n",
              "              style=\"display:none;\">\n",
              "        \n",
              "  <svg xmlns=\"http://www.w3.org/2000/svg\" height=\"24px\"viewBox=\"0 0 24 24\"\n",
              "       width=\"24px\">\n",
              "    <path d=\"M0 0h24v24H0V0z\" fill=\"none\"/>\n",
              "    <path d=\"M18.56 5.44l.94 2.06.94-2.06 2.06-.94-2.06-.94-.94-2.06-.94 2.06-2.06.94zm-11 1L8.5 8.5l.94-2.06 2.06-.94-2.06-.94L8.5 2.5l-.94 2.06-2.06.94zm10 10l.94 2.06.94-2.06 2.06-.94-2.06-.94-.94-2.06-.94 2.06-2.06.94z\"/><path d=\"M17.41 7.96l-1.37-1.37c-.4-.4-.92-.59-1.43-.59-.52 0-1.04.2-1.43.59L10.3 9.45l-7.72 7.72c-.78.78-.78 2.05 0 2.83L4 21.41c.39.39.9.59 1.41.59.51 0 1.02-.2 1.41-.59l7.78-7.78 2.81-2.81c.8-.78.8-2.07 0-2.86zM5.41 20L4 18.59l7.72-7.72 1.47 1.35L5.41 20z\"/>\n",
              "  </svg>\n",
              "      </button>\n",
              "      \n",
              "  <style>\n",
              "    .colab-df-container {\n",
              "      display:flex;\n",
              "      flex-wrap:wrap;\n",
              "      gap: 12px;\n",
              "    }\n",
              "\n",
              "    .colab-df-convert {\n",
              "      background-color: #E8F0FE;\n",
              "      border: none;\n",
              "      border-radius: 50%;\n",
              "      cursor: pointer;\n",
              "      display: none;\n",
              "      fill: #1967D2;\n",
              "      height: 32px;\n",
              "      padding: 0 0 0 0;\n",
              "      width: 32px;\n",
              "    }\n",
              "\n",
              "    .colab-df-convert:hover {\n",
              "      background-color: #E2EBFA;\n",
              "      box-shadow: 0px 1px 2px rgba(60, 64, 67, 0.3), 0px 1px 3px 1px rgba(60, 64, 67, 0.15);\n",
              "      fill: #174EA6;\n",
              "    }\n",
              "\n",
              "    [theme=dark] .colab-df-convert {\n",
              "      background-color: #3B4455;\n",
              "      fill: #D2E3FC;\n",
              "    }\n",
              "\n",
              "    [theme=dark] .colab-df-convert:hover {\n",
              "      background-color: #434B5C;\n",
              "      box-shadow: 0px 1px 3px 1px rgba(0, 0, 0, 0.15);\n",
              "      filter: drop-shadow(0px 1px 2px rgba(0, 0, 0, 0.3));\n",
              "      fill: #FFFFFF;\n",
              "    }\n",
              "  </style>\n",
              "\n",
              "      <script>\n",
              "        const buttonEl =\n",
              "          document.querySelector('#df-305e549d-f144-4df9-b1b5-24478e430237 button.colab-df-convert');\n",
              "        buttonEl.style.display =\n",
              "          google.colab.kernel.accessAllowed ? 'block' : 'none';\n",
              "\n",
              "        async function convertToInteractive(key) {\n",
              "          const element = document.querySelector('#df-305e549d-f144-4df9-b1b5-24478e430237');\n",
              "          const dataTable =\n",
              "            await google.colab.kernel.invokeFunction('convertToInteractive',\n",
              "                                                     [key], {});\n",
              "          if (!dataTable) return;\n",
              "\n",
              "          const docLinkHtml = 'Like what you see? Visit the ' +\n",
              "            '<a target=\"_blank\" href=https://colab.research.google.com/notebooks/data_table.ipynb>data table notebook</a>'\n",
              "            + ' to learn more about interactive tables.';\n",
              "          element.innerHTML = '';\n",
              "          dataTable['output_type'] = 'display_data';\n",
              "          await google.colab.output.renderOutput(dataTable, element);\n",
              "          const docLink = document.createElement('div');\n",
              "          docLink.innerHTML = docLinkHtml;\n",
              "          element.appendChild(docLink);\n",
              "        }\n",
              "      </script>\n",
              "    </div>\n",
              "  </div>\n",
              "  "
            ]
          },
          "metadata": {},
          "execution_count": 15
        }
      ]
    },
    {
      "cell_type": "markdown",
      "source": [
        "There are at least 8 observations expected in each of the cells.\n",
        "\n",
        "Condition fulfilled."
      ],
      "metadata": {
        "id": "eK_50keNlXKX"
      }
    },
    {
      "cell_type": "markdown",
      "source": [
        "## 5.&nbsp;Decide on the appropriate test to use and the associated test statistic."
      ],
      "metadata": {
        "id": "hD-TrGVumeXx"
      }
    },
    {
      "cell_type": "markdown",
      "source": [
        "Comparing the observed frequencies to the expected frequencies in one or more categories of a contingency table is done using a **Chi-squared test**.\n",
        "\n",
        "We will spare you the formula of the test statistic this time."
      ],
      "metadata": {
        "id": "NCKSOeT2mlCg"
      }
    },
    {
      "cell_type": "markdown",
      "source": [
        "## 6.&nbsp;Derive the distribution of the test statistic under the Null Hypothesis from the assumptions."
      ],
      "metadata": {
        "id": "fg-fh5GPmr1P"
      }
    },
    {
      "cell_type": "markdown",
      "source": [
        "The chi-squared test statistic follows a chi-squared distribution with c degrees of freedom.\n",
        "The shape of the contingency table determines c:\n",
        "\n",
        "c = (number of rows - 1) * (number of columns - 1)"
      ],
      "metadata": {
        "id": "kmVXZ4K4mxbZ"
      }
    },
    {
      "cell_type": "code",
      "source": [
        "# We can get totally this from scipy, let's just calculate it manually for fun.\n",
        "degrees_of_freedom = (observed.shape[0] - 1) * (observed.shape[1] - 1)\n",
        "degrees_of_freedom"
      ],
      "metadata": {
        "colab": {
          "base_uri": "https://localhost:8080/"
        },
        "id": "7En28YhtnX_Z",
        "outputId": "5bdb848e-9fd9-43c3-f4b8-721e8e3a8bbb"
      },
      "execution_count": null,
      "outputs": [
        {
          "output_type": "execute_result",
          "data": {
            "text/plain": [
              "4"
            ]
          },
          "metadata": {},
          "execution_count": 13
        }
      ]
    },
    {
      "cell_type": "markdown",
      "metadata": {
        "id": "8iXWEk2mQHP5"
      },
      "source": [
        "## 7.&nbsp;Compute the test statistic using the data set."
      ]
    },
    {
      "cell_type": "code",
      "execution_count": null,
      "metadata": {
        "colab": {
          "base_uri": "https://localhost:8080/"
        },
        "id": "2b-wAkscQHP5",
        "outputId": "ce638f50-4738-496f-f795-09289a1add4a"
      },
      "outputs": [
        {
          "output_type": "stream",
          "name": "stdout",
          "text": [
            "test statistic: 96.7432353798328\n"
          ]
        }
      ],
      "source": [
        "from scipy import stats\n",
        "chisq, pvalue, df, expected = stats.chi2_contingency(observed)\n",
        "print(\"test statistic:\", chisq)"
      ]
    },
    {
      "cell_type": "markdown",
      "source": [
        "## 8.&nbsp;Derive the p-value."
      ],
      "metadata": {
        "id": "8onHIuzKoIEO"
      }
    },
    {
      "cell_type": "markdown",
      "source": [
        "This step differs a bit from step 8 in the manual approach. As we saw earlier, it is possible to:\n",
        "- compare the test statistic to the critical value(s)/region(s) or\n",
        "- compare the p-value to alpha.\n",
        "\n",
        "Since scipy gives us the p-value nice and easy, we will choose this approach."
      ],
      "metadata": {
        "id": "E-kjlNzsoVBN"
      }
    },
    {
      "cell_type": "code",
      "execution_count": null,
      "metadata": {
        "colab": {
          "base_uri": "https://localhost:8080/"
        },
        "id": "dUuTgzmPQHP5",
        "outputId": "73565f55-3ed9-496e-a5f5-5d517c1f3ba1"
      },
      "outputs": [
        {
          "output_type": "execute_result",
          "data": {
            "text/plain": [
              "4.852334301093838e-20"
            ]
          },
          "metadata": {},
          "execution_count": 20
        }
      ],
      "source": [
        "pvalue"
      ]
    },
    {
      "cell_type": "markdown",
      "source": [
        "## 9.&nbsp;Compare the p-value and alpha."
      ],
      "metadata": {
        "id": "Gq_wK-NYo6M0"
      }
    },
    {
      "cell_type": "markdown",
      "source": [
        "Remember: alpha = 0.1."
      ],
      "metadata": {
        "id": "taQC38kQpIAv"
      }
    },
    {
      "cell_type": "code",
      "source": [
        "if pvalue > alpha:\n",
        "  print(\"The p-value is larger than alpha.\")\n",
        "else:\n",
        "  print(\"The p-value is smaller than alpha.\")"
      ],
      "metadata": {
        "colab": {
          "base_uri": "https://localhost:8080/"
        },
        "id": "eiEVFSiMpKNG",
        "outputId": "9778d08d-3eac-4fc6-c6ea-8191d54416d3"
      },
      "execution_count": null,
      "outputs": [
        {
          "output_type": "stream",
          "name": "stdout",
          "text": [
            "The p-value is smaller than alpha.\n"
          ]
        }
      ]
    },
    {
      "cell_type": "markdown",
      "source": [
        "Does this mean that we should reject the Null Hypothesis - or not?"
      ],
      "metadata": {
        "id": "dCnDx6g9pSAJ"
      }
    },
    {
      "cell_type": "markdown",
      "source": [
        "Since the p-value is (much) smaller than alpha, we reject the Null Hypothesis.\n",
        "\n",
        "> Remember: **If p is low, the Null must go!**\n",
        "\n",
        "This means that at least one of the five different versions performed significantly better or worse than the others."
      ],
      "metadata": {
        "id": "Siew9N4kpUw7"
      }
    },
    {
      "cell_type": "markdown",
      "metadata": {
        "id": "hFGzapmDQHP6"
      },
      "source": [
        "# But how do we decide who's the winner?\n",
        "\n",
        "If you feel very brave, read about [Post Hoc Tests](https://alanarnholt.github.io/PDS-Bookdown2/post-hoc-tests-1.html) and find out whether we can declare a clear winner.\n",
        "\n",
        "Otherwise, just go on in the notebook."
      ]
    },
    {
      "cell_type": "code",
      "execution_count": null,
      "metadata": {
        "colab": {
          "base_uri": "https://localhost:8080/",
          "height": 206
        },
        "id": "l_fU6btSQHP6",
        "outputId": "55e093c2-a768-45c8-cb2b-59544b1e9e7d"
      },
      "outputs": [
        {
          "output_type": "execute_result",
          "data": {
            "text/plain": [
              "      rates     names\n",
              "4  0.021802  Services\n",
              "1  0.019329   Connect\n",
              "3  0.011950      Help\n",
              "2  0.007645     Learn\n",
              "0  0.004084  Interact"
            ],
            "text/html": [
              "\n",
              "  <div id=\"df-83005879-8c9a-40d7-8aec-4ea76ced3ce3\">\n",
              "    <div class=\"colab-df-container\">\n",
              "      <div>\n",
              "<style scoped>\n",
              "    .dataframe tbody tr th:only-of-type {\n",
              "        vertical-align: middle;\n",
              "    }\n",
              "\n",
              "    .dataframe tbody tr th {\n",
              "        vertical-align: top;\n",
              "    }\n",
              "\n",
              "    .dataframe thead th {\n",
              "        text-align: right;\n",
              "    }\n",
              "</style>\n",
              "<table border=\"1\" class=\"dataframe\">\n",
              "  <thead>\n",
              "    <tr style=\"text-align: right;\">\n",
              "      <th></th>\n",
              "      <th>rates</th>\n",
              "      <th>names</th>\n",
              "    </tr>\n",
              "  </thead>\n",
              "  <tbody>\n",
              "    <tr>\n",
              "      <th>4</th>\n",
              "      <td>0.021802</td>\n",
              "      <td>Services</td>\n",
              "    </tr>\n",
              "    <tr>\n",
              "      <th>1</th>\n",
              "      <td>0.019329</td>\n",
              "      <td>Connect</td>\n",
              "    </tr>\n",
              "    <tr>\n",
              "      <th>3</th>\n",
              "      <td>0.011950</td>\n",
              "      <td>Help</td>\n",
              "    </tr>\n",
              "    <tr>\n",
              "      <th>2</th>\n",
              "      <td>0.007645</td>\n",
              "      <td>Learn</td>\n",
              "    </tr>\n",
              "    <tr>\n",
              "      <th>0</th>\n",
              "      <td>0.004084</td>\n",
              "      <td>Interact</td>\n",
              "    </tr>\n",
              "  </tbody>\n",
              "</table>\n",
              "</div>\n",
              "      <button class=\"colab-df-convert\" onclick=\"convertToInteractive('df-83005879-8c9a-40d7-8aec-4ea76ced3ce3')\"\n",
              "              title=\"Convert this dataframe to an interactive table.\"\n",
              "              style=\"display:none;\">\n",
              "        \n",
              "  <svg xmlns=\"http://www.w3.org/2000/svg\" height=\"24px\"viewBox=\"0 0 24 24\"\n",
              "       width=\"24px\">\n",
              "    <path d=\"M0 0h24v24H0V0z\" fill=\"none\"/>\n",
              "    <path d=\"M18.56 5.44l.94 2.06.94-2.06 2.06-.94-2.06-.94-.94-2.06-.94 2.06-2.06.94zm-11 1L8.5 8.5l.94-2.06 2.06-.94-2.06-.94L8.5 2.5l-.94 2.06-2.06.94zm10 10l.94 2.06.94-2.06 2.06-.94-2.06-.94-.94-2.06-.94 2.06-2.06.94z\"/><path d=\"M17.41 7.96l-1.37-1.37c-.4-.4-.92-.59-1.43-.59-.52 0-1.04.2-1.43.59L10.3 9.45l-7.72 7.72c-.78.78-.78 2.05 0 2.83L4 21.41c.39.39.9.59 1.41.59.51 0 1.02-.2 1.41-.59l7.78-7.78 2.81-2.81c.8-.78.8-2.07 0-2.86zM5.41 20L4 18.59l7.72-7.72 1.47 1.35L5.41 20z\"/>\n",
              "  </svg>\n",
              "      </button>\n",
              "      \n",
              "  <style>\n",
              "    .colab-df-container {\n",
              "      display:flex;\n",
              "      flex-wrap:wrap;\n",
              "      gap: 12px;\n",
              "    }\n",
              "\n",
              "    .colab-df-convert {\n",
              "      background-color: #E8F0FE;\n",
              "      border: none;\n",
              "      border-radius: 50%;\n",
              "      cursor: pointer;\n",
              "      display: none;\n",
              "      fill: #1967D2;\n",
              "      height: 32px;\n",
              "      padding: 0 0 0 0;\n",
              "      width: 32px;\n",
              "    }\n",
              "\n",
              "    .colab-df-convert:hover {\n",
              "      background-color: #E2EBFA;\n",
              "      box-shadow: 0px 1px 2px rgba(60, 64, 67, 0.3), 0px 1px 3px 1px rgba(60, 64, 67, 0.15);\n",
              "      fill: #174EA6;\n",
              "    }\n",
              "\n",
              "    [theme=dark] .colab-df-convert {\n",
              "      background-color: #3B4455;\n",
              "      fill: #D2E3FC;\n",
              "    }\n",
              "\n",
              "    [theme=dark] .colab-df-convert:hover {\n",
              "      background-color: #434B5C;\n",
              "      box-shadow: 0px 1px 3px 1px rgba(0, 0, 0, 0.15);\n",
              "      filter: drop-shadow(0px 1px 2px rgba(0, 0, 0, 0.3));\n",
              "      fill: #FFFFFF;\n",
              "    }\n",
              "  </style>\n",
              "\n",
              "      <script>\n",
              "        const buttonEl =\n",
              "          document.querySelector('#df-83005879-8c9a-40d7-8aec-4ea76ced3ce3 button.colab-df-convert');\n",
              "        buttonEl.style.display =\n",
              "          google.colab.kernel.accessAllowed ? 'block' : 'none';\n",
              "\n",
              "        async function convertToInteractive(key) {\n",
              "          const element = document.querySelector('#df-83005879-8c9a-40d7-8aec-4ea76ced3ce3');\n",
              "          const dataTable =\n",
              "            await google.colab.kernel.invokeFunction('convertToInteractive',\n",
              "                                                     [key], {});\n",
              "          if (!dataTable) return;\n",
              "\n",
              "          const docLinkHtml = 'Like what you see? Visit the ' +\n",
              "            '<a target=\"_blank\" href=https://colab.research.google.com/notebooks/data_table.ipynb>data table notebook</a>'\n",
              "            + ' to learn more about interactive tables.';\n",
              "          element.innerHTML = '';\n",
              "          dataTable['output_type'] = 'display_data';\n",
              "          await google.colab.output.renderOutput(dataTable, element);\n",
              "          const docLink = document.createElement('div');\n",
              "          docLink.innerHTML = docLinkHtml;\n",
              "          element.appendChild(docLink);\n",
              "        }\n",
              "      </script>\n",
              "    </div>\n",
              "  </div>\n",
              "  "
            ]
          },
          "metadata": {},
          "execution_count": 23
        }
      ],
      "source": [
        "ctr_df.sort_values(\"rates\", ascending=False)"
      ]
    },
    {
      "cell_type": "markdown",
      "metadata": {
        "id": "rCbCfoogQHP6"
      },
      "source": [
        "We have 10 possible dual tests to perform:\n",
        "* Interact - Learn\n",
        "* Interact - Help\n",
        "* Interact - Connect\n",
        "* Interact - Services\n",
        "* Learn - Help\n",
        "* Learn - Connect\n",
        "* Learn - Services\n",
        "* Help - Connect\n",
        "* Help - Services\n",
        "* Connect - Services"
      ]
    },
    {
      "cell_type": "markdown",
      "source": [
        "The main takeaway from the post-hoc tests should be that the level of alpha we selected for the chi-squared test cannot be maintained for the dual tests. If there was an error of 10% in each of the tests, the total would sum up to much more than the 10% total we set for alpha, so we will need to be much more restrictive in the dual tests.\n",
        "\n",
        "Therefore, we will split the value chosen for alpha equally among the dual tests to be performed."
      ],
      "metadata": {
        "id": "92PK-gr0qZrp"
      }
    },
    {
      "cell_type": "code",
      "execution_count": null,
      "metadata": {
        "colab": {
          "base_uri": "https://localhost:8080/"
        },
        "id": "QwKOK4eUQHP7",
        "outputId": "d9dc4dd8-8d65-4bab-df55-263385253137"
      },
      "outputs": [
        {
          "output_type": "execute_result",
          "data": {
            "text/plain": [
              "0.01"
            ]
          },
          "metadata": {},
          "execution_count": 24
        }
      ],
      "source": [
        "possible_combinations = 10\n",
        "alpha_post_hoc = alpha / possible_combinations\n",
        "np.round(alpha_post_hoc, 4)"
      ]
    },
    {
      "cell_type": "markdown",
      "metadata": {
        "id": "078NGyKqQHP7"
      },
      "source": [
        "Let's do the 10 pair-wise tests, and pay close attention to the best performing version.\n",
        "\n",
        "For each of the tests, we print\n",
        "- the p-value and\n",
        "- True if the p-value is smaller than the alpha -> reject the Null Hypothesis\n",
        "- False if the p-value is greater than the alpha -> do not reject the Null Hypothesis"
      ]
    },
    {
      "cell_type": "code",
      "execution_count": null,
      "metadata": {
        "collapsed": true,
        "jupyter": {
          "outputs_hidden": true,
          "source_hidden": true
        },
        "colab": {
          "base_uri": "https://localhost:8080/"
        },
        "id": "LVu4jwWcQHP7",
        "outputId": "b4299d5c-f6c9-49e0-88f7-b734e12db90a"
      },
      "outputs": [
        {
          "output_type": "stream",
          "name": "stdout",
          "text": [
            "2.2250331654688293e-16\n",
            "True\n"
          ]
        }
      ],
      "source": [
        "# interact vs connect\n",
        "chisq, pvalue, df, expected = stats.chi2_contingency(observed.loc[:, [\"Interact\", \"Connect\"]])\n",
        "print(pvalue)\n",
        "print(pvalue < alpha_post_hoc)"
      ]
    },
    {
      "cell_type": "code",
      "execution_count": null,
      "metadata": {
        "collapsed": true,
        "jupyter": {
          "outputs_hidden": true,
          "source_hidden": true
        },
        "colab": {
          "base_uri": "https://localhost:8080/"
        },
        "id": "MAVsdAjIQHP7",
        "outputId": "cd01cd39-8403-468e-8f12-2b7aff907a98"
      },
      "outputs": [
        {
          "output_type": "stream",
          "name": "stdout",
          "text": [
            "0.025419824342152637\n",
            "False\n"
          ]
        }
      ],
      "source": [
        "# interact vs learn\n",
        "chisq, pvalue, df, expected = stats.chi2_contingency(observed.loc[:, [\"Interact\", \"Learn\"]])\n",
        "print(pvalue)\n",
        "print(pvalue < alpha_post_hoc)"
      ]
    },
    {
      "cell_type": "code",
      "execution_count": null,
      "metadata": {
        "collapsed": true,
        "jupyter": {
          "outputs_hidden": true,
          "source_hidden": true
        },
        "colab": {
          "base_uri": "https://localhost:8080/"
        },
        "id": "wss3ENH3QHP8",
        "outputId": "56795807-f651-4479-d2f0-3ce3ef86a98b"
      },
      "outputs": [
        {
          "output_type": "stream",
          "name": "stdout",
          "text": [
            "9.03599988558687e-07\n",
            "True\n"
          ]
        }
      ],
      "source": [
        "# interact vs help\n",
        "chisq, pvalue, df, expected = stats.chi2_contingency(observed.loc[:, [\"Interact\", \"Help\"]])\n",
        "print(pvalue)\n",
        "print(pvalue < alpha_post_hoc)"
      ]
    },
    {
      "cell_type": "code",
      "execution_count": null,
      "metadata": {
        "collapsed": true,
        "jupyter": {
          "outputs_hidden": true,
          "source_hidden": true
        },
        "colab": {
          "base_uri": "https://localhost:8080/"
        },
        "id": "STOju9UAQHP8",
        "outputId": "15561be9-3ec9-4586-a7ec-2dd0f02eb0ba"
      },
      "outputs": [
        {
          "output_type": "stream",
          "name": "stdout",
          "text": [
            "0.00027678881264505827\n",
            "True\n"
          ]
        }
      ],
      "source": [
        "# connect vs learn\n",
        "chisq, pvalue, df, expected = stats.chi2_contingency(observed.loc[:, [\"Connect\", \"Learn\"]])\n",
        "print(pvalue)\n",
        "print(pvalue < alpha_post_hoc)"
      ]
    },
    {
      "cell_type": "code",
      "execution_count": null,
      "metadata": {
        "collapsed": true,
        "jupyter": {
          "outputs_hidden": true,
          "source_hidden": true
        },
        "colab": {
          "base_uri": "https://localhost:8080/"
        },
        "id": "sKdPlJh2QHP8",
        "outputId": "2f030d25-291a-4fc0-b31a-17f2ffe4382c"
      },
      "outputs": [
        {
          "output_type": "stream",
          "name": "stdout",
          "text": [
            "0.02808815288948292\n",
            "False\n"
          ]
        }
      ],
      "source": [
        "# connect vs help\n",
        "chisq, pvalue, df, expected = stats.chi2_contingency(observed.loc[:, [\"Connect\", \"Help\"]])\n",
        "print(pvalue)\n",
        "print(pvalue < alpha_post_hoc)"
      ]
    },
    {
      "cell_type": "code",
      "execution_count": null,
      "metadata": {
        "collapsed": true,
        "jupyter": {
          "outputs_hidden": true,
          "source_hidden": true
        },
        "colab": {
          "base_uri": "https://localhost:8080/"
        },
        "id": "xTa8nla9QHP8",
        "outputId": "950f4150-1c9c-4fc4-918b-757d75f6bdb4"
      },
      "outputs": [
        {
          "output_type": "stream",
          "name": "stdout",
          "text": [
            "0.12512753088691322\n",
            "False\n"
          ]
        }
      ],
      "source": [
        "# learn vs help\n",
        "chisq, pvalue, df, expected = stats.chi2_contingency(observed.loc[:, [\"Learn\", \"Help\"]])\n",
        "print(pvalue)\n",
        "print(pvalue < alpha_post_hoc)"
      ]
    },
    {
      "cell_type": "code",
      "execution_count": null,
      "metadata": {
        "collapsed": true,
        "jupyter": {
          "outputs_hidden": true,
          "source_hidden": true
        },
        "colab": {
          "base_uri": "https://localhost:8080/"
        },
        "id": "r0NwBzVkQHP8",
        "outputId": "667d99b6-16f0-4bf7-d3fe-4dd3455f59c1"
      },
      "outputs": [
        {
          "output_type": "stream",
          "name": "stdout",
          "text": [
            "5.719451224375125e-18\n",
            "True\n"
          ]
        }
      ],
      "source": [
        "# services vs interact\n",
        "chisq, pvalue, df, expected = stats.chi2_contingency(observed.loc[:, [\"Interact\", \"Services\"]])\n",
        "print(pvalue)\n",
        "print(pvalue < alpha_post_hoc)"
      ]
    },
    {
      "cell_type": "code",
      "execution_count": null,
      "metadata": {
        "collapsed": true,
        "jupyter": {
          "outputs_hidden": true,
          "source_hidden": true
        },
        "colab": {
          "base_uri": "https://localhost:8080/"
        },
        "id": "5R4Kf6XYQHP8",
        "outputId": "7a00fa80-51bc-4db2-d911-a3785f7606cb"
      },
      "outputs": [
        {
          "output_type": "stream",
          "name": "stdout",
          "text": [
            "5.0540996583731365e-05\n",
            "True\n"
          ]
        }
      ],
      "source": [
        "# services vs learn\n",
        "chisq, pvalue, df, expected = stats.chi2_contingency(observed.loc[:, [\"Learn\", \"Services\"]])\n",
        "print(pvalue)\n",
        "print(pvalue < alpha_post_hoc)"
      ]
    },
    {
      "cell_type": "code",
      "execution_count": null,
      "metadata": {
        "colab": {
          "base_uri": "https://localhost:8080/"
        },
        "id": "lJzHNqz8QHP8",
        "outputId": "d81eb177-dd65-4db0-a9cf-2cb22f820ac1"
      },
      "outputs": [
        {
          "output_type": "stream",
          "name": "stdout",
          "text": [
            "0.007370912499282061\n",
            "True\n"
          ]
        }
      ],
      "source": [
        "# services vs help\n",
        "chisq, pvalue, df, expected = stats.chi2_contingency(observed.loc[:, [\"Help\", \"Services\"]])\n",
        "print(pvalue)\n",
        "print(pvalue < alpha_post_hoc)"
      ]
    },
    {
      "cell_type": "code",
      "execution_count": null,
      "metadata": {
        "colab": {
          "base_uri": "https://localhost:8080/"
        },
        "id": "ewgNQXnyQHP9",
        "outputId": "16847081-c33f-46b8-ab50-b3910638cd43"
      },
      "outputs": [
        {
          "output_type": "stream",
          "name": "stdout",
          "text": [
            "0.6188771123975272\n",
            "False\n"
          ]
        }
      ],
      "source": [
        "# services vs connect\n",
        "chisq, pvalue, df, expected = stats.chi2_contingency(observed.loc[:, [\"Connect\", \"Services\"]])\n",
        "print(pvalue)\n",
        "print(pvalue < alpha_post_hoc)"
      ]
    },
    {
      "cell_type": "markdown",
      "metadata": {
        "id": "AcePfd5GQHP9"
      },
      "source": [
        "The difference between Services and Help, Learn and Interact is statistically significant, but the difference between Services and Connect is not.\n",
        "\n",
        "Let's look at their ordered ranking again."
      ]
    },
    {
      "cell_type": "code",
      "source": [
        "ctr_df.sort_values(\"rates\", ascending=False)"
      ],
      "metadata": {
        "colab": {
          "base_uri": "https://localhost:8080/",
          "height": 206
        },
        "id": "Wmc8tky7sDV6",
        "outputId": "fe756f27-33cc-4f83-bf96-82e7acba4f73"
      },
      "execution_count": null,
      "outputs": [
        {
          "output_type": "execute_result",
          "data": {
            "text/plain": [
              "      rates     names\n",
              "4  0.021802  Services\n",
              "1  0.019329   Connect\n",
              "3  0.011950      Help\n",
              "2  0.007645     Learn\n",
              "0  0.004084  Interact"
            ],
            "text/html": [
              "\n",
              "  <div id=\"df-60cecf4a-0904-4ead-8424-4cd3dcc71bb9\">\n",
              "    <div class=\"colab-df-container\">\n",
              "      <div>\n",
              "<style scoped>\n",
              "    .dataframe tbody tr th:only-of-type {\n",
              "        vertical-align: middle;\n",
              "    }\n",
              "\n",
              "    .dataframe tbody tr th {\n",
              "        vertical-align: top;\n",
              "    }\n",
              "\n",
              "    .dataframe thead th {\n",
              "        text-align: right;\n",
              "    }\n",
              "</style>\n",
              "<table border=\"1\" class=\"dataframe\">\n",
              "  <thead>\n",
              "    <tr style=\"text-align: right;\">\n",
              "      <th></th>\n",
              "      <th>rates</th>\n",
              "      <th>names</th>\n",
              "    </tr>\n",
              "  </thead>\n",
              "  <tbody>\n",
              "    <tr>\n",
              "      <th>4</th>\n",
              "      <td>0.021802</td>\n",
              "      <td>Services</td>\n",
              "    </tr>\n",
              "    <tr>\n",
              "      <th>1</th>\n",
              "      <td>0.019329</td>\n",
              "      <td>Connect</td>\n",
              "    </tr>\n",
              "    <tr>\n",
              "      <th>3</th>\n",
              "      <td>0.011950</td>\n",
              "      <td>Help</td>\n",
              "    </tr>\n",
              "    <tr>\n",
              "      <th>2</th>\n",
              "      <td>0.007645</td>\n",
              "      <td>Learn</td>\n",
              "    </tr>\n",
              "    <tr>\n",
              "      <th>0</th>\n",
              "      <td>0.004084</td>\n",
              "      <td>Interact</td>\n",
              "    </tr>\n",
              "  </tbody>\n",
              "</table>\n",
              "</div>\n",
              "      <button class=\"colab-df-convert\" onclick=\"convertToInteractive('df-60cecf4a-0904-4ead-8424-4cd3dcc71bb9')\"\n",
              "              title=\"Convert this dataframe to an interactive table.\"\n",
              "              style=\"display:none;\">\n",
              "        \n",
              "  <svg xmlns=\"http://www.w3.org/2000/svg\" height=\"24px\"viewBox=\"0 0 24 24\"\n",
              "       width=\"24px\">\n",
              "    <path d=\"M0 0h24v24H0V0z\" fill=\"none\"/>\n",
              "    <path d=\"M18.56 5.44l.94 2.06.94-2.06 2.06-.94-2.06-.94-.94-2.06-.94 2.06-2.06.94zm-11 1L8.5 8.5l.94-2.06 2.06-.94-2.06-.94L8.5 2.5l-.94 2.06-2.06.94zm10 10l.94 2.06.94-2.06 2.06-.94-2.06-.94-.94-2.06-.94 2.06-2.06.94z\"/><path d=\"M17.41 7.96l-1.37-1.37c-.4-.4-.92-.59-1.43-.59-.52 0-1.04.2-1.43.59L10.3 9.45l-7.72 7.72c-.78.78-.78 2.05 0 2.83L4 21.41c.39.39.9.59 1.41.59.51 0 1.02-.2 1.41-.59l7.78-7.78 2.81-2.81c.8-.78.8-2.07 0-2.86zM5.41 20L4 18.59l7.72-7.72 1.47 1.35L5.41 20z\"/>\n",
              "  </svg>\n",
              "      </button>\n",
              "      \n",
              "  <style>\n",
              "    .colab-df-container {\n",
              "      display:flex;\n",
              "      flex-wrap:wrap;\n",
              "      gap: 12px;\n",
              "    }\n",
              "\n",
              "    .colab-df-convert {\n",
              "      background-color: #E8F0FE;\n",
              "      border: none;\n",
              "      border-radius: 50%;\n",
              "      cursor: pointer;\n",
              "      display: none;\n",
              "      fill: #1967D2;\n",
              "      height: 32px;\n",
              "      padding: 0 0 0 0;\n",
              "      width: 32px;\n",
              "    }\n",
              "\n",
              "    .colab-df-convert:hover {\n",
              "      background-color: #E2EBFA;\n",
              "      box-shadow: 0px 1px 2px rgba(60, 64, 67, 0.3), 0px 1px 3px 1px rgba(60, 64, 67, 0.15);\n",
              "      fill: #174EA6;\n",
              "    }\n",
              "\n",
              "    [theme=dark] .colab-df-convert {\n",
              "      background-color: #3B4455;\n",
              "      fill: #D2E3FC;\n",
              "    }\n",
              "\n",
              "    [theme=dark] .colab-df-convert:hover {\n",
              "      background-color: #434B5C;\n",
              "      box-shadow: 0px 1px 3px 1px rgba(0, 0, 0, 0.15);\n",
              "      filter: drop-shadow(0px 1px 2px rgba(0, 0, 0, 0.3));\n",
              "      fill: #FFFFFF;\n",
              "    }\n",
              "  </style>\n",
              "\n",
              "      <script>\n",
              "        const buttonEl =\n",
              "          document.querySelector('#df-60cecf4a-0904-4ead-8424-4cd3dcc71bb9 button.colab-df-convert');\n",
              "        buttonEl.style.display =\n",
              "          google.colab.kernel.accessAllowed ? 'block' : 'none';\n",
              "\n",
              "        async function convertToInteractive(key) {\n",
              "          const element = document.querySelector('#df-60cecf4a-0904-4ead-8424-4cd3dcc71bb9');\n",
              "          const dataTable =\n",
              "            await google.colab.kernel.invokeFunction('convertToInteractive',\n",
              "                                                     [key], {});\n",
              "          if (!dataTable) return;\n",
              "\n",
              "          const docLinkHtml = 'Like what you see? Visit the ' +\n",
              "            '<a target=\"_blank\" href=https://colab.research.google.com/notebooks/data_table.ipynb>data table notebook</a>'\n",
              "            + ' to learn more about interactive tables.';\n",
              "          element.innerHTML = '';\n",
              "          dataTable['output_type'] = 'display_data';\n",
              "          await google.colab.output.renderOutput(dataTable, element);\n",
              "          const docLink = document.createElement('div');\n",
              "          docLink.innerHTML = docLinkHtml;\n",
              "          element.appendChild(docLink);\n",
              "        }\n",
              "      </script>\n",
              "    </div>\n",
              "  </div>\n",
              "  "
            ]
          },
          "metadata": {},
          "execution_count": 35
        }
      ]
    },
    {
      "cell_type": "markdown",
      "source": [
        "This means that we will reject the hypothesis that Help, Learn and Interact perform just as well as Services, and will not consider them anymore.\n",
        "\n",
        "Also, this result does not let us reject the hypothesis that both Services and Connect perform equally well. Based on just these results, it is not possible to decide on the best performing version, it might be either Services or Connect."
      ],
      "metadata": {
        "id": "5OI4b2xpsP-d"
      }
    },
    {
      "cell_type": "markdown",
      "source": [
        "To decide the winner, we will therefore need to add more steps. This is where we will leave the field of statistics, and come back into the business world. The following actions might help to choose which version should be on the website in the future:\n",
        "\n",
        "- Look at other metrics besides CTR.\n",
        "- Refer to the qualitative research.\n",
        "- Ask opinions to subject-matter experts.\n",
        "- Redesign the experiment and run it again."
      ],
      "metadata": {
        "id": "v54Kx5ETsE4y"
      }
    }
  ],
  "metadata": {
    "kernelspec": {
      "display_name": "Python 3",
      "language": "python",
      "name": "python3"
    },
    "language_info": {
      "codemirror_mode": {
        "name": "ipython",
        "version": 3
      },
      "file_extension": ".py",
      "mimetype": "text/x-python",
      "name": "python",
      "nbconvert_exporter": "python",
      "pygments_lexer": "ipython3",
      "version": "3.8.5"
    },
    "colab": {
      "provenance": []
    }
  },
  "nbformat": 4,
  "nbformat_minor": 0
}