{
  "cells": [
    {
      "cell_type": "markdown",
      "metadata": {
        "id": "evJ2TrGx-IJn"
      },
      "source": [
        "# Lists\n",
        "\n",
        "As we are to become Data Scientists, we are going to need objects that can store multiple elements. In Python, the list is one of the most useful of these. You can create a list with `[]`, and separate each element with a comma:"
      ]
    },
    {
      "cell_type": "code",
      "execution_count": 1,
      "metadata": {
        "id": "2WTRWUWU-IJu"
      },
      "outputs": [],
      "source": [
        "# https://www.w3schools.com/python/python_lists.asp\n",
        "\n",
        "weekdays = [\"Monday\", \"Tuesday\", \"Wednesday\", \"Thursday\", \"Friday\"]"
      ]
    },
    {
      "cell_type": "markdown",
      "metadata": {
        "id": "PD2FdgHZ-IJv"
      },
      "source": [
        "A list can also contain numbers:"
      ]
    },
    {
      "cell_type": "code",
      "execution_count": 2,
      "metadata": {
        "id": "T8jYjrlB-IJw"
      },
      "outputs": [],
      "source": [
        "leap_years = [2000, 2004, 2008, 2012, 2016, 2020]"
      ]
    },
    {
      "cell_type": "markdown",
      "metadata": {
        "id": "ln8aKeZc-IJw"
      },
      "source": [
        "You can create a list out of something else with `list()`:"
      ]
    },
    {
      "cell_type": "code",
      "execution_count": 3,
      "metadata": {
        "id": "M3ynuQNH-IJw",
        "outputId": "4b383e52-c318-428a-fe4d-e4f7ca7cad64",
        "colab": {
          "base_uri": "https://localhost:8080/"
        }
      },
      "outputs": [
        {
          "output_type": "execute_result",
          "data": {
            "text/plain": [
              "['W', 'B', 'S', 'C', 'S']"
            ]
          },
          "metadata": {},
          "execution_count": 3
        }
      ],
      "source": [
        "# https://www.w3schools.com/python/ref_func_list.asp\n",
        "\n",
        "list(\"WBSCS\")"
      ]
    },
    {
      "cell_type": "markdown",
      "metadata": {
        "id": "H5yWiS0X-IJx"
      },
      "source": [
        "You can extract single or multiple values from a list by especifying their index inside of square brackets:"
      ]
    },
    {
      "cell_type": "code",
      "execution_count": 4,
      "metadata": {
        "id": "86cEoKzp-IJx",
        "outputId": "533cb5e8-b8cd-434c-b599-fbfa6e7ed2f3",
        "colab": {
          "base_uri": "https://localhost:8080/",
          "height": 36
        }
      },
      "outputs": [
        {
          "output_type": "execute_result",
          "data": {
            "text/plain": [
              "'Monday'"
            ],
            "application/vnd.google.colaboratory.intrinsic+json": {
              "type": "string"
            }
          },
          "metadata": {},
          "execution_count": 4
        }
      ],
      "source": [
        "weekdays[0]"
      ]
    },
    {
      "cell_type": "code",
      "execution_count": 5,
      "metadata": {
        "id": "bt9Xhvg9-IJy",
        "outputId": "b79fe64a-cdaa-4c51-a3bd-0f75887c6875",
        "colab": {
          "base_uri": "https://localhost:8080/"
        }
      },
      "outputs": [
        {
          "output_type": "execute_result",
          "data": {
            "text/plain": [
              "2020"
            ]
          },
          "metadata": {},
          "execution_count": 5
        }
      ],
      "source": [
        "leap_years[-1]"
      ]
    },
    {
      "cell_type": "code",
      "execution_count": 6,
      "metadata": {
        "id": "W_Hcp3_C-IJy",
        "outputId": "e5e3e543-834b-4704-b7f5-5a30e174bcfd",
        "colab": {
          "base_uri": "https://localhost:8080/"
        }
      },
      "outputs": [
        {
          "output_type": "execute_result",
          "data": {
            "text/plain": [
              "['Monday', 'Tuesday', 'Wednesday']"
            ]
          },
          "metadata": {},
          "execution_count": 6
        }
      ],
      "source": [
        "weekdays[0:3]"
      ]
    },
    {
      "cell_type": "markdown",
      "metadata": {
        "id": "ngqN-AnY-IJy"
      },
      "source": [
        "One of the most useful functions we will use in combination with lists is `append()`: it just adds an element at the end of the list:"
      ]
    },
    {
      "cell_type": "code",
      "execution_count": 7,
      "metadata": {
        "id": "BYfc6SML-IJz",
        "outputId": "b5d4d88c-a42f-49ac-8726-a1789230719e",
        "colab": {
          "base_uri": "https://localhost:8080/"
        }
      },
      "outputs": [
        {
          "output_type": "stream",
          "name": "stdout",
          "text": [
            "[2000, 2004, 2008, 2012, 2016, 2020, 2024]\n"
          ]
        }
      ],
      "source": [
        "# https://www.w3schools.com/python/ref_list_append.asp\n",
        "\n",
        "leap_years.append(2024)\n",
        "print(leap_years)"
      ]
    },
    {
      "cell_type": "markdown",
      "metadata": {
        "id": "Mb2QbYFE-IJz"
      },
      "source": [
        "This is possible because lists, unlike strings or numbers, are mutable: you can change them without having to define them again."
      ]
    },
    {
      "cell_type": "markdown",
      "metadata": {
        "id": "Pbow42kU-IJz"
      },
      "source": [
        "The `insert()` function does the same, but at any specified position:"
      ]
    },
    {
      "cell_type": "code",
      "execution_count": 8,
      "metadata": {
        "id": "LlX6vM1a-IJz",
        "outputId": "d24f517c-3268-402d-dc4a-b8d88ddf9270",
        "colab": {
          "base_uri": "https://localhost:8080/"
        }
      },
      "outputs": [
        {
          "output_type": "stream",
          "name": "stdout",
          "text": [
            "[1996, 2000, 2004, 2008, 2012, 2016, 2020, 2024]\n"
          ]
        }
      ],
      "source": [
        "# https://www.w3schools.com/python/ref_list_insert.asp\n",
        "\n",
        "leap_years.insert(0, 1996)\n",
        "print(leap_years)"
      ]
    },
    {
      "cell_type": "code",
      "execution_count": 9,
      "metadata": {
        "id": "CzHEG0Tu-IJ0",
        "outputId": "95c05288-7010-4308-ea51-b68eed6e0c46",
        "colab": {
          "base_uri": "https://localhost:8080/"
        }
      },
      "outputs": [
        {
          "output_type": "stream",
          "name": "stdout",
          "text": [
            "[1996, 2000, 'Happy new millenia', 2004, 2008, 2012, 2016, 2020, 2024]\n"
          ]
        }
      ],
      "source": [
        "leap_years.insert(2, \"Happy new millenia\")\n",
        "print(leap_years)"
      ]
    },
    {
      "cell_type": "markdown",
      "metadata": {
        "id": "UAvH2X8K-IJ0"
      },
      "source": [
        "As you can see, lists support elements from different data types. They're heterogeneous.\n",
        "\n",
        "There are some other built-in methods that you can use to manipulate lists. Check them out here (https://www.w3schools.com/python/python_lists_methods.asp) and complete the following exercises:"
      ]
    },
    {
      "cell_type": "code",
      "execution_count": 10,
      "metadata": {
        "id": "ll49LIKx-IJ0"
      },
      "outputs": [],
      "source": [
        "# some lists to work with\n",
        "car_brands = [\"BMW\", \"Volkswagen\", \"Mercedes\", \"Ford\", \"Apple\", \"Toyota\", \n",
        "              \"Tesla\", \"Kia\", \"Porsche\", \"Mazda\", \"Honda\", \"Jaguar\", \n",
        "              \"Mitsubishi\", \"Audi\", \"Bentley\", \"Bugatti\", \"Chrisler\"]\n",
        "\n",
        "fibonacci = [0, 1, 1, 2, 3, 5, 8, 13, 21, 34, 53, 89, 144]\n",
        "\n",
        "characters = [[\"Harry\", \"Hermoine\", \"Ron\"], \n",
        "              [\"Daenerys Targaryen\", \"Jon Snow\", \"Tyrion Lannister\", \n",
        "               \"Cercei Lannister\", \"Arya Stark\", \"Sansa Stark\"],\n",
        "              [\"Aragorn\", \"Gandalf\", \"Frodo\", \"Legolas\", \"Gollum\", \"Gimli\"],\n",
        "              [\"Walter White\", \"Jesse Pinkman\", \"Gus Fring\"]\n",
        "             ]\n",
        "\n",
        "sex_and_the_city = [\"Carrie\", \"Samantha\", \"Charlotte\", \"Miranda\"]\n",
        "\n",
        "numbers = [[1, 51, 59, 2, 95, 25, 28, 67, 14, 63, 84, 33, 56, 31, 54, 97, 77, \n",
        "            98, 46, 84, 6, 66, 86, 77, 69, 19, 77, 7, 76, 19, 59, 77, 28, 34, \n",
        "            94, 4, 45, 95, 41, 66, 5, 38, 35, 57, 84, 38, 94, 65, 45, 80, 83, \n",
        "            22, 12, 100, 52, 55, 31, 69, 29, 67, 4, 39, 87, 49, 81, 82, 96, 4, \n",
        "            85, 62, 90, 72, 70, 26, 29, 63, 48, 94, 58, 9, 49, 79, 33, 63, 41, \n",
        "            13, 90, 37, 31, 3, 11, 54, 56, 72, 91, 97, 2, 83, 82, 6]]"
      ]
    },
    {
      "cell_type": "markdown",
      "metadata": {
        "id": "xlx6IauS-IJ0"
      },
      "source": [
        "###### **Exercise 1:**\n",
        "find out the position of \"Bugatti\" in the `car_brands` list (whether it's the 3rd element, the 5th...)."
      ]
    },
    {
      "cell_type": "code",
      "execution_count": 11,
      "metadata": {
        "tags": [],
        "id": "JSOkYULM-IJ1",
        "colab": {
          "base_uri": "https://localhost:8080/"
        },
        "outputId": "382ba573-b347-4fc6-d31f-279bc09dff71"
      },
      "outputs": [
        {
          "output_type": "execute_result",
          "data": {
            "text/plain": [
              "16"
            ]
          },
          "metadata": {},
          "execution_count": 11
        }
      ],
      "source": [
        "# your code here\n",
        "bugatti_position = car_brands.index(\"Bugatti\")+1\n",
        "bugatti_position"
      ]
    },
    {
      "cell_type": "code",
      "source": [],
      "metadata": {
        "id": "QSZMV-TVrsH0"
      },
      "execution_count": null,
      "outputs": []
    },
    {
      "cell_type": "markdown",
      "metadata": {
        "id": "uY0v5oU6-IJ1"
      },
      "source": [
        "###### **Exercise 2:**\n",
        "remove \"Apple\" from the `car_brands` list."
      ]
    },
    {
      "cell_type": "code",
      "execution_count": 13,
      "metadata": {
        "id": "7P6_IQoQ-IJ1",
        "colab": {
          "base_uri": "https://localhost:8080/"
        },
        "outputId": "d3960257-3e7c-4f3c-aff7-69839681fa4c"
      },
      "outputs": [
        {
          "output_type": "execute_result",
          "data": {
            "text/plain": [
              "['BMW',\n",
              " 'Volkswagen',\n",
              " 'Mercedes',\n",
              " 'Ford',\n",
              " 'Toyota',\n",
              " 'Tesla',\n",
              " 'Kia',\n",
              " 'Porsche',\n",
              " 'Mazda',\n",
              " 'Honda',\n",
              " 'Jaguar',\n",
              " 'Mitsubishi',\n",
              " 'Audi',\n",
              " 'Bentley',\n",
              " 'Bugatti',\n",
              " 'Chrisler']"
            ]
          },
          "metadata": {},
          "execution_count": 13
        }
      ],
      "source": [
        "# your code here\n",
        "car_brands.remove(\"Apple\")\n",
        "car_brands"
      ]
    },
    {
      "cell_type": "markdown",
      "metadata": {
        "id": "FBddT04e-IJ1"
      },
      "source": [
        "###### **Exercise 3:**\n",
        "order alphabetically the `car_brands` list."
      ]
    },
    {
      "cell_type": "code",
      "execution_count": 14,
      "metadata": {
        "id": "mz9fI6tl-IJ2",
        "colab": {
          "base_uri": "https://localhost:8080/"
        },
        "outputId": "b0214fe7-6535-4f09-93fd-10dbea628a3d"
      },
      "outputs": [
        {
          "output_type": "execute_result",
          "data": {
            "text/plain": [
              "['Audi',\n",
              " 'BMW',\n",
              " 'Bentley',\n",
              " 'Bugatti',\n",
              " 'Chrisler',\n",
              " 'Ford',\n",
              " 'Honda',\n",
              " 'Jaguar',\n",
              " 'Kia',\n",
              " 'Mazda',\n",
              " 'Mercedes',\n",
              " 'Mitsubishi',\n",
              " 'Porsche',\n",
              " 'Tesla',\n",
              " 'Toyota',\n",
              " 'Volkswagen']"
            ]
          },
          "metadata": {},
          "execution_count": 14
        }
      ],
      "source": [
        "# your code here\n",
        "car_brands.sort()\n",
        "car_brands"
      ]
    },
    {
      "cell_type": "markdown",
      "metadata": {
        "id": "i9kwIGR9-IJ2"
      },
      "source": [
        "###### **Exercise 4:**\n",
        "there's a mistake in the list with fibonacci sequence, fix it."
      ]
    },
    {
      "cell_type": "code",
      "execution_count": 15,
      "metadata": {
        "id": "W8ZJ10Ui-IJ2",
        "colab": {
          "base_uri": "https://localhost:8080/"
        },
        "outputId": "b5fa125e-d929-4c07-f777-4862318d92f4"
      },
      "outputs": [
        {
          "output_type": "stream",
          "name": "stdout",
          "text": [
            "[0, 1, 1, 2, 3, 5, 8, 13, 21, 34, 55, 89, 144]\n"
          ]
        }
      ],
      "source": [
        "# your code here\n",
        "fibonacci.pop(-3)\n",
        "fibonacci.insert(10,55)\n",
        "print(fibonacci)"
      ]
    },
    {
      "cell_type": "markdown",
      "metadata": {
        "id": "TNiW1faP-IJ2"
      },
      "source": [
        "###### **Exercise 5:**\n",
        "order the `fibonacci` list descendingly."
      ]
    },
    {
      "cell_type": "code",
      "execution_count": 16,
      "metadata": {
        "id": "9WihLuby-IJ2",
        "colab": {
          "base_uri": "https://localhost:8080/"
        },
        "outputId": "22f832da-3a57-4469-e215-616cd8e5de64"
      },
      "outputs": [
        {
          "output_type": "stream",
          "name": "stdout",
          "text": [
            "[144, 89, 55, 34, 21, 13, 8, 5, 3, 2, 1, 1, 0]\n"
          ]
        }
      ],
      "source": [
        "# your code here\n",
        "fibonacci.sort(reverse = True)\n",
        "print(fibonacci)\n"
      ]
    },
    {
      "cell_type": "markdown",
      "metadata": {
        "id": "pn8eWBXx-IJ2"
      },
      "source": [
        "###### **Exercise 6:**\n",
        "add \"Hagrid\" and \"Dumbledore\" to the first list inside the `characters` list."
      ]
    },
    {
      "cell_type": "code",
      "execution_count": 19,
      "metadata": {
        "id": "gICkANM8-IJ2",
        "colab": {
          "base_uri": "https://localhost:8080/"
        },
        "outputId": "bfae6be8-9d42-417e-84b6-e5404d9343ac"
      },
      "outputs": [
        {
          "output_type": "stream",
          "name": "stdout",
          "text": [
            "[['Harry', 'Hermoine', 'Ron', 'Hagrid', 'Dumbledore'], ['Daenerys Targaryen', 'Jon Snow', 'Tyrion Lannister', 'Cercei Lannister', 'Arya Stark', 'Sansa Stark'], ['Aragorn', 'Gandalf', 'Frodo', 'Legolas', 'Gollum', 'Gimli'], ['Walter White', 'Jesse Pinkman', 'Gus Fring']]\n"
          ]
        }
      ],
      "source": [
        "# your code here\n",
        "characters[0].append(\"Hagrid\")\n",
        "characters[0].append(\"Dumbledore\")\n",
        "print(characters)"
      ]
    },
    {
      "cell_type": "markdown",
      "metadata": {
        "id": "CTKCzkdF-IJ3"
      },
      "source": [
        "###### **Exercise 7:**\n",
        "add the `sex_and_the_city` list in the `characters` list."
      ]
    },
    {
      "cell_type": "code",
      "execution_count": 20,
      "metadata": {
        "id": "iFO2iyJJ-IJ3",
        "colab": {
          "base_uri": "https://localhost:8080/"
        },
        "outputId": "30867f13-edf8-4073-fc53-cc9a91086129"
      },
      "outputs": [
        {
          "output_type": "execute_result",
          "data": {
            "text/plain": [
              "[['Harry', 'Hermoine', 'Ron', 'Hagrid', 'Dumbledore'],\n",
              " ['Daenerys Targaryen',\n",
              "  'Jon Snow',\n",
              "  'Tyrion Lannister',\n",
              "  'Cercei Lannister',\n",
              "  'Arya Stark',\n",
              "  'Sansa Stark'],\n",
              " ['Aragorn', 'Gandalf', 'Frodo', 'Legolas', 'Gollum', 'Gimli'],\n",
              " ['Walter White', 'Jesse Pinkman', 'Gus Fring'],\n",
              " ['Carrie', 'Samantha', 'Charlotte', 'Miranda']]"
            ]
          },
          "metadata": {},
          "execution_count": 20
        }
      ],
      "source": [
        "# your code here\n",
        "characters.append(sex_and_the_city)\n",
        "characters"
      ]
    },
    {
      "cell_type": "markdown",
      "metadata": {
        "id": "pPTFwOyf-IJ3"
      },
      "source": [
        "###### **Exercise 8:**\n",
        "remove all elements from the `sex_and_the_city` list."
      ]
    },
    {
      "cell_type": "code",
      "execution_count": 21,
      "metadata": {
        "id": "fqxP26tM-IJ3",
        "colab": {
          "base_uri": "https://localhost:8080/"
        },
        "outputId": "b7e7ad63-786c-40b0-808f-d5a0afc5bbfe"
      },
      "outputs": [
        {
          "output_type": "execute_result",
          "data": {
            "text/plain": [
              "[]"
            ]
          },
          "metadata": {},
          "execution_count": 21
        }
      ],
      "source": [
        "# your code here\n",
        "sex_and_the_city.clear()\n",
        "sex_and_the_city"
      ]
    },
    {
      "cell_type": "markdown",
      "metadata": {
        "id": "xMDuxfVV-IJ3"
      },
      "source": [
        "###### **Exercise 9:**\n",
        "sum all elements in the `numbers` list."
      ]
    },
    {
      "cell_type": "code",
      "execution_count": 24,
      "metadata": {
        "id": "hjxZKVTE-IJ3",
        "colab": {
          "base_uri": "https://localhost:8080/"
        },
        "outputId": "9e599e4a-884f-4ef5-f7c7-2f19979b8742"
      },
      "outputs": [
        {
          "output_type": "stream",
          "name": "stdout",
          "text": [
            "The sum of all elements is 5312\n"
          ]
        }
      ],
      "source": [
        "# your code here\n",
        "sum_all_elements = sum(numbers[0])\n",
        "#sum_all_elements\n",
        "print (\"The sum of all elements is\", sum_all_elements)"
      ]
    },
    {
      "cell_type": "markdown",
      "metadata": {
        "id": "NaXyaWbl-IJ3"
      },
      "source": [
        "###### **Exercise 10:**\n",
        "find out how many times the number `77` appears in the `numbers` list."
      ]
    },
    {
      "cell_type": "code",
      "execution_count": 27,
      "metadata": {
        "id": "fot_ZUxV-IJ3",
        "colab": {
          "base_uri": "https://localhost:8080/"
        },
        "outputId": "bd29023d-012b-4bb7-8326-72f5cf879e04"
      },
      "outputs": [
        {
          "output_type": "execute_result",
          "data": {
            "text/plain": [
              "4"
            ]
          },
          "metadata": {},
          "execution_count": 27
        }
      ],
      "source": [
        "# your code here\n",
        "repeat = numbers[0].count(77)\n",
        "repeat"
      ]
    },
    {
      "cell_type": "markdown",
      "source": [
        "# Tuples and Sets\n",
        "\n",
        "**Tuples** are almost exactly like lists, the only difference is that they're unmutable. You'll see what that means in a second. They are defined by regular parentheses `()` instead of square brackets `[]`:"
      ],
      "metadata": {
        "id": "Yv3AieQ5W54V"
      }
    },
    {
      "cell_type": "code",
      "source": [
        "my_tuple = (\"a\", \"b\", \"c\", \"d\")\n",
        "print(my_tuple)"
      ],
      "metadata": {
        "colab": {
          "base_uri": "https://localhost:8080/"
        },
        "id": "90Yca7rWKEN9",
        "outputId": "3d57bbe1-d896-41a7-fb52-b2319d36b8d1"
      },
      "execution_count": 28,
      "outputs": [
        {
          "output_type": "stream",
          "name": "stdout",
          "text": [
            "('a', 'b', 'c', 'd')\n"
          ]
        }
      ]
    },
    {
      "cell_type": "markdown",
      "source": [
        "Tuples are ordered. You can select items inside of a tuple by indexing with `[]`, just like lists:"
      ],
      "metadata": {
        "id": "HF6rQ5ZfKjoW"
      }
    },
    {
      "cell_type": "code",
      "source": [
        "my_tuple[2]"
      ],
      "metadata": {
        "colab": {
          "base_uri": "https://localhost:8080/",
          "height": 36
        },
        "id": "ywI8Ls0zKHfm",
        "outputId": "09e38936-ddfb-4662-ed3d-f49cb0ff2407"
      },
      "execution_count": 29,
      "outputs": [
        {
          "output_type": "execute_result",
          "data": {
            "text/plain": [
              "'c'"
            ],
            "application/vnd.google.colaboratory.intrinsic+json": {
              "type": "string"
            }
          },
          "metadata": {},
          "execution_count": 29
        }
      ]
    },
    {
      "cell_type": "markdown",
      "source": [
        "But you can not update the value of an element inside of a tuple. Trying to do so will result in a `TypeError`:\n",
        "\n"
      ],
      "metadata": {
        "id": "Ygt4oqOzK5xq"
      }
    },
    {
      "cell_type": "code",
      "source": [
        "my_tuple[2] = \"e\""
      ],
      "metadata": {
        "colab": {
          "base_uri": "https://localhost:8080/",
          "height": 165
        },
        "id": "Xx0D8XzWKhMl",
        "outputId": "755d685f-aff4-41ee-e6f0-4806747d1598"
      },
      "execution_count": 30,
      "outputs": [
        {
          "output_type": "error",
          "ename": "TypeError",
          "evalue": "ignored",
          "traceback": [
            "\u001b[0;31m---------------------------------------------------------------------------\u001b[0m",
            "\u001b[0;31mTypeError\u001b[0m                                 Traceback (most recent call last)",
            "\u001b[0;32m<ipython-input-30-e34fd2f38e8a>\u001b[0m in \u001b[0;36m<module>\u001b[0;34m\u001b[0m\n\u001b[0;32m----> 1\u001b[0;31m \u001b[0mmy_tuple\u001b[0m\u001b[0;34m[\u001b[0m\u001b[0;36m2\u001b[0m\u001b[0;34m]\u001b[0m \u001b[0;34m=\u001b[0m \u001b[0;34m\"e\"\u001b[0m\u001b[0;34m\u001b[0m\u001b[0;34m\u001b[0m\u001b[0m\n\u001b[0m",
            "\u001b[0;31mTypeError\u001b[0m: 'tuple' object does not support item assignment"
          ]
        }
      ]
    },
    {
      "cell_type": "code",
      "source": [
        "print(my_tuple[0])"
      ],
      "metadata": {
        "colab": {
          "base_uri": "https://localhost:8080/"
        },
        "id": "4vohqgwmdyOA",
        "outputId": "8ade02db-ca9b-471a-b462-1fa470c3fd60"
      },
      "execution_count": 31,
      "outputs": [
        {
          "output_type": "stream",
          "name": "stdout",
          "text": [
            "a\n"
          ]
        }
      ]
    },
    {
      "cell_type": "markdown",
      "source": [
        "**Sets** are collections of items, just like lists and tuples, but they have the following properties:\n",
        "\n",
        "* They're not ordered.\n",
        "* They're unchangeable.\n",
        "* They cannot contain duplicate items."
      ],
      "metadata": {
        "id": "PqltEjSlLU_X"
      }
    },
    {
      "cell_type": "code",
      "source": [
        "my_set = {1, 2, 3, 4}"
      ],
      "metadata": {
        "id": "d0krvDFxKfNd"
      },
      "execution_count": 32,
      "outputs": []
    },
    {
      "cell_type": "markdown",
      "source": [
        "If you try to include a duplicate into a set, it will simply not get stored:"
      ],
      "metadata": {
        "id": "etD845CPMSs_"
      }
    },
    {
      "cell_type": "code",
      "source": [
        "my_fibonacci_set = {1, 1, 2, 3, 5}\n",
        "print(my_fibonacci_set)"
      ],
      "metadata": {
        "colab": {
          "base_uri": "https://localhost:8080/"
        },
        "id": "AqB52ehOMQwW",
        "outputId": "36fdb4a9-d3d4-4814-c752-02c2c8ecee55"
      },
      "execution_count": 33,
      "outputs": [
        {
          "output_type": "stream",
          "name": "stdout",
          "text": [
            "{1, 2, 3, 5}\n"
          ]
        }
      ]
    },
    {
      "cell_type": "markdown",
      "source": [
        "This characteristic makes them useful to extract unique values from other python collections. You can transform another collection into a set using the `set()` function:"
      ],
      "metadata": {
        "id": "5YxifWyWMrZB"
      }
    },
    {
      "cell_type": "code",
      "source": [
        "# https://www.w3schools.com/python/ref_func_set.asp\n",
        "\n",
        "price_list = [3.99, 2.5, 9.99, 1, 4.95, \n",
        "              3, 2.5, 6, 8, 1, 9.99, 4, \n",
        "              11.25, 14, 3.99, 4, 6, 1]\n",
        "unique_prices = set(price_list)\n",
        "#print(unique_prices)\n",
        "unique_prices"
      ],
      "metadata": {
        "colab": {
          "base_uri": "https://localhost:8080/"
        },
        "id": "GncBABY0Mmdl",
        "outputId": "738adb92-2aba-46a9-aa3b-87b02c0324e2"
      },
      "execution_count": 44,
      "outputs": [
        {
          "output_type": "execute_result",
          "data": {
            "text/plain": [
              "{1, 2.5, 3, 3.99, 4, 4.95, 6, 8, 9.99, 11.25, 14}"
            ]
          },
          "metadata": {},
          "execution_count": 44
        }
      ]
    },
    {
      "cell_type": "code",
      "source": [
        "print(\n",
        "    \"There are\", len(price_list), \"prices listed, but only\",\n",
        "    len(unique_prices), \"unique price values.\"\n",
        "    )"
      ],
      "metadata": {
        "colab": {
          "base_uri": "https://localhost:8080/"
        },
        "id": "Y4JYpJ0GNMJ8",
        "outputId": "d38d26ad-87e6-45ce-eba9-58a886bb135d"
      },
      "execution_count": 35,
      "outputs": [
        {
          "output_type": "stream",
          "name": "stdout",
          "text": [
            "There are 18 prices listed, but only 11 unique price values.\n"
          ]
        }
      ]
    },
    {
      "cell_type": "markdown",
      "source": [
        "###### **Exercise 11:**\n",
        "create a tuple with 10 elements and store it in a variable named `first_tuple`."
      ],
      "metadata": {
        "id": "yJUZXN9iqkfk"
      }
    },
    {
      "cell_type": "code",
      "source": [
        "# your code here\n",
        "first_tuple = (0,1,2,3,4,5,5,4,3,2)\n",
        "print(first_tuple)"
      ],
      "metadata": {
        "id": "yhx7opXvN9rf",
        "colab": {
          "base_uri": "https://localhost:8080/"
        },
        "outputId": "c0e0a3f8-ac6b-4829-d847-1215e866051d"
      },
      "execution_count": 37,
      "outputs": [
        {
          "output_type": "stream",
          "name": "stdout",
          "text": [
            "(0, 1, 2, 3, 4, 5, 5, 4, 3, 2)\n"
          ]
        }
      ]
    },
    {
      "cell_type": "markdown",
      "source": [
        "###### **Exercise 12:**\n",
        "using `[]`, select only the first 6 elements of the tuple you created and store them into a new variable named `second_tuple`."
      ],
      "metadata": {
        "id": "SMnCg1RuqvS6"
      }
    },
    {
      "cell_type": "code",
      "source": [
        "# your code here\n",
        "second_tuple = first_tuple[:6]\n",
        "second_tuple"
      ],
      "metadata": {
        "id": "ZP7hNknrPF4w",
        "colab": {
          "base_uri": "https://localhost:8080/"
        },
        "outputId": "f7e341c0-a742-4e95-df3f-be820662905d"
      },
      "execution_count": 39,
      "outputs": [
        {
          "output_type": "execute_result",
          "data": {
            "text/plain": [
              "(0, 1, 2, 3, 4, 5)"
            ]
          },
          "metadata": {},
          "execution_count": 39
        }
      ]
    },
    {
      "cell_type": "markdown",
      "source": [
        "###### **Exercise 13:**\n",
        "convert the `second_tuple` into a set and store it in a variable called `first_set`."
      ],
      "metadata": {
        "id": "65yfj8Y7q35T"
      }
    },
    {
      "cell_type": "code",
      "source": [
        "# your code here\n",
        "first_set = set(second_tuple)\n",
        "first_set"
      ],
      "metadata": {
        "id": "1lzpXTtUPJ-z",
        "colab": {
          "base_uri": "https://localhost:8080/"
        },
        "outputId": "a2bd3ae3-5d20-413b-db92-f57b945fb8ed"
      },
      "execution_count": 42,
      "outputs": [
        {
          "output_type": "execute_result",
          "data": {
            "text/plain": [
              "{0, 1, 2, 3, 4, 5}"
            ]
          },
          "metadata": {},
          "execution_count": 42
        }
      ]
    },
    {
      "cell_type": "markdown",
      "source": [
        "###### **Exercise 14:**\n",
        "can you select the first element of the `first_set`?"
      ],
      "metadata": {
        "id": "XoYk14mEq92Z"
      }
    },
    {
      "cell_type": "code",
      "source": [
        "# your code here"
      ],
      "metadata": {
        "id": "7pqnQriaPQUq"
      },
      "execution_count": null,
      "outputs": []
    },
    {
      "cell_type": "markdown",
      "source": [
        "###### **Exercise 15:** \n",
        "Below, you have a set with healthy ingredients and another one with vegan ingredients. Using [set methods you will find here](https://www.w3schools.com/python/python_ref_set.asp), print out a set with ingredients that are both healthy and vegan."
      ],
      "metadata": {
        "id": "Alx_Dh-xPgSQ"
      }
    },
    {
      "cell_type": "code",
      "source": [
        "healthy_food = {\"apple\", \"salmon\", \"avocado\", \"seafood\", \"olive oil\", \"spinach\", \"yogurt\"}\n",
        "vegan_food = {\"cookies\", \"apple\", \"avocado\", \"candy\", \"olive oil\", \"fake chiken\", \"spinach\"}\n",
        "\n",
        "# your code here\n",
        "healthy_and_vegan = healthy_food.intersection(vegan_food)\n",
        "print(healthy_and_vegan)\n"
      ],
      "metadata": {
        "id": "yOFgsQ5aPSN7",
        "colab": {
          "base_uri": "https://localhost:8080/"
        },
        "outputId": "60ba3430-b5e4-4dc6-b948-30e618856bbe"
      },
      "execution_count": 43,
      "outputs": [
        {
          "output_type": "stream",
          "name": "stdout",
          "text": [
            "{'spinach', 'avocado', 'olive oil', 'apple'}\n"
          ]
        }
      ]
    }
  ],
  "metadata": {
    "kernelspec": {
      "display_name": "Python 3",
      "language": "python",
      "name": "python3"
    },
    "language_info": {
      "codemirror_mode": {
        "name": "ipython",
        "version": 3
      },
      "file_extension": ".py",
      "mimetype": "text/x-python",
      "name": "python",
      "nbconvert_exporter": "python",
      "pygments_lexer": "ipython3",
      "version": "3.8.8"
    },
    "colab": {
      "provenance": [],
      "collapsed_sections": [],
      "toc_visible": true
    }
  },
  "nbformat": 4,
  "nbformat_minor": 0
}