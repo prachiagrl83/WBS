{
  "cells": [
    {
      "cell_type": "markdown",
      "id": "72ef2be4-86fd-414b-b03b-40a2fbb08a43",
      "metadata": {
        "id": "72ef2be4-86fd-414b-b03b-40a2fbb08a43"
      },
      "source": [
        "# Dictionaries"
      ]
    },
    {
      "cell_type": "markdown",
      "id": "dc174e69-13a3-4093-a7c3-ab0cd8635975",
      "metadata": {
        "id": "dc174e69-13a3-4093-a7c3-ab0cd8635975"
      },
      "source": [
        "So far you have learned how to use **collections** of data such as lists, sets and tuples.\n",
        "Here we will learn about **dictionaries**."
      ]
    },
    {
      "cell_type": "markdown",
      "id": "0b3dec91-4185-49c1-b4fa-c3f2b6bddfdb",
      "metadata": {
        "id": "0b3dec91-4185-49c1-b4fa-c3f2b6bddfdb"
      },
      "source": [
        "The dictionary is an **ordered**  and **changeable** collection that contains **key:value** pairs separated by commas inside curly brackets."
      ]
    },
    {
      "cell_type": "markdown",
      "id": "3380ea8a-f552-4454-b3df-b8adda18018a",
      "metadata": {
        "id": "3380ea8a-f552-4454-b3df-b8adda18018a"
      },
      "source": [
        "### 1. Create"
      ]
    },
    {
      "cell_type": "markdown",
      "id": "bb1ffa7e-0c63-4fad-8337-8859952f2d5f",
      "metadata": {
        "id": "bb1ffa7e-0c63-4fad-8337-8859952f2d5f"
      },
      "source": [
        "An example of a dictionary:"
      ]
    },
    {
      "cell_type": "code",
      "execution_count": null,
      "id": "ff54fe57-89fc-4ede-81b0-25cbbe50f8e9",
      "metadata": {
        "id": "ff54fe57-89fc-4ede-81b0-25cbbe50f8e9",
        "outputId": "954be774-9771-4462-e157-887f32212de4"
      },
      "outputs": [
        {
          "data": {
            "text/plain": [
              "{'Germany': 'Berlin', 'France': 'Paris'}"
            ]
          },
          "execution_count": 57,
          "metadata": {},
          "output_type": "execute_result"
        }
      ],
      "source": [
        "dictionary = {'Germany':'Berlin','France':'Paris'}\n",
        "dictionary"
      ]
    },
    {
      "cell_type": "markdown",
      "id": "34dba701-d656-4e46-981c-9d265904c5da",
      "metadata": {
        "id": "34dba701-d656-4e46-981c-9d265904c5da"
      },
      "source": [
        "Germany and France are the **keys** and Berlin and Paris are the coresponding **values**"
      ]
    },
    {
      "cell_type": "markdown",
      "id": "9df8ecbf-5743-4425-af58-e65d6979b0a4",
      "metadata": {
        "id": "9df8ecbf-5743-4425-af58-e65d6979b0a4"
      },
      "source": [
        "To add a new item in existing dictionary just assign a value to a new key"
      ]
    },
    {
      "cell_type": "code",
      "execution_count": null,
      "id": "cdb0491b-7380-4255-bf10-814564765125",
      "metadata": {
        "id": "cdb0491b-7380-4255-bf10-814564765125",
        "outputId": "48b8df47-7571-4106-89ae-a0aa68d7e329"
      },
      "outputs": [
        {
          "data": {
            "text/plain": [
              "{'Germany': 'Berlin', 'France': 'Paris', 'Spain': 'Madrid'}"
            ]
          },
          "execution_count": 58,
          "metadata": {},
          "output_type": "execute_result"
        }
      ],
      "source": [
        "dictionary['Spain'] = 'Madrid'\n",
        "dictionary"
      ]
    },
    {
      "cell_type": "markdown",
      "id": "e824feb1-9189-4d9d-8b10-986dbf47409f",
      "metadata": {
        "id": "e824feb1-9189-4d9d-8b10-986dbf47409f"
      },
      "source": [
        "Empty dictionary:"
      ]
    },
    {
      "cell_type": "code",
      "execution_count": null,
      "id": "efedf34b-c66b-4ecd-8935-6b2cbe754fd7",
      "metadata": {
        "id": "efedf34b-c66b-4ecd-8935-6b2cbe754fd7",
        "outputId": "28630316-efd4-45d7-90bd-567c2ea1c09f"
      },
      "outputs": [
        {
          "data": {
            "text/plain": [
              "{}"
            ]
          },
          "execution_count": 59,
          "metadata": {},
          "output_type": "execute_result"
        }
      ],
      "source": [
        "empt_dict = {}\n",
        "empt_dict"
      ]
    },
    {
      "cell_type": "markdown",
      "id": "5a94f4ad-413c-475b-9520-832cb06981cc",
      "metadata": {
        "id": "5a94f4ad-413c-475b-9520-832cb06981cc"
      },
      "source": [
        "Dictionaries **can't have duplicated keys:values pairs**"
      ]
    },
    {
      "cell_type": "code",
      "execution_count": null,
      "id": "ed0b73f4-768b-40f3-a253-fd56b36c7c3c",
      "metadata": {
        "id": "ed0b73f4-768b-40f3-a253-fd56b36c7c3c",
        "outputId": "5eecd668-2002-4f1f-d362-6db3d967e007"
      },
      "outputs": [
        {
          "data": {
            "text/plain": [
              "{1: 1, 2: 2}"
            ]
          },
          "execution_count": 60,
          "metadata": {},
          "output_type": "execute_result"
        }
      ],
      "source": [
        "dupl_val_dict= {1:1,2:2,1:1}\n",
        "dupl_val_dict"
      ]
    },
    {
      "cell_type": "markdown",
      "id": "de8f7c3e-daf9-41cc-99e6-c453c21bcd26",
      "metadata": {
        "id": "de8f7c3e-daf9-41cc-99e6-c453c21bcd26"
      },
      "source": [
        "### 2. Access"
      ]
    },
    {
      "cell_type": "code",
      "source": [
        "dictionary = {'Germany':'Berlin','France':'Paris'}"
      ],
      "metadata": {
        "id": "ycEXxayvjBBL"
      },
      "id": "ycEXxayvjBBL",
      "execution_count": null,
      "outputs": []
    },
    {
      "cell_type": "markdown",
      "id": "a97f7458-fde6-475b-bcf4-8d67548ff5fa",
      "metadata": {
        "id": "a97f7458-fde6-475b-bcf4-8d67548ff5fa"
      },
      "source": [
        "If we want to access a value inside the dictionary we can do it with **key** in square brackets"
      ]
    },
    {
      "cell_type": "code",
      "execution_count": null,
      "id": "de71611c-4aa2-461d-b965-ab32572ddddd",
      "metadata": {
        "id": "de71611c-4aa2-461d-b965-ab32572ddddd",
        "outputId": "603c19cb-a990-4ace-eb22-4101b9fc948b"
      },
      "outputs": [
        {
          "data": {
            "text/plain": [
              "'Berlin'"
            ]
          },
          "execution_count": 61,
          "metadata": {},
          "output_type": "execute_result"
        }
      ],
      "source": [
        "dictionary['Germany']"
      ]
    },
    {
      "cell_type": "code",
      "execution_count": null,
      "id": "896b9815-5266-4f0c-a146-1b8f5b3f850a",
      "metadata": {
        "id": "896b9815-5266-4f0c-a146-1b8f5b3f850a",
        "outputId": "10b72005-a49d-493a-f824-7f14fa5e4389"
      },
      "outputs": [
        {
          "data": {
            "text/plain": [
              "'Paris'"
            ]
          },
          "execution_count": 62,
          "metadata": {},
          "output_type": "execute_result"
        }
      ],
      "source": [
        "dictionary['France']"
      ]
    },
    {
      "cell_type": "markdown",
      "id": "5490a2aa-e3ac-4a38-a796-a68fcab93d1e",
      "metadata": {
        "id": "5490a2aa-e3ac-4a38-a796-a68fcab93d1e"
      },
      "source": [
        "We can also acces values with a method **get()**"
      ]
    },
    {
      "cell_type": "code",
      "execution_count": null,
      "id": "ce4ecb09-2513-4e9c-8adc-a8822d1d2a6c",
      "metadata": {
        "id": "ce4ecb09-2513-4e9c-8adc-a8822d1d2a6c",
        "outputId": "aeca2b2d-5241-4fe9-da28-869589c6987d"
      },
      "outputs": [
        {
          "data": {
            "text/plain": [
              "'Berlin'"
            ]
          },
          "execution_count": 63,
          "metadata": {},
          "output_type": "execute_result"
        }
      ],
      "source": [
        "dictionary.get('Germany')"
      ]
    },
    {
      "cell_type": "markdown",
      "id": "f8275b4b-e1da-44a2-b563-72d4028faa10",
      "metadata": {
        "id": "f8275b4b-e1da-44a2-b563-72d4028faa10"
      },
      "source": [
        "To retrieve a list of **all the keys** inside a dictionary we use the **keys()** method"
      ]
    },
    {
      "cell_type": "code",
      "execution_count": null,
      "id": "2dff8eb2-5f5c-408c-99b9-af15b81d4121",
      "metadata": {
        "id": "2dff8eb2-5f5c-408c-99b9-af15b81d4121"
      },
      "outputs": [],
      "source": [
        "big_dict = {'English': 85, 'Math': 72, 'Science': 79, 'Art': 88}"
      ]
    },
    {
      "cell_type": "code",
      "execution_count": null,
      "id": "4f62b8b2-f392-41ff-b93f-2f1fe03ea52f",
      "metadata": {
        "id": "4f62b8b2-f392-41ff-b93f-2f1fe03ea52f",
        "outputId": "25772be0-eba8-42ae-f670-474f30e11353"
      },
      "outputs": [
        {
          "data": {
            "text/plain": [
              "dict_keys(['English', 'Math', 'Science', 'Art'])"
            ]
          },
          "execution_count": 65,
          "metadata": {},
          "output_type": "execute_result"
        }
      ],
      "source": [
        "big_dict.keys()"
      ]
    },
    {
      "cell_type": "markdown",
      "id": "b9965fc6-fb0a-4384-b2c5-398e3177564c",
      "metadata": {
        "id": "b9965fc6-fb0a-4384-b2c5-398e3177564c"
      },
      "source": [
        "To retrieve a list of **all the values** inside a dictionary we use the **values()** method"
      ]
    },
    {
      "cell_type": "code",
      "execution_count": null,
      "id": "af3c05be-12e2-4a2c-a6d8-6da3ba3de5de",
      "metadata": {
        "id": "af3c05be-12e2-4a2c-a6d8-6da3ba3de5de",
        "outputId": "d811da20-8a11-4f0b-af52-3645d355b9b4"
      },
      "outputs": [
        {
          "data": {
            "text/plain": [
              "dict_values([85, 72, 79, 88])"
            ]
          },
          "execution_count": 66,
          "metadata": {},
          "output_type": "execute_result"
        }
      ],
      "source": [
        "big_dict.values()"
      ]
    },
    {
      "cell_type": "markdown",
      "id": "2e79ec63-a663-4ecc-89fa-b141822505ec",
      "metadata": {
        "id": "2e79ec63-a663-4ecc-89fa-b141822505ec"
      },
      "source": [
        "To retrieve a list of **all the values and keys** inside a dictionary we use the **items()** method"
      ]
    },
    {
      "cell_type": "code",
      "execution_count": null,
      "id": "d397c9c7-a968-46d9-8566-041750a9da87",
      "metadata": {
        "id": "d397c9c7-a968-46d9-8566-041750a9da87",
        "outputId": "6ad12948-2f47-438f-d146-e265c729a715"
      },
      "outputs": [
        {
          "data": {
            "text/plain": [
              "dict_items([('English', 85), ('Math', 72), ('Science', 79), ('Art', 88)])"
            ]
          },
          "execution_count": 67,
          "metadata": {},
          "output_type": "execute_result"
        }
      ],
      "source": [
        "big_dict.items()"
      ]
    },
    {
      "cell_type": "markdown",
      "id": "20e02681-109f-456f-b87f-1f0415a1d5cd",
      "metadata": {
        "id": "20e02681-109f-456f-b87f-1f0415a1d5cd"
      },
      "source": [
        "To check the length (number of items) of a dictionary we will use the len() function"
      ]
    },
    {
      "cell_type": "code",
      "execution_count": null,
      "id": "b14a6812-c962-4ab4-a865-2a12c43a5f95",
      "metadata": {
        "id": "b14a6812-c962-4ab4-a865-2a12c43a5f95",
        "outputId": "7608bbe7-ab0e-44be-e97d-3c493accfaf6"
      },
      "outputs": [
        {
          "data": {
            "text/plain": [
              "4"
            ]
          },
          "execution_count": 68,
          "metadata": {},
          "output_type": "execute_result"
        }
      ],
      "source": [
        "len(big_dict)"
      ]
    },
    {
      "cell_type": "markdown",
      "id": "d91e0020-7bb7-4a26-953f-6b44213e4a0f",
      "metadata": {
        "id": "d91e0020-7bb7-4a26-953f-6b44213e4a0f"
      },
      "source": [
        "### 3. Data types"
      ]
    },
    {
      "cell_type": "markdown",
      "id": "50a4b29b-7a61-4fb4-8b2c-d08eea4d346a",
      "metadata": {
        "id": "50a4b29b-7a61-4fb4-8b2c-d08eea4d346a"
      },
      "source": [
        "The **keys** in dictionary should be **unique and immutable**.  \n",
        "Keys can be:  \n",
        "- numbers\n",
        "- strings\n",
        "- tuples"
      ]
    },
    {
      "cell_type": "code",
      "execution_count": null,
      "id": "4693d3e3-adcf-4455-9822-eed66278f8f0",
      "metadata": {
        "id": "4693d3e3-adcf-4455-9822-eed66278f8f0",
        "outputId": "a4813764-14a5-455d-f5bf-4d253a576c84"
      },
      "outputs": [
        {
          "data": {
            "text/plain": [
              "'One'"
            ]
          },
          "execution_count": 69,
          "metadata": {},
          "output_type": "execute_result"
        }
      ],
      "source": [
        "dict_with_number_key = {1:'One',2:'Two',3:'Three'}\n",
        "dict_with_number_key[1]"
      ]
    },
    {
      "cell_type": "markdown",
      "id": "62211028-2386-4324-bcdb-13dbbfd3a197",
      "metadata": {
        "id": "62211028-2386-4324-bcdb-13dbbfd3a197"
      },
      "source": [
        "The **values** can be of **any type**, even other collections like lists."
      ]
    },
    {
      "cell_type": "code",
      "execution_count": null,
      "id": "60a0aa15-4777-4175-9d3e-77f20aa7243a",
      "metadata": {
        "id": "60a0aa15-4777-4175-9d3e-77f20aa7243a",
        "outputId": "8590c5a1-e5bc-4f1d-ee21-15bc66ad5120"
      },
      "outputs": [
        {
          "data": {
            "text/plain": [
              "[0, 1, 1, 2, 3, 5, 8, 13, 21, 34]"
            ]
          },
          "execution_count": 70,
          "metadata": {},
          "output_type": "execute_result"
        }
      ],
      "source": [
        "dict_with_list_values = {'fib':[0, 1, 1, 2, 3, 5, 8, 13, 21, 34],'prime':[2, 3, 5, 7, 11, 13, 17, 19, 23, 29]}\n",
        "dict_with_list_values['fib']"
      ]
    },
    {
      "cell_type": "code",
      "execution_count": null,
      "id": "a7843b64-3fc2-412e-ba09-4d25e86c6330",
      "metadata": {
        "id": "a7843b64-3fc2-412e-ba09-4d25e86c6330",
        "outputId": "e3ffa209-8be8-4fc2-bb59-62396b57b1ee"
      },
      "outputs": [
        {
          "data": {
            "text/plain": [
              "2"
            ]
          },
          "execution_count": 71,
          "metadata": {},
          "output_type": "execute_result"
        }
      ],
      "source": [
        "dict_with_list_values['fib'][3]"
      ]
    },
    {
      "cell_type": "markdown",
      "id": "48960bc9-240e-4260-9f7e-1a0be03f08e7",
      "metadata": {
        "id": "48960bc9-240e-4260-9f7e-1a0be03f08e7"
      },
      "source": [
        "Dictionaries can contain **mixed data types**"
      ]
    },
    {
      "cell_type": "code",
      "execution_count": null,
      "id": "dc7ce339-8889-4a4f-aee5-c22ad5362d50",
      "metadata": {
        "id": "dc7ce339-8889-4a4f-aee5-c22ad5362d50",
        "outputId": "0f2609e8-d3b2-4a2f-fbf8-b832bc1b298c"
      },
      "outputs": [
        {
          "data": {
            "text/plain": [
              "{'Country': 'Germany',\n",
              " 'EU': True,\n",
              " 'Population': 83000000,\n",
              " 'Cities': ['Berlin', 'Munich', 'Hamburg']}"
            ]
          },
          "execution_count": 72,
          "metadata": {},
          "output_type": "execute_result"
        }
      ],
      "source": [
        "mixed_dict = {\n",
        "    'Country':'Germany',\n",
        "    'EU':True,\n",
        "    'Population':83000000,\n",
        "    'Cities':['Berlin','Munich','Hamburg']}\n",
        "mixed_dict"
      ]
    },
    {
      "cell_type": "markdown",
      "id": "eb2ad9c3-f488-4379-92da-625745ce5a13",
      "metadata": {
        "tags": [],
        "id": "eb2ad9c3-f488-4379-92da-625745ce5a13"
      },
      "source": [
        "### 4. Update"
      ]
    },
    {
      "cell_type": "markdown",
      "id": "4569ffbd-5e8e-4cd3-bafb-bde8442cb035",
      "metadata": {
        "id": "4569ffbd-5e8e-4cd3-bafb-bde8442cb035"
      },
      "source": [
        "To update a dictionary we need to access the value with a key and assign a new one"
      ]
    },
    {
      "cell_type": "code",
      "execution_count": null,
      "id": "47655072-542e-4959-b89c-23000f9cab78",
      "metadata": {
        "id": "47655072-542e-4959-b89c-23000f9cab78",
        "outputId": "2bf69284-84d7-47bd-d3e4-8b73e623b6ad"
      },
      "outputs": [
        {
          "data": {
            "text/plain": [
              "{'Germany': 'London', 'France': 'Paris'}"
            ]
          },
          "execution_count": 73,
          "metadata": {},
          "output_type": "execute_result"
        }
      ],
      "source": [
        "dict_to_update = {'Germany':'London','France':'Paris'}\n",
        "dict_to_update"
      ]
    },
    {
      "cell_type": "code",
      "execution_count": null,
      "id": "30aa6052-8ca1-4cd1-b88c-de17aba836e4",
      "metadata": {
        "id": "30aa6052-8ca1-4cd1-b88c-de17aba836e4",
        "outputId": "2e49a991-8ae6-485e-fdd8-6cb245b7c179"
      },
      "outputs": [
        {
          "data": {
            "text/plain": [
              "{'Germany': 'Berlin', 'France': 'Paris'}"
            ]
          },
          "execution_count": 74,
          "metadata": {},
          "output_type": "execute_result"
        }
      ],
      "source": [
        "dict_to_update['Germany'] = 'Berlin'\n",
        "dict_to_update"
      ]
    },
    {
      "cell_type": "markdown",
      "id": "cc84efcd-b84f-46e5-82a1-f1abb84a44e4",
      "metadata": {
        "id": "cc84efcd-b84f-46e5-82a1-f1abb84a44e4"
      },
      "source": [
        "We can also update the value with a method update()"
      ]
    },
    {
      "cell_type": "code",
      "execution_count": null,
      "id": "fe12166b-620c-40a1-9bea-2fe9699a4247",
      "metadata": {
        "id": "fe12166b-620c-40a1-9bea-2fe9699a4247",
        "outputId": "eb2f6b40-538a-4b10-ce32-fb0c299c8857"
      },
      "outputs": [
        {
          "data": {
            "text/plain": [
              "{'Germany': 'Berlin', 'France': 'Paris'}"
            ]
          },
          "execution_count": 75,
          "metadata": {},
          "output_type": "execute_result"
        }
      ],
      "source": [
        "dict_to_update = {'Germany':'London','France':'Paris'}\n",
        "dict_to_update.update({'Germany':'Berlin'})\n",
        "dict_to_update"
      ]
    },
    {
      "cell_type": "markdown",
      "id": "5b6ba591-eda3-45e0-8c25-151c7279acbb",
      "metadata": {
        "id": "5b6ba591-eda3-45e0-8c25-151c7279acbb"
      },
      "source": [
        "### 5. Remove"
      ]
    },
    {
      "cell_type": "markdown",
      "id": "b1ed69e9-de88-4a9b-8676-0492bc5691b8",
      "metadata": {
        "id": "b1ed69e9-de88-4a9b-8676-0492bc5691b8"
      },
      "source": [
        "the **pop()** method removes the item with soecified key"
      ]
    },
    {
      "cell_type": "code",
      "execution_count": null,
      "id": "bc2fafa7-bbaa-4d03-a8c0-be13a5cc684d",
      "metadata": {
        "id": "bc2fafa7-bbaa-4d03-a8c0-be13a5cc684d",
        "outputId": "2d7a9049-13b9-44e4-970f-e39fde266e05"
      },
      "outputs": [
        {
          "data": {
            "text/plain": [
              "{'Germany': 'Berlin', 'France': 'Paris'}"
            ]
          },
          "execution_count": 76,
          "metadata": {},
          "output_type": "execute_result"
        }
      ],
      "source": [
        "dict_to_remove = {'Germany':'Berlin','France':'Paris'}\n",
        "dict_to_remove"
      ]
    },
    {
      "cell_type": "markdown",
      "id": "16228d0e-7422-43cd-9f3c-2dca2ca1a22d",
      "metadata": {
        "id": "16228d0e-7422-43cd-9f3c-2dca2ca1a22d"
      },
      "source": [
        "The **pop()** method also returnes the removed value so we can save it to another variable if we need."
      ]
    },
    {
      "cell_type": "code",
      "execution_count": null,
      "id": "5dec6fb4-7c00-430f-8469-1882d26668da",
      "metadata": {
        "id": "5dec6fb4-7c00-430f-8469-1882d26668da"
      },
      "outputs": [],
      "source": [
        "x = dict_to_remove.pop('France')"
      ]
    },
    {
      "cell_type": "code",
      "execution_count": null,
      "id": "28b5b5db-64ee-42ec-8586-3a9a95056764",
      "metadata": {
        "id": "28b5b5db-64ee-42ec-8586-3a9a95056764",
        "outputId": "b991ad53-f23e-4159-ce16-3c3f74d02dbc"
      },
      "outputs": [
        {
          "data": {
            "text/plain": [
              "{'Germany': 'Berlin'}"
            ]
          },
          "execution_count": 78,
          "metadata": {},
          "output_type": "execute_result"
        }
      ],
      "source": [
        "dict_to_remove"
      ]
    },
    {
      "cell_type": "code",
      "execution_count": null,
      "id": "675d358f-b531-491c-821e-9fea9103abe0",
      "metadata": {
        "id": "675d358f-b531-491c-821e-9fea9103abe0",
        "outputId": "0af098b6-c45e-48b9-9706-9e759bff785e"
      },
      "outputs": [
        {
          "data": {
            "text/plain": [
              "'Paris'"
            ]
          },
          "execution_count": 79,
          "metadata": {},
          "output_type": "execute_result"
        }
      ],
      "source": [
        "x"
      ]
    },
    {
      "cell_type": "markdown",
      "id": "f5838a3f-7cd3-4cdd-8bde-b98ecfb82bf6",
      "metadata": {
        "id": "f5838a3f-7cd3-4cdd-8bde-b98ecfb82bf6"
      },
      "source": [
        "The **del** keyword also removes the item with soecified key"
      ]
    },
    {
      "cell_type": "code",
      "execution_count": null,
      "id": "53cdda86-fcaa-4ceb-b0ff-4261325f0bbc",
      "metadata": {
        "id": "53cdda86-fcaa-4ceb-b0ff-4261325f0bbc",
        "outputId": "9feaef17-a484-4aad-f972-cd8320e74b88"
      },
      "outputs": [
        {
          "data": {
            "text/plain": [
              "{1: 'First', 3: 'Third'}"
            ]
          },
          "execution_count": 80,
          "metadata": {},
          "output_type": "execute_result"
        }
      ],
      "source": [
        "dict_to_delete = {1:'First',3:'Third'}\n",
        "dict_to_delete"
      ]
    },
    {
      "cell_type": "code",
      "execution_count": null,
      "id": "0b7894dc-ef98-48cb-8c6b-b2aa37850d1c",
      "metadata": {
        "id": "0b7894dc-ef98-48cb-8c6b-b2aa37850d1c",
        "outputId": "8115ec08-efa2-4583-91c9-00c360cff71d"
      },
      "outputs": [
        {
          "data": {
            "text/plain": [
              "{1: 'First'}"
            ]
          },
          "execution_count": 81,
          "metadata": {},
          "output_type": "execute_result"
        }
      ],
      "source": [
        "del dict_to_delete[3]\n",
        "dict_to_delete"
      ]
    },
    {
      "cell_type": "markdown",
      "id": "14c4d6cd-fea2-451a-adcd-e88dc24135c1",
      "metadata": {
        "id": "14c4d6cd-fea2-451a-adcd-e88dc24135c1"
      },
      "source": [
        "## Exercises"
      ]
    },
    {
      "cell_type": "markdown",
      "id": "86e436f5-2c32-4c68-9864-0479420a68b9",
      "metadata": {
        "id": "86e436f5-2c32-4c68-9864-0479420a68b9"
      },
      "source": [
        "#### 1. exercise"
      ]
    },
    {
      "cell_type": "markdown",
      "id": "5165fa20-506e-4616-bdab-33fa44e79802",
      "metadata": {
        "id": "5165fa20-506e-4616-bdab-33fa44e79802"
      },
      "source": [
        "Put these values in a `prices` dictionary:  \n",
        "`\"banana\": 4,\n",
        "\"apple\": 2,\n",
        "\"orange\": 1.5,\n",
        "\"pear\": 3`"
      ]
    },
    {
      "cell_type": "code",
      "execution_count": null,
      "id": "4aa10240-fcce-458f-b8cd-119aab826bb4",
      "metadata": {
        "id": "4aa10240-fcce-458f-b8cd-119aab826bb4"
      },
      "outputs": [],
      "source": [
        "# your code here"
      ]
    },
    {
      "cell_type": "markdown",
      "id": "4c247a71-a97e-4f6b-b5ae-a43f70626e64",
      "metadata": {
        "tags": [],
        "id": "4c247a71-a97e-4f6b-b5ae-a43f70626e64"
      },
      "source": [
        "##### hint"
      ]
    },
    {
      "cell_type": "code",
      "execution_count": null,
      "id": "326203c5-1789-4f53-a2fd-e181de2c643b",
      "metadata": {
        "id": "326203c5-1789-4f53-a2fd-e181de2c643b"
      },
      "outputs": [],
      "source": [
        "# _______ = {_______:4, _______:__, \"orange\":__, _______:__}"
      ]
    },
    {
      "cell_type": "markdown",
      "id": "2ae14f3e-e4c5-4420-9a06-15a2f9043a50",
      "metadata": {
        "tags": [],
        "id": "2ae14f3e-e4c5-4420-9a06-15a2f9043a50"
      },
      "source": [
        "##### solution"
      ]
    },
    {
      "cell_type": "code",
      "execution_count": null,
      "id": "06b47fe0-a647-4c76-a90a-f6251b9b4316",
      "metadata": {
        "id": "06b47fe0-a647-4c76-a90a-f6251b9b4316"
      },
      "outputs": [],
      "source": [
        "prices = {\"banana\": 4, \"apple\": 2, \"orange\": 1.5, \"pear\": 3}"
      ]
    },
    {
      "cell_type": "markdown",
      "id": "91fd6b18-e653-4c4e-96a4-86f51372f826",
      "metadata": {
        "id": "91fd6b18-e653-4c4e-96a4-86f51372f826"
      },
      "source": [
        "#### 2. exercise"
      ]
    },
    {
      "cell_type": "markdown",
      "id": "952d4fd1-56a5-4541-b31c-9ae88939ff89",
      "metadata": {
        "id": "952d4fd1-56a5-4541-b31c-9ae88939ff89"
      },
      "source": [
        "Add more values to the `prices` dictionary:  \n",
        "`\"lemon\": 5000, \"pasta\": 3`"
      ]
    },
    {
      "cell_type": "code",
      "execution_count": null,
      "id": "2f69ccb2-a748-4d06-bc08-33d4f52de723",
      "metadata": {
        "id": "2f69ccb2-a748-4d06-bc08-33d4f52de723"
      },
      "outputs": [],
      "source": [
        "# your code here"
      ]
    },
    {
      "cell_type": "markdown",
      "id": "4dc06cf0-2519-43ed-8316-21d867c1afb9",
      "metadata": {
        "tags": [],
        "id": "4dc06cf0-2519-43ed-8316-21d867c1afb9"
      },
      "source": [
        "##### hint"
      ]
    },
    {
      "cell_type": "code",
      "execution_count": null,
      "id": "3f3eb19c-9816-4018-94ca-e40cacc18918",
      "metadata": {
        "id": "3f3eb19c-9816-4018-94ca-e40cacc18918"
      },
      "outputs": [],
      "source": [
        "# prices[_______] = _______\n",
        "# _______[\"pasta\"] = _______"
      ]
    },
    {
      "cell_type": "markdown",
      "id": "98151031-fe31-4f92-a727-0e83f9831ff1",
      "metadata": {
        "tags": [],
        "id": "98151031-fe31-4f92-a727-0e83f9831ff1"
      },
      "source": [
        "##### solution"
      ]
    },
    {
      "cell_type": "code",
      "execution_count": null,
      "id": "ccd7d7f2-3671-4c6a-86b5-9813e99c7823",
      "metadata": {
        "id": "ccd7d7f2-3671-4c6a-86b5-9813e99c7823"
      },
      "outputs": [],
      "source": [
        "# prices[\"lemon\"]=5000\n",
        "# prices[\"pasta\"]=3"
      ]
    },
    {
      "cell_type": "markdown",
      "id": "8a96b3f0-5e84-48b6-833b-2a4bfa63f625",
      "metadata": {
        "id": "8a96b3f0-5e84-48b6-833b-2a4bfa63f625"
      },
      "source": [
        "#### 3. exercise"
      ]
    },
    {
      "cell_type": "markdown",
      "id": "41cb5539-a073-4e4a-91ca-af821062a47e",
      "metadata": {
        "id": "41cb5539-a073-4e4a-91ca-af821062a47e"
      },
      "source": [
        "Delete the item with a key `\"pasta\"` and store the value to a variable `deleted_value`"
      ]
    },
    {
      "cell_type": "code",
      "execution_count": null,
      "id": "0f4a1eeb-7dd1-4c38-90ad-76f8fd561c54",
      "metadata": {
        "id": "0f4a1eeb-7dd1-4c38-90ad-76f8fd561c54"
      },
      "outputs": [],
      "source": [
        "# your code here"
      ]
    },
    {
      "cell_type": "markdown",
      "id": "419c1539-0910-4be4-baa3-daa4c1531730",
      "metadata": {
        "tags": [],
        "id": "419c1539-0910-4be4-baa3-daa4c1531730"
      },
      "source": [
        "##### hint"
      ]
    },
    {
      "cell_type": "code",
      "execution_count": null,
      "id": "b79d422b-c75d-4794-a9f7-8336993128f3",
      "metadata": {
        "id": "b79d422b-c75d-4794-a9f7-8336993128f3"
      },
      "outputs": [],
      "source": [
        "# deleted_value = _______.pop(_______)"
      ]
    },
    {
      "cell_type": "markdown",
      "id": "e57e0c2c-113f-4ad8-b537-bef974a3e153",
      "metadata": {
        "tags": [],
        "id": "e57e0c2c-113f-4ad8-b537-bef974a3e153"
      },
      "source": [
        "##### solution"
      ]
    },
    {
      "cell_type": "code",
      "execution_count": null,
      "id": "a6bdc543-636a-4772-a3de-227d9f0965f0",
      "metadata": {
        "id": "a6bdc543-636a-4772-a3de-227d9f0965f0"
      },
      "outputs": [],
      "source": [
        "# deleted_value = prices.pop(\"pasta\")"
      ]
    },
    {
      "cell_type": "markdown",
      "id": "41f9782c-95f5-4a09-bef2-8d84859410fa",
      "metadata": {
        "id": "41f9782c-95f5-4a09-bef2-8d84859410fa"
      },
      "source": [
        "#### 4. exercise"
      ]
    },
    {
      "cell_type": "markdown",
      "id": "e9dabe85-0711-4a42-b2b4-8a64f246c57f",
      "metadata": {
        "id": "e9dabe85-0711-4a42-b2b4-8a64f246c57f"
      },
      "source": [
        "Update the value of an item with a key `\"lemon\"` to `5`"
      ]
    },
    {
      "cell_type": "code",
      "execution_count": null,
      "id": "8f8df1e9-c9cc-46d2-8e6a-9f9ad89a5741",
      "metadata": {
        "id": "8f8df1e9-c9cc-46d2-8e6a-9f9ad89a5741"
      },
      "outputs": [],
      "source": [
        "# your code here"
      ]
    },
    {
      "cell_type": "markdown",
      "id": "abb16ffa-5c55-4886-98ab-ac6be5a97f70",
      "metadata": {
        "tags": [],
        "id": "abb16ffa-5c55-4886-98ab-ac6be5a97f70"
      },
      "source": [
        "##### hint"
      ]
    },
    {
      "cell_type": "code",
      "execution_count": null,
      "id": "c6dfb7e3-e7d7-42e4-9d73-bde8586b5976",
      "metadata": {
        "id": "c6dfb7e3-e7d7-42e4-9d73-bde8586b5976"
      },
      "outputs": [],
      "source": [
        "# prices[_______] = 5"
      ]
    },
    {
      "cell_type": "markdown",
      "id": "3640d4cf-fae5-4317-b631-8dbac27f22c0",
      "metadata": {
        "tags": [],
        "id": "3640d4cf-fae5-4317-b631-8dbac27f22c0"
      },
      "source": [
        "##### solution"
      ]
    },
    {
      "cell_type": "code",
      "execution_count": null,
      "id": "584d3f11-bace-4e55-8642-a65106dd3ff1",
      "metadata": {
        "id": "584d3f11-bace-4e55-8642-a65106dd3ff1"
      },
      "outputs": [],
      "source": [
        "# prices[\"lemon\"]=5"
      ]
    }
  ],
  "metadata": {
    "kernelspec": {
      "display_name": "Python 3 (ipykernel)",
      "language": "python",
      "name": "python3"
    },
    "language_info": {
      "codemirror_mode": {
        "name": "ipython",
        "version": 3
      },
      "file_extension": ".py",
      "mimetype": "text/x-python",
      "name": "python",
      "nbconvert_exporter": "python",
      "pygments_lexer": "ipython3",
      "version": "3.9.12"
    },
    "colab": {
      "provenance": []
    }
  },
  "nbformat": 4,
  "nbformat_minor": 5
}