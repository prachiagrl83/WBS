{
 "cells": [
  {
   "cell_type": "markdown",
   "id": "45124d76-1e29-4d53-a6c3-806677365f1e",
   "metadata": {},
   "source": [
    "A *dictionary* is like a list, but more general. In a list, the index positions have to be integers; in a dictionary, the indices can be (almost) any type.\n",
    "\n",
    "You can think of a dictionary as a mapping between a set of indices (which are called *keys*) and a set of values. Each key maps to a value. The association of a key and a value is called a *key-value* pair or sometimes an item.\n",
    "\n",
    "As an example, we'll build a dictionary that maps from English to Spanish words, so the keys and the values are all strings.\n",
    "\n",
    "The function `dict` creates a new dictionary with no items. Because `dict` is the name of a built-in function, you should avoid using it as a variable name."
   ]
  },
  {
   "cell_type": "code",
   "execution_count": 1,
   "id": "140b7a37-e0e7-439b-9343-2d17936aec08",
   "metadata": {},
   "outputs": [],
   "source": [
    "eng2sp = dict()"
   ]
  },
  {
   "cell_type": "code",
   "execution_count": 2,
   "id": "0ac5167d-c8eb-42a4-9294-d0283d097112",
   "metadata": {},
   "outputs": [
    {
     "data": {
      "text/plain": [
       "{}"
      ]
     },
     "execution_count": 2,
     "metadata": {},
     "output_type": "execute_result"
    }
   ],
   "source": [
    "eng2sp"
   ]
  },
  {
   "cell_type": "markdown",
   "id": "986c4003-eb97-4306-b4df-4a3f41b41c67",
   "metadata": {},
   "source": [
    "The curly brackets, `{}`, represent an empty dictionary. To add items to the dictionary, you can use square brackets:"
   ]
  },
  {
   "cell_type": "code",
   "execution_count": 3,
   "id": "b17fdaf6-4164-4316-90f7-ea4a1eee9ea4",
   "metadata": {},
   "outputs": [],
   "source": [
    "eng2sp['one'] = 'uno'"
   ]
  },
  {
   "cell_type": "markdown",
   "id": "d7349a6e-8313-4e02-ac1f-ed16cc18f124",
   "metadata": {},
   "source": [
    "This line creates an item that maps from the key `'one'` to the value \"uno\". If we print the dictionary again, we see a key-value pair with a colon between the key and value:"
   ]
  },
  {
   "cell_type": "code",
   "execution_count": 4,
   "id": "ab9f0889-17a2-480f-87f5-4246aaf3af21",
   "metadata": {},
   "outputs": [
    {
     "name": "stdout",
     "output_type": "stream",
     "text": [
      "{'one': 'uno'}\n"
     ]
    }
   ],
   "source": [
    "print(eng2sp)"
   ]
  },
  {
   "cell_type": "code",
   "execution_count": 5,
   "id": "c83f890b-111f-4477-a28c-b9749cc68f38",
   "metadata": {},
   "outputs": [
    {
     "data": {
      "text/plain": [
       "{'one': 'uno', 'two': [1, 2]}"
      ]
     },
     "execution_count": 5,
     "metadata": {},
     "output_type": "execute_result"
    }
   ],
   "source": [
    "d = {'one': 'uno', \"two\":[1, 2]}\n",
    "d"
   ]
  },
  {
   "cell_type": "code",
   "execution_count": 6,
   "id": "2b1b03c1-e1f7-4813-9342-a524c9ce4a8a",
   "metadata": {},
   "outputs": [
    {
     "data": {
      "text/plain": [
       "{'one': 'uno', 'two': [1, 2], 'three': 3}"
      ]
     },
     "execution_count": 6,
     "metadata": {},
     "output_type": "execute_result"
    }
   ],
   "source": [
    "d['three'] = 3\n",
    "d"
   ]
  },
  {
   "cell_type": "code",
   "execution_count": 8,
   "id": "6ef1e5a2-7766-4129-827e-b306c8fa997f",
   "metadata": {},
   "outputs": [
    {
     "ename": "KeyError",
     "evalue": "0",
     "output_type": "error",
     "traceback": [
      "\u001b[1;31m---------------------------------------------------------------------------\u001b[0m",
      "\u001b[1;31mKeyError\u001b[0m                                  Traceback (most recent call last)",
      "\u001b[1;32m~\\AppData\\Local\\Temp\\ipykernel_33984\\1089268471.py\u001b[0m in \u001b[0;36m<cell line: 1>\u001b[1;34m()\u001b[0m\n\u001b[1;32m----> 1\u001b[1;33m \u001b[0md\u001b[0m\u001b[1;33m[\u001b[0m\u001b[1;36m0\u001b[0m\u001b[1;33m]\u001b[0m\u001b[1;33m\u001b[0m\u001b[1;33m\u001b[0m\u001b[0m\n\u001b[0m",
      "\u001b[1;31mKeyError\u001b[0m: 0"
     ]
    }
   ],
   "source": [
    "d[0]"
   ]
  },
  {
   "cell_type": "markdown",
   "id": "dd85d938-a3f3-4f8c-b4fc-56d5630a959b",
   "metadata": {},
   "source": [
    "This output format is also an input format. For example, you can create a new dictionary with three items. But if you print `eng2sp`, you might be surprised:"
   ]
  },
  {
   "cell_type": "code",
   "execution_count": 17,
   "id": "4bd66605-bc77-4564-9645-79cc2aa53167",
   "metadata": {},
   "outputs": [
    {
     "name": "stdout",
     "output_type": "stream",
     "text": [
      "{'one': 'uno', 'two': 'dos', 'three': 'tres'}\n"
     ]
    }
   ],
   "source": [
    "eng2sp = {'one': 'uno', 'two': 'dos', 'three': 'tres'}\n",
    "print(eng2sp)"
   ]
  },
  {
   "cell_type": "markdown",
   "id": "fc5b05f1-1060-4d0c-8058-b769a828c8ff",
   "metadata": {},
   "source": [
    "The order of the key-value pairs is not the same. In fact, if you type the same example on your computer, you might get a different result. In general, the order of items in a dictionary is unpredictable.\n",
    "\n",
    "But that's not a problem because the elements of a dictionary are never indexed with integer indices. Instead, you use the keys to look up the corresponding values:"
   ]
  },
  {
   "cell_type": "code",
   "execution_count": 18,
   "id": "cead99c0-b9fe-4dd3-b953-66b34214962d",
   "metadata": {},
   "outputs": [
    {
     "data": {
      "text/plain": [
       "'dos'"
      ]
     },
     "execution_count": 18,
     "metadata": {},
     "output_type": "execute_result"
    }
   ],
   "source": [
    "eng2sp['two']"
   ]
  },
  {
   "cell_type": "markdown",
   "id": "5ceff4c6-9a9f-4644-8c8e-c17b82804022",
   "metadata": {},
   "source": [
    "The key `'two'` always maps to the value \"dos\" so the order of the items doesn't matter.\n",
    "\n",
    "If the key isn't in the dictionary, you get an exception:"
   ]
  },
  {
   "cell_type": "code",
   "execution_count": 19,
   "id": "baa526ed-c130-4bf0-9cd3-6398ace74c92",
   "metadata": {},
   "outputs": [
    {
     "ename": "KeyError",
     "evalue": "'four'",
     "output_type": "error",
     "traceback": [
      "\u001b[1;31m---------------------------------------------------------------------------\u001b[0m",
      "\u001b[1;31mKeyError\u001b[0m                                  Traceback (most recent call last)",
      "\u001b[1;32m~\\AppData\\Local\\Temp\\ipykernel_33608\\2807805483.py\u001b[0m in \u001b[0;36m<cell line: 1>\u001b[1;34m()\u001b[0m\n\u001b[1;32m----> 1\u001b[1;33m \u001b[0meng2sp\u001b[0m\u001b[1;33m[\u001b[0m\u001b[1;34m'four'\u001b[0m\u001b[1;33m]\u001b[0m\u001b[1;33m\u001b[0m\u001b[1;33m\u001b[0m\u001b[0m\n\u001b[0m",
      "\u001b[1;31mKeyError\u001b[0m: 'four'"
     ]
    }
   ],
   "source": [
    "eng2sp['four']"
   ]
  },
  {
   "cell_type": "markdown",
   "id": "48305013-b7f9-415b-9339-c6d52863ae5f",
   "metadata": {},
   "source": [
    "The `len` function works on dictionaries; it returns the number of key-value pairs:"
   ]
  },
  {
   "cell_type": "code",
   "execution_count": 10,
   "id": "afac8cfa-70f6-4e66-85a4-53aeaeea6e69",
   "metadata": {},
   "outputs": [
    {
     "data": {
      "text/plain": [
       "{'one': 'uno', 'two': [1, 2], 'three': 3}"
      ]
     },
     "execution_count": 10,
     "metadata": {},
     "output_type": "execute_result"
    }
   ],
   "source": [
    "d"
   ]
  },
  {
   "cell_type": "code",
   "execution_count": 9,
   "id": "e619fa73-3e6b-464c-a36e-04c82faea444",
   "metadata": {},
   "outputs": [
    {
     "data": {
      "text/plain": [
       "3"
      ]
     },
     "execution_count": 9,
     "metadata": {},
     "output_type": "execute_result"
    }
   ],
   "source": [
    "len(d)"
   ]
  },
  {
   "cell_type": "code",
   "execution_count": 20,
   "id": "2eab49cb-c9ea-45a0-bd00-4014f6d24d5b",
   "metadata": {},
   "outputs": [
    {
     "data": {
      "text/plain": [
       "3"
      ]
     },
     "execution_count": 20,
     "metadata": {},
     "output_type": "execute_result"
    }
   ],
   "source": [
    "len(eng2sp)"
   ]
  },
  {
   "cell_type": "markdown",
   "id": "f56dc431-2c76-454c-bac0-0d053e881103",
   "metadata": {},
   "source": [
    "The `in` operator works on dictionaries; it tells you whether something appears as a *key* in the dictionary (appearing as a value is not good enough)."
   ]
  },
  {
   "cell_type": "code",
   "execution_count": 11,
   "id": "32fa1c21-2063-4f6a-9fb1-568bd16cec21",
   "metadata": {},
   "outputs": [
    {
     "data": {
      "text/plain": [
       "True"
      ]
     },
     "execution_count": 11,
     "metadata": {},
     "output_type": "execute_result"
    }
   ],
   "source": [
    "'one' in eng2sp"
   ]
  },
  {
   "cell_type": "code",
   "execution_count": 22,
   "id": "a8a642d4-7a27-45a0-ab9c-aee5e41dd5d7",
   "metadata": {},
   "outputs": [
    {
     "data": {
      "text/plain": [
       "False"
      ]
     },
     "execution_count": 22,
     "metadata": {},
     "output_type": "execute_result"
    }
   ],
   "source": [
    "'uno' in eng2sp"
   ]
  },
  {
   "cell_type": "markdown",
   "id": "dc54cd62-7356-4bf2-933a-fd00abb47f00",
   "metadata": {},
   "source": [
    "To see whether something appears as a value in a dictionary, you can use the method `values`, which returns the values as a list, and then use the `in` operator:"
   ]
  },
  {
   "cell_type": "code",
   "execution_count": 23,
   "id": "bfa0dae1-6c0f-4680-8138-85c6606916ed",
   "metadata": {},
   "outputs": [
    {
     "data": {
      "text/plain": [
       "True"
      ]
     },
     "execution_count": 23,
     "metadata": {},
     "output_type": "execute_result"
    }
   ],
   "source": [
    "vals = list(eng2sp.values())\n",
    "'uno' in vals"
   ]
  },
  {
   "cell_type": "markdown",
   "id": "a55209a3-3569-4401-aaac-a02c6e1dfd48",
   "metadata": {},
   "source": [
    "The `in` operator uses different algorithms for lists and dictionaries. For lists, it uses a linear search algorithm. As the list gets longer, the search time gets longer in direct proportion to the length of the list. For dictionaries, Python uses an algorithm called a *hash table* that has a remarkable property: the `in` operator takes about the same amount of time no matter how many items there are in a dictionary. I won't explain why hash functions are so magical, but you can read more about it at Wikipedia.org/wiki/Hash_table."
   ]
  },
  {
   "cell_type": "code",
   "execution_count": null,
   "id": "b6c1c61a-e9a9-49bf-9b39-6bd56ae87324",
   "metadata": {},
   "outputs": [],
   "source": []
  }
 ],
 "metadata": {
  "kernelspec": {
   "display_name": "Python 3 (ipykernel)",
   "language": "python",
   "name": "python3"
  },
  "language_info": {
   "codemirror_mode": {
    "name": "ipython",
    "version": 3
   },
   "file_extension": ".py",
   "mimetype": "text/x-python",
   "name": "python",
   "nbconvert_exporter": "python",
   "pygments_lexer": "ipython3",
   "version": "3.8.13"
  }
 },
 "nbformat": 4,
 "nbformat_minor": 5
}
