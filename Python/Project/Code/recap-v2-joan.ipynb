{
 "cells": [
  {
   "cell_type": "code",
   "execution_count": 40,
   "id": "35147ca2-195a-4ab0-aa6a-cff89203bd2d",
   "metadata": {},
   "outputs": [],
   "source": [
    "# libraries\n",
    "import pandas as pd\n",
    "import matplotlib.pyplot as plt\n",
    "import seaborn as sns\n",
    "import datetime as dt\n",
    "\n",
    "# notebook configuration\n",
    "pd.set_option(\"display.max_rows\", 10)\n",
    "\n",
    "file_names = ['brands','orderlines','orders','products']\n",
    "path = '../project-data/raw-data/'\n",
    "df_list = []\n",
    "\n",
    "for name in file_names:\n",
    "    temp_df = pd.read_csv(path + name + '.csv')\n",
    "    df_list.append(temp_df)\n",
    "\n",
    "brands, orderlines, orders, products = df_list[0].copy(), df_list[1].copy(), df_list[2].copy(), df_list[3].copy()"
   ]
  },
  {
   "cell_type": "markdown",
   "id": "918382a6-61a0-4a88-95a9-011940b9a6cb",
   "metadata": {},
   "source": [
    "# General platform questions"
   ]
  },
  {
   "cell_type": "code",
   "execution_count": 41,
   "id": "a8db2bf5-56d7-4483-af12-96268d138fba",
   "metadata": {},
   "outputs": [
    {
     "name": "stdout",
     "output_type": "stream",
     "text": [
      "Orders quantity:  226909\n"
     ]
    }
   ],
   "source": [
    "# How many orders are there?\n",
    "orders_qty = orders.shape[0]\n",
    "print('Orders quantity: ', orders_qty)"
   ]
  },
  {
   "cell_type": "code",
   "execution_count": 42,
   "id": "36e28b60-4df6-4d76-adac-c68d6c5ea11a",
   "metadata": {},
   "outputs": [
    {
     "name": "stdout",
     "output_type": "stream",
     "text": [
      "Products quantity:  10579\n"
     ]
    }
   ],
   "source": [
    "# How many products are there?\n",
    "prod_qty = products.drop_duplicates('sku').shape[0]\n",
    "print('Products quantity: ', prod_qty)"
   ]
  },
  {
   "cell_type": "code",
   "execution_count": 43,
   "id": "1af9dc3d-ea98-4723-bbeb-261a883c158f",
   "metadata": {},
   "outputs": [
    {
     "name": "stdout",
     "output_type": "stream",
     "text": [
      "Object `comprise` not found.\n",
      "Results in orders:\n",
      "              created_at\n",
      "min 2017-01-01 00:07:19\n",
      "max 2018-03-14 13:58:36 \n",
      "\n",
      "Results in order lines:\n",
      "                    date\n",
      "min 2017-01-01 00:07:19\n",
      "max 2018-03-14 13:58:36\n"
     ]
    }
   ],
   "source": [
    " What period of time do these orders comprise?\n",
    "print(\n",
    "    'Results in orders:\\n',\n",
    "    orders.assign(created_at = pd.to_datetime(orders.created_date)).agg({'created_at':['min','max']}), \n",
    "    '\\n'\n",
    ")\n",
    "\n",
    "# does it match with the information on the orders\n",
    "print(\n",
    "    'Results in order lines:\\n',\n",
    "    orderlines.assign(date = pd.to_datetime(orderlines.date)).agg({'date':['min','max']})\n",
    ")\n",
    "# yes! they match"
   ]
  },
  {
   "cell_type": "code",
   "execution_count": 44,
   "id": "4d3299f3-d725-47a9-9704-415df3716561",
   "metadata": {},
   "outputs": [
    {
     "name": "stdout",
     "output_type": "stream",
     "text": [
      "Number of observations state\n",
      "Shopping Basket    117809\n",
      "Completed           46605\n",
      "Place Order         40883\n",
      "Pending             14379\n",
      "Cancelled            7233\n",
      "dtype: int64 \n",
      "\n",
      "Qty completed orders: 46605\n"
     ]
    }
   ],
   "source": [
    "# How many orders are Completed?\n",
    "print('Number of observations', orders.value_counts('state'), '\\n')\n",
    "\n",
    "print('Qty completed orders:', orders.value_counts('state').filter(regex = 'Completed').values[0])"
   ]
  },
  {
   "cell_type": "code",
   "execution_count": 45,
   "id": "08ad8936-321f-466e-ae0e-f744875e0266",
   "metadata": {},
   "outputs": [
    {
     "name": "stdout",
     "output_type": "stream",
     "text": [
      "Total revenues on orders: total_paid    15910079.24\n",
      "dtype: float64\n"
     ]
    }
   ],
   "source": [
    "# How should revenue be computed?\n",
    "print('Total revenues on orders:', orders.query('state == \"Completed\"').filter(items=['total_paid'], axis=1).sum())"
   ]
  },
  {
   "cell_type": "markdown",
   "id": "df5c51ce-48ad-4353-bba8-af14f2811627",
   "metadata": {},
   "source": [
    "# Data Cleaning"
   ]
  },
  {
   "cell_type": "code",
   "execution_count": 46,
   "id": "cf7eecff-f5f3-44eb-9acd-d543aa1b098e",
   "metadata": {},
   "outputs": [
    {
     "name": "stdout",
     "output_type": "stream",
     "text": [
      "54.74% Not duplicated rows.\n",
      "99.99% Not duplicated rows.\n",
      "sku\n",
      "APP1197    2\n",
      "PAC1555    1\n",
      "PAC1557    1\n",
      "dtype: int64\n"
     ]
    }
   ],
   "source": [
    "print(str(round(products.drop_duplicates().shape[0] / products.shape[0] * 100, 2)) + '% Not duplicated rows.')\n",
    "\n",
    "# drop all duplicates\n",
    "products.drop_duplicates(inplace=True)\n",
    "\n",
    "# check again but only with \n",
    "print(str(round(products.drop_duplicates('sku').shape[0] / products.shape[0] * 100, 2)) + '% Not duplicated rows.')\n",
    "\n",
    "# Detect the problem\n",
    "print(products.value_counts('sku').head(3))\n",
    "\n",
    "# The price is a missing value! We can drop it \n",
    "products.query('sku == \"APP1197\"')\n",
    "products.drop_duplicates('sku', inplace=True)"
   ]
  },
  {
   "cell_type": "markdown",
   "id": "32641caa-1b2a-4a1f-a974-863cf0ab0eec",
   "metadata": {},
   "source": [
    "## Cleaning prices with more than two \".\""
   ]
  },
  {
   "cell_type": "markdown",
   "id": "1117624e-effd-44d8-a7dd-4a7a49145072",
   "metadata": {},
   "source": [
    "### Orders"
   ]
  },
  {
   "cell_type": "markdown",
   "id": "a531d84a-6af9-4338-b56e-0c358f88f0c7",
   "metadata": {},
   "source": [
    "#### Missing values"
   ]
  },
  {
   "cell_type": "code",
   "execution_count": 47,
   "id": "3a872e29-bc63-4d49-b6a6-8ae48242d469",
   "metadata": {},
   "outputs": [
    {
     "name": "stdout",
     "output_type": "stream",
     "text": [
      "Number of missing values:\n"
     ]
    },
    {
     "data": {
      "text/plain": [
       "order_id        0\n",
       "created_date    0\n",
       "total_paid      5\n",
       "state           0\n",
       "dtype: int64"
      ]
     },
     "execution_count": 47,
     "metadata": {},
     "output_type": "execute_result"
    }
   ],
   "source": [
    "print('Number of missing values:')\n",
    "orders.isna().sum()"
   ]
  },
  {
   "cell_type": "code",
   "execution_count": 48,
   "id": "f287a33a-472a-4137-9b0b-e43304f78ebf",
   "metadata": {},
   "outputs": [
    {
     "data": {
      "text/html": [
       "<div>\n",
       "<style scoped>\n",
       "    .dataframe tbody tr th:only-of-type {\n",
       "        vertical-align: middle;\n",
       "    }\n",
       "\n",
       "    .dataframe tbody tr th {\n",
       "        vertical-align: top;\n",
       "    }\n",
       "\n",
       "    .dataframe thead th {\n",
       "        text-align: right;\n",
       "    }\n",
       "</style>\n",
       "<table border=\"1\" class=\"dataframe\">\n",
       "  <thead>\n",
       "    <tr style=\"text-align: right;\">\n",
       "      <th></th>\n",
       "      <th>order_id</th>\n",
       "      <th>created_date</th>\n",
       "      <th>total_paid</th>\n",
       "      <th>state</th>\n",
       "    </tr>\n",
       "  </thead>\n",
       "  <tbody>\n",
       "    <tr>\n",
       "      <th>127701</th>\n",
       "      <td>427314</td>\n",
       "      <td>2017-11-20 18:54:39</td>\n",
       "      <td>NaN</td>\n",
       "      <td>Pending</td>\n",
       "    </tr>\n",
       "    <tr>\n",
       "      <th>132013</th>\n",
       "      <td>431655</td>\n",
       "      <td>2017-11-22 12:15:24</td>\n",
       "      <td>NaN</td>\n",
       "      <td>Pending</td>\n",
       "    </tr>\n",
       "    <tr>\n",
       "      <th>147316</th>\n",
       "      <td>447411</td>\n",
       "      <td>2017-11-27 10:32:37</td>\n",
       "      <td>NaN</td>\n",
       "      <td>Pending</td>\n",
       "    </tr>\n",
       "    <tr>\n",
       "      <th>148833</th>\n",
       "      <td>448966</td>\n",
       "      <td>2017-11-27 18:54:15</td>\n",
       "      <td>NaN</td>\n",
       "      <td>Pending</td>\n",
       "    </tr>\n",
       "    <tr>\n",
       "      <th>149434</th>\n",
       "      <td>449596</td>\n",
       "      <td>2017-11-27 21:52:08</td>\n",
       "      <td>NaN</td>\n",
       "      <td>Pending</td>\n",
       "    </tr>\n",
       "  </tbody>\n",
       "</table>\n",
       "</div>"
      ],
      "text/plain": [
       "        order_id         created_date  total_paid    state\n",
       "127701    427314  2017-11-20 18:54:39         NaN  Pending\n",
       "132013    431655  2017-11-22 12:15:24         NaN  Pending\n",
       "147316    447411  2017-11-27 10:32:37         NaN  Pending\n",
       "148833    448966  2017-11-27 18:54:15         NaN  Pending\n",
       "149434    449596  2017-11-27 21:52:08         NaN  Pending"
      ]
     },
     "execution_count": 48,
     "metadata": {},
     "output_type": "execute_result"
    }
   ],
   "source": [
    "# They are orders with a pending state, we can drop them\n",
    "orders.loc[orders['total_paid'].isna()]"
   ]
  },
  {
   "cell_type": "code",
   "execution_count": 49,
   "id": "412bf827-3800-488f-af7e-fec583bc7bf8",
   "metadata": {},
   "outputs": [
    {
     "data": {
      "text/plain": [
       "order_id        0\n",
       "created_date    0\n",
       "total_paid      0\n",
       "state           0\n",
       "dtype: int64"
      ]
     },
     "execution_count": 49,
     "metadata": {},
     "output_type": "execute_result"
    }
   ],
   "source": [
    "orders.dropna(inplace=True)\n",
    "orders.isna().sum()"
   ]
  },
  {
   "cell_type": "markdown",
   "id": "939bd1d3-2169-4496-8106-1de13d25956f",
   "metadata": {},
   "source": [
    "#### Empty orders"
   ]
  },
  {
   "cell_type": "code",
   "execution_count": 50,
   "id": "8a5a43f7-08db-44f1-9d48-0f348ce5f010",
   "metadata": {},
   "outputs": [
    {
     "name": "stdout",
     "output_type": "stream",
     "text": [
      "Before removing empty orders 226904\n",
      "After removing empty orders 207570\n"
     ]
    }
   ],
   "source": [
    "print('Before removing empty orders', orders.shape[0])\n",
    "orders.query('total_paid != 0', inplace=True)\n",
    "print('After removing empty orders', orders.shape[0])"
   ]
  },
  {
   "cell_type": "markdown",
   "id": "5d54b16b-6dc0-4306-b60d-99a0b1041185",
   "metadata": {},
   "source": [
    "### Order lines\n",
    "\n",
    "There is a problem reading the thousands \".\". We will try to solve it following different methods: "
   ]
  },
  {
   "cell_type": "markdown",
   "id": "3bdc0c67-3303-4f22-afb2-d04e8af72dc3",
   "metadata": {},
   "source": [
    "#### Data integrity"
   ]
  },
  {
   "cell_type": "markdown",
   "id": "7dbdb428-c2d8-4db1-b490-3a82d90ff156",
   "metadata": {},
   "source": [
    "##### Option 1: Count the number of dots by unit price, and remove the first one"
   ]
  },
  {
   "cell_type": "code",
   "execution_count": 51,
   "id": "5caecaa8-0a0a-41a3-89ed-1e8ee01f0f26",
   "metadata": {},
   "outputs": [
    {
     "name": "stdout",
     "output_type": "stream",
     "text": [
      "12.3% of rows with unit_price with two \".\"\n"
     ]
    },
    {
     "data": {
      "text/html": [
       "<div>\n",
       "<style scoped>\n",
       "    .dataframe tbody tr th:only-of-type {\n",
       "        vertical-align: middle;\n",
       "    }\n",
       "\n",
       "    .dataframe tbody tr th {\n",
       "        vertical-align: top;\n",
       "    }\n",
       "\n",
       "    .dataframe thead th {\n",
       "        text-align: right;\n",
       "    }\n",
       "</style>\n",
       "<table border=\"1\" class=\"dataframe\">\n",
       "  <thead>\n",
       "    <tr style=\"text-align: right;\">\n",
       "      <th></th>\n",
       "      <th>id</th>\n",
       "      <th>id_order</th>\n",
       "      <th>product_id</th>\n",
       "      <th>product_quantity</th>\n",
       "      <th>sku</th>\n",
       "      <th>unit_price</th>\n",
       "      <th>date</th>\n",
       "    </tr>\n",
       "  </thead>\n",
       "  <tbody>\n",
       "    <tr>\n",
       "      <th>6</th>\n",
       "      <td>1119115</td>\n",
       "      <td>299544</td>\n",
       "      <td>0</td>\n",
       "      <td>1</td>\n",
       "      <td>APP1582</td>\n",
       "      <td>1.137.99</td>\n",
       "      <td>2017-01-01 01:17:21</td>\n",
       "    </tr>\n",
       "    <tr>\n",
       "      <th>11</th>\n",
       "      <td>1119126</td>\n",
       "      <td>299549</td>\n",
       "      <td>0</td>\n",
       "      <td>1</td>\n",
       "      <td>PAC0929</td>\n",
       "      <td>2.565.99</td>\n",
       "      <td>2017-01-01 02:07:42</td>\n",
       "    </tr>\n",
       "    <tr>\n",
       "      <th>15</th>\n",
       "      <td>1119131</td>\n",
       "      <td>299553</td>\n",
       "      <td>0</td>\n",
       "      <td>1</td>\n",
       "      <td>APP1854</td>\n",
       "      <td>3.278.99</td>\n",
       "      <td>2017-01-01 02:14:47</td>\n",
       "    </tr>\n",
       "    <tr>\n",
       "      <th>43</th>\n",
       "      <td>1119195</td>\n",
       "      <td>299582</td>\n",
       "      <td>0</td>\n",
       "      <td>1</td>\n",
       "      <td>PAC0961</td>\n",
       "      <td>2.616.99</td>\n",
       "      <td>2017-01-01 08:54:00</td>\n",
       "    </tr>\n",
       "    <tr>\n",
       "      <th>59</th>\n",
       "      <td>1119214</td>\n",
       "      <td>299596</td>\n",
       "      <td>0</td>\n",
       "      <td>1</td>\n",
       "      <td>PAC1599</td>\n",
       "      <td>2.873.99</td>\n",
       "      <td>2017-01-01 09:53:11</td>\n",
       "    </tr>\n",
       "  </tbody>\n",
       "</table>\n",
       "</div>"
      ],
      "text/plain": [
       "         id  id_order  product_id  product_quantity      sku unit_price  \\\n",
       "6   1119115    299544           0                 1  APP1582   1.137.99   \n",
       "11  1119126    299549           0                 1  PAC0929   2.565.99   \n",
       "15  1119131    299553           0                 1  APP1854   3.278.99   \n",
       "43  1119195    299582           0                 1  PAC0961   2.616.99   \n",
       "59  1119214    299596           0                 1  PAC1599   2.873.99   \n",
       "\n",
       "                   date  \n",
       "6   2017-01-01 01:17:21  \n",
       "11  2017-01-01 02:07:42  \n",
       "15  2017-01-01 02:14:47  \n",
       "43  2017-01-01 08:54:00  \n",
       "59  2017-01-01 09:53:11  "
      ]
     },
     "execution_count": 51,
     "metadata": {},
     "output_type": "execute_result"
    }
   ],
   "source": [
    "# create a copy of orderlines\n",
    "ol_temp = orderlines.copy()\n",
    "\n",
    "# count the unit prices that contains more than 1 dot: \n",
    "ol_temp_errors = ol_temp.loc[ol_temp['unit_price'].str.count(r'\\.') > 1]\n",
    "\n",
    "print(\n",
    "    str(round(ol_temp_errors.shape[0] /\n",
    "        ol_temp['unit_price'].shape[0] * 100, 2)) + \n",
    "    '% of rows with unit_price with two \".\"'\n",
    ")\n",
    "ol_temp_errors.head()"
   ]
  },
  {
   "cell_type": "code",
   "execution_count": 52,
   "id": "fb73bdca-a6dc-4db4-bb96-230ff39c421d",
   "metadata": {},
   "outputs": [
    {
     "data": {
      "text/plain": [
       "120490458.80999997"
      ]
     },
     "execution_count": 52,
     "metadata": {},
     "output_type": "execute_result"
    }
   ],
   "source": [
    "# remove the first dot of the selected column 'unit price'\n",
    "good_prices = ol_temp_errors['unit_price'].str.replace(\".\", \"\", 1, regex=False)\n",
    "\n",
    "# replace the unit prices with problems on the thousands dots\n",
    "ol_temp.loc[ol_temp['unit_price'].str.count(\"\\.\") > 1, 'unit_price'] = good_prices\n",
    "\n",
    "# tranform it to numeric\n",
    "ol_temp.loc[:,'unit_price'] = pd.to_numeric(ol_temp.loc[:,'unit_price'])\n",
    "\n",
    "# variable we will use to check the results with other options\n",
    "option_1_sum = ol_temp['unit_price'].sum()\n",
    "option_1_sum"
   ]
  },
  {
   "cell_type": "markdown",
   "id": "a9b6e37a-30b0-487b-8e4f-c413d0e74fd8",
   "metadata": {},
   "source": [
    "##### Option 2: extract the decimals, and erase the dots from the integers"
   ]
  },
  {
   "cell_type": "code",
   "execution_count": 53,
   "id": "a233333c-3f60-426b-93d9-6527287fe11b",
   "metadata": {},
   "outputs": [
    {
     "data": {
      "text/html": [
       "<div>\n",
       "<style scoped>\n",
       "    .dataframe tbody tr th:only-of-type {\n",
       "        vertical-align: middle;\n",
       "    }\n",
       "\n",
       "    .dataframe tbody tr th {\n",
       "        vertical-align: top;\n",
       "    }\n",
       "\n",
       "    .dataframe thead th {\n",
       "        text-align: right;\n",
       "    }\n",
       "</style>\n",
       "<table border=\"1\" class=\"dataframe\">\n",
       "  <thead>\n",
       "    <tr style=\"text-align: right;\">\n",
       "      <th></th>\n",
       "      <th>id</th>\n",
       "      <th>id_order</th>\n",
       "      <th>product_id</th>\n",
       "      <th>product_quantity</th>\n",
       "      <th>sku</th>\n",
       "      <th>unit_price</th>\n",
       "      <th>date</th>\n",
       "      <th>integers</th>\n",
       "      <th>decimals</th>\n",
       "    </tr>\n",
       "  </thead>\n",
       "  <tbody>\n",
       "    <tr>\n",
       "      <th>0</th>\n",
       "      <td>1119109</td>\n",
       "      <td>299539</td>\n",
       "      <td>0</td>\n",
       "      <td>1</td>\n",
       "      <td>OTT0133</td>\n",
       "      <td>18.99</td>\n",
       "      <td>2017-01-01 00:07:19</td>\n",
       "      <td>18</td>\n",
       "      <td>.99</td>\n",
       "    </tr>\n",
       "    <tr>\n",
       "      <th>1</th>\n",
       "      <td>1119110</td>\n",
       "      <td>299540</td>\n",
       "      <td>0</td>\n",
       "      <td>1</td>\n",
       "      <td>LGE0043</td>\n",
       "      <td>399.00</td>\n",
       "      <td>2017-01-01 00:19:45</td>\n",
       "      <td>399</td>\n",
       "      <td>.00</td>\n",
       "    </tr>\n",
       "    <tr>\n",
       "      <th>2</th>\n",
       "      <td>1119111</td>\n",
       "      <td>299541</td>\n",
       "      <td>0</td>\n",
       "      <td>1</td>\n",
       "      <td>PAR0071</td>\n",
       "      <td>474.05</td>\n",
       "      <td>2017-01-01 00:20:57</td>\n",
       "      <td>474</td>\n",
       "      <td>.05</td>\n",
       "    </tr>\n",
       "    <tr>\n",
       "      <th>3</th>\n",
       "      <td>1119112</td>\n",
       "      <td>299542</td>\n",
       "      <td>0</td>\n",
       "      <td>1</td>\n",
       "      <td>WDT0315</td>\n",
       "      <td>68.39</td>\n",
       "      <td>2017-01-01 00:51:40</td>\n",
       "      <td>68</td>\n",
       "      <td>.39</td>\n",
       "    </tr>\n",
       "    <tr>\n",
       "      <th>4</th>\n",
       "      <td>1119113</td>\n",
       "      <td>299543</td>\n",
       "      <td>0</td>\n",
       "      <td>1</td>\n",
       "      <td>JBL0104</td>\n",
       "      <td>23.74</td>\n",
       "      <td>2017-01-01 01:06:38</td>\n",
       "      <td>23</td>\n",
       "      <td>.74</td>\n",
       "    </tr>\n",
       "  </tbody>\n",
       "</table>\n",
       "</div>"
      ],
      "text/plain": [
       "        id  id_order  product_id  product_quantity      sku unit_price  \\\n",
       "0  1119109    299539           0                 1  OTT0133      18.99   \n",
       "1  1119110    299540           0                 1  LGE0043     399.00   \n",
       "2  1119111    299541           0                 1  PAR0071     474.05   \n",
       "3  1119112    299542           0                 1  WDT0315      68.39   \n",
       "4  1119113    299543           0                 1  JBL0104      23.74   \n",
       "\n",
       "                  date integers decimals  \n",
       "0  2017-01-01 00:07:19       18      .99  \n",
       "1  2017-01-01 00:19:45      399      .00  \n",
       "2  2017-01-01 00:20:57      474      .05  \n",
       "3  2017-01-01 00:51:40       68      .39  \n",
       "4  2017-01-01 01:06:38       23      .74  "
      ]
     },
     "execution_count": 53,
     "metadata": {},
     "output_type": "execute_result"
    }
   ],
   "source": [
    "# create a copy of orderlines\n",
    "ol_temp = orderlines.copy()\n",
    "\n",
    "# extract all the numbers before the last dot (example: 987.99 --> 987)\n",
    "ol_temp['integers'] = ol_temp['unit_price'].str[:-3]\n",
    "\n",
    "# extract all the decimals in a number and the dot (example: 987.99 --> .99)\n",
    "ol_temp['decimals'] = ol_temp['unit_price'].str[-3:]\n",
    "ol_temp.head()"
   ]
  },
  {
   "cell_type": "code",
   "execution_count": 54,
   "id": "1f8f0182-c368-4a12-b31a-741dd5ceab4d",
   "metadata": {},
   "outputs": [
    {
     "name": "stdout",
     "output_type": "stream",
     "text": [
      "Are both option the same? True\n"
     ]
    },
    {
     "data": {
      "text/plain": [
       "120490458.80999997"
      ]
     },
     "execution_count": 54,
     "metadata": {},
     "output_type": "execute_result"
    }
   ],
   "source": [
    "# remove all the dots in the integers and join them again with the decimals\n",
    "ol_temp['unit_price'] = ol_temp['integers'].str.replace('.','', regex=False) + ol_temp['decimals']\n",
    "\n",
    "# transform to numeric\n",
    "ol_temp['unit_price'] = pd.to_numeric(ol_temp['unit_price'])\n",
    "\n",
    "# error check\n",
    "option_2_sum = ol_temp['unit_price'].sum()\n",
    "print('Are both option the same?', option_1_sum == option_2_sum)\n",
    "option_2_sum"
   ]
  },
  {
   "cell_type": "markdown",
   "id": "ecd38b60-18fa-4762-9967-5f73b63461b9",
   "metadata": {},
   "source": [
    "##### Applying the changes to order lines"
   ]
  },
  {
   "cell_type": "code",
   "execution_count": 55,
   "id": "fb1f6847-a4e9-4c08-b23f-44abf66a4189",
   "metadata": {},
   "outputs": [],
   "source": [
    "orderlines = ol_temp.drop(columns=['integers','decimals'])"
   ]
  },
  {
   "cell_type": "markdown",
   "id": "f9d781e5-f2de-4198-b380-d0724721db7e",
   "metadata": {},
   "source": [
    "### Products"
   ]
  },
  {
   "cell_type": "markdown",
   "id": "1c78c6cc-0056-4f7a-bd2c-db2ca5dcc799",
   "metadata": {},
   "source": [
    "#### Duplicated rows"
   ]
  },
  {
   "cell_type": "code",
   "execution_count": 56,
   "id": "2534a084-a7b8-4a41-a1e0-759c3469f147",
   "metadata": {},
   "outputs": [
    {
     "name": "stdout",
     "output_type": "stream",
     "text": [
      "100.0% Not duplicated rows.\n",
      "100.0% Not duplicated rows.\n",
      "sku\n",
      "8MO0001-A    1\n",
      "PAC1556      1\n",
      "PAC1558      1\n",
      "dtype: int64\n"
     ]
    }
   ],
   "source": [
    "print(str(round(products.drop_duplicates().shape[0] / products.shape[0] * 100, 2)) + '% Not duplicated rows.')\n",
    "\n",
    "# drop all duplicates\n",
    "products.drop_duplicates(inplace=True)\n",
    "\n",
    "# check again but only with \n",
    "print(str(round(products.drop_duplicates('sku').shape[0] / products.shape[0] * 100, 2)) + '% Not duplicated rows.')\n",
    "\n",
    "# Detect the problem\n",
    "print(products.value_counts('sku').head(3))\n",
    "\n",
    "# The price is a missing value! We can drop it \n",
    "products.query('sku == \"APP1197\"')\n",
    "products.drop_duplicates('sku', inplace=True)"
   ]
  },
  {
   "cell_type": "markdown",
   "id": "48982470-0b2b-4b80-81b4-6eb4fb71c3ea",
   "metadata": {},
   "source": [
    "#### Data integrity & missing values"
   ]
  },
  {
   "cell_type": "markdown",
   "id": "97c94ed4-44df-4cea-aade-339ce5845a3d",
   "metadata": {},
   "source": [
    "##### Error location"
   ]
  },
  {
   "cell_type": "code",
   "execution_count": 57,
   "id": "ea208cdd-54fa-494d-85e3-21637cbf1d6e",
   "metadata": {},
   "outputs": [
    {
     "name": "stdout",
     "output_type": "stream",
     "text": [
      "Number of products with two \".\": 587. They are 5.5% of the products.\n"
     ]
    },
    {
     "data": {
      "text/html": [
       "<div>\n",
       "<style scoped>\n",
       "    .dataframe tbody tr th:only-of-type {\n",
       "        vertical-align: middle;\n",
       "    }\n",
       "\n",
       "    .dataframe tbody tr th {\n",
       "        vertical-align: top;\n",
       "    }\n",
       "\n",
       "    .dataframe thead th {\n",
       "        text-align: right;\n",
       "    }\n",
       "</style>\n",
       "<table border=\"1\" class=\"dataframe\">\n",
       "  <thead>\n",
       "    <tr style=\"text-align: right;\">\n",
       "      <th></th>\n",
       "      <th>sku</th>\n",
       "      <th>name</th>\n",
       "      <th>desc</th>\n",
       "      <th>price</th>\n",
       "      <th>promo_price</th>\n",
       "      <th>in_stock</th>\n",
       "      <th>type</th>\n",
       "    </tr>\n",
       "  </thead>\n",
       "  <tbody>\n",
       "    <tr>\n",
       "      <th>34</th>\n",
       "      <td>TWS0019</td>\n",
       "      <td>Twelve South MagicWand support Apple Magic Tra...</td>\n",
       "      <td>MagicWand for wireless keyboard and Magic Trac...</td>\n",
       "      <td>NaN</td>\n",
       "      <td>299.899</td>\n",
       "      <td>0</td>\n",
       "      <td>8696</td>\n",
       "    </tr>\n",
       "    <tr>\n",
       "      <th>362</th>\n",
       "      <td>REP0043</td>\n",
       "      <td>Speaker lower repair iPhone 4</td>\n",
       "      <td>Repair service including parts and labor for i...</td>\n",
       "      <td>499.004</td>\n",
       "      <td>499.004</td>\n",
       "      <td>0</td>\n",
       "      <td>1,44E+11</td>\n",
       "    </tr>\n",
       "    <tr>\n",
       "      <th>480</th>\n",
       "      <td>PIE0011</td>\n",
       "      <td>Internal Battery for iPhone 3G</td>\n",
       "      <td>Replacement AC Adapter for Apple iPhone 3G.</td>\n",
       "      <td>98.978</td>\n",
       "      <td>98.978</td>\n",
       "      <td>0</td>\n",
       "      <td>21485407</td>\n",
       "    </tr>\n",
       "    <tr>\n",
       "      <th>515</th>\n",
       "      <td>SEN0061</td>\n",
       "      <td>Sennheiser EZX 80 Handsfree iPhone iPad and iP...</td>\n",
       "      <td>IPhone bluetooth headset with microphone iPad ...</td>\n",
       "      <td>649.891</td>\n",
       "      <td>649.891</td>\n",
       "      <td>0</td>\n",
       "      <td>5384</td>\n",
       "    </tr>\n",
       "    <tr>\n",
       "      <th>518</th>\n",
       "      <td>SEV0026</td>\n",
       "      <td>Service installation RAM + HDD + SSD MacBook /...</td>\n",
       "      <td>RAM + HDD installation + SSD in your MacBook /...</td>\n",
       "      <td>599.918</td>\n",
       "      <td>599.918</td>\n",
       "      <td>0</td>\n",
       "      <td>20642062</td>\n",
       "    </tr>\n",
       "  </tbody>\n",
       "</table>\n",
       "</div>"
      ],
      "text/plain": [
       "         sku                                               name  \\\n",
       "34   TWS0019  Twelve South MagicWand support Apple Magic Tra...   \n",
       "362  REP0043                      Speaker lower repair iPhone 4   \n",
       "480  PIE0011                     Internal Battery for iPhone 3G   \n",
       "515  SEN0061  Sennheiser EZX 80 Handsfree iPhone iPad and iP...   \n",
       "518  SEV0026  Service installation RAM + HDD + SSD MacBook /...   \n",
       "\n",
       "                                                  desc    price promo_price  \\\n",
       "34   MagicWand for wireless keyboard and Magic Trac...      NaN     299.899   \n",
       "362  Repair service including parts and labor for i...  499.004     499.004   \n",
       "480        Replacement AC Adapter for Apple iPhone 3G.   98.978      98.978   \n",
       "515  IPhone bluetooth headset with microphone iPad ...  649.891     649.891   \n",
       "518  RAM + HDD installation + SSD in your MacBook /...  599.918     599.918   \n",
       "\n",
       "     in_stock      type  \n",
       "34          0      8696  \n",
       "362         0  1,44E+11  \n",
       "480         0  21485407  \n",
       "515         0      5384  \n",
       "518         0  20642062  "
      ]
     },
     "execution_count": 57,
     "metadata": {},
     "output_type": "execute_result"
    }
   ],
   "source": [
    "# look for all the prices which have 3 digits after its dots\n",
    "regexp = '\\.\\d{3}'\n",
    "prod_price_error = products.loc[products['price'].str.count(regexp) != 0]\n",
    "\n",
    "print(\n",
    "    'Number of products with two \".\":',\n",
    "    str(prod_price_error.shape[0]) + \n",
    "    '. They are', str(round(prod_price_error.shape[0] / products.shape[0] * 100, 1)) + \n",
    "    \"% of the products.\"\n",
    ")\n",
    "# check the percentage in the orders_lines\n",
    "prod_price_error.head()"
   ]
  },
  {
   "cell_type": "code",
   "execution_count": 58,
   "id": "2fef725c-8989-4f34-81fc-a6a535202161",
   "metadata": {},
   "outputs": [
    {
     "name": "stdout",
     "output_type": "stream",
     "text": [
      "2.49% of order lines with products with errors.\n",
      "2.54% of the total order lines revenue\n"
     ]
    }
   ],
   "source": [
    "# looking at the % of order lines that contains this products\n",
    "print(\n",
    "    str(round((orderlines.loc[orderlines['sku'].isin(prod_price_error['sku'].tolist())].shape[0] / orderlines.shape[0])*100, 2)) +\n",
    "    '% of order lines with products with errors.'\n",
    ")\n",
    "\n",
    "print(\n",
    "    str(round(orderlines.loc[orderlines['sku'].isin(prod_price_error['sku'].tolist())]['unit_price'].sum() / orderlines['unit_price'].sum() * 100, 2)) + \n",
    "    '% of the total order lines revenue'\n",
    ")"
   ]
  },
  {
   "cell_type": "markdown",
   "id": "6707587b-de73-46e7-95f6-b0c853f4ccb2",
   "metadata": {},
   "source": [
    "##### Solution 1: drop all the products with problem in prices"
   ]
  },
  {
   "cell_type": "markdown",
   "id": "0a4ade34-2a3c-45a0-bbb2-d9635e8947fe",
   "metadata": {},
   "source": [
    "##### Solution 2: fill the problems with orderlines information"
   ]
  },
  {
   "cell_type": "code",
   "execution_count": 59,
   "id": "691fc77a-11cb-40da-881b-f2de47119ceb",
   "metadata": {},
   "outputs": [
    {
     "name": "stdout",
     "output_type": "stream",
     "text": [
      "<class 'pandas.core.frame.DataFrame'>\n",
      "Int64Index: 10579 entries, 0 to 19325\n",
      "Data columns (total 7 columns):\n",
      " #   Column       Non-Null Count  Dtype  \n",
      "---  ------       --------------  -----  \n",
      " 0   sku          10579 non-null  object \n",
      " 1   name         10579 non-null  object \n",
      " 2   desc         10572 non-null  object \n",
      " 3   price        10157 non-null  float64\n",
      " 4   promo_price  10579 non-null  object \n",
      " 5   in_stock     10579 non-null  int64  \n",
      " 6   type         10529 non-null  object \n",
      "dtypes: float64(1), int64(1), object(5)\n",
      "memory usage: 661.2+ KB\n",
      "Missing values on products: \n"
     ]
    },
    {
     "data": {
      "text/plain": [
       "sku              0\n",
       "name             0\n",
       "desc             7\n",
       "price          422\n",
       "promo_price      0\n",
       "in_stock         0\n",
       "type            50\n",
       "dtype: int64"
      ]
     },
     "execution_count": 59,
     "metadata": {},
     "output_type": "execute_result"
    }
   ],
   "source": [
    "# To solve that problem, I am going to substitute all the weird prices with a missing value\n",
    "# import nan function from numpy to substitute the values with a missing value\n",
    "from numpy import nan\n",
    "products.loc[products['price'].str.count(regexp) > 1, 'price'] = nan\n",
    "\n",
    "# transform to numeric the price column on products\n",
    "products['price'] = pd.to_numeric(products['price'])\n",
    "products.info()\n",
    "# show the missing values on the dataset\n",
    "print('Missing values on products: ')\n",
    "products.isna().sum()"
   ]
  },
  {
   "cell_type": "code",
   "execution_count": 60,
   "id": "a42d93ae-17c8-4b51-9577-58ec4691f3fd",
   "metadata": {},
   "outputs": [
    {
     "data": {
      "text/html": [
       "<div>\n",
       "<style scoped>\n",
       "    .dataframe tbody tr th:only-of-type {\n",
       "        vertical-align: middle;\n",
       "    }\n",
       "\n",
       "    .dataframe tbody tr th {\n",
       "        vertical-align: top;\n",
       "    }\n",
       "\n",
       "    .dataframe thead th {\n",
       "        text-align: right;\n",
       "    }\n",
       "</style>\n",
       "<table border=\"1\" class=\"dataframe\">\n",
       "  <thead>\n",
       "    <tr style=\"text-align: right;\">\n",
       "      <th></th>\n",
       "      <th>sku</th>\n",
       "      <th>max_price</th>\n",
       "    </tr>\n",
       "  </thead>\n",
       "  <tbody>\n",
       "    <tr>\n",
       "      <th>1</th>\n",
       "      <td>APP0660-A</td>\n",
       "      <td>253.11</td>\n",
       "    </tr>\n",
       "    <tr>\n",
       "      <th>6</th>\n",
       "      <td>APP0869</td>\n",
       "      <td>539.00</td>\n",
       "    </tr>\n",
       "    <tr>\n",
       "      <th>7</th>\n",
       "      <td>APP0870</td>\n",
       "      <td>539.00</td>\n",
       "    </tr>\n",
       "    <tr>\n",
       "      <th>8</th>\n",
       "      <td>APP0871</td>\n",
       "      <td>539.00</td>\n",
       "    </tr>\n",
       "    <tr>\n",
       "      <th>9</th>\n",
       "      <td>APP0879</td>\n",
       "      <td>659.00</td>\n",
       "    </tr>\n",
       "  </tbody>\n",
       "</table>\n",
       "</div>"
      ],
      "text/plain": [
       "         sku  max_price\n",
       "1  APP0660-A     253.11\n",
       "6    APP0869     539.00\n",
       "7    APP0870     539.00\n",
       "8    APP0871     539.00\n",
       "9    APP0879     659.00"
      ]
     },
     "execution_count": 60,
     "metadata": {},
     "output_type": "execute_result"
    }
   ],
   "source": [
    "# Can I fill this missing data with orderlines information?\n",
    "# Yes, using the maximum price in the orderlines\n",
    "prod_na_price = (\n",
    "products\n",
    "    # locate only the rows that has a missing value in the column price\n",
    "    .loc[products['price'].isna()]\n",
    "    # merge with orderlines to look at the information of this products\n",
    "    .merge(orderlines, how='left',on='sku')\n",
    "    # find out the maximum value in unit price for each sku\n",
    "    .groupby(['sku'])\n",
    "    .agg({'unit_price':'max'})\n",
    "    # reset index to keep on performing pandas operations\n",
    "    .reset_index()\n",
    "    # rename the columns to make sense of the values on it\n",
    "    .rename(columns = {'unit_price':'max_price'})\n",
    "    # round the price to two digits to help us understand them \n",
    "    .assign(max_price = lambda x: round(x['max_price'], 2))\n",
    "    # drop all the products missing in orderlines\n",
    "    .dropna()\n",
    ")\n",
    "prod_na_price.head()"
   ]
  },
  {
   "cell_type": "code",
   "execution_count": 61,
   "id": "3d8918cc-7218-4fdf-945e-2271b2c8f998",
   "metadata": {},
   "outputs": [
    {
     "data": {
      "text/html": [
       "<div>\n",
       "<style scoped>\n",
       "    .dataframe tbody tr th:only-of-type {\n",
       "        vertical-align: middle;\n",
       "    }\n",
       "\n",
       "    .dataframe tbody tr th {\n",
       "        vertical-align: top;\n",
       "    }\n",
       "\n",
       "    .dataframe thead th {\n",
       "        text-align: right;\n",
       "    }\n",
       "</style>\n",
       "<table border=\"1\" class=\"dataframe\">\n",
       "  <thead>\n",
       "    <tr style=\"text-align: right;\">\n",
       "      <th></th>\n",
       "      <th>sku</th>\n",
       "      <th>name</th>\n",
       "      <th>price</th>\n",
       "      <th>promo_price</th>\n",
       "      <th>max_price</th>\n",
       "    </tr>\n",
       "  </thead>\n",
       "  <tbody>\n",
       "    <tr>\n",
       "      <th>0</th>\n",
       "      <td>TWS0019</td>\n",
       "      <td>Twelve South MagicWand support Apple Magic Tra...</td>\n",
       "      <td>NaN</td>\n",
       "      <td>299.899</td>\n",
       "      <td>29.99</td>\n",
       "    </tr>\n",
       "    <tr>\n",
       "      <th>1</th>\n",
       "      <td>CRU0015-2</td>\n",
       "      <td>Crucial memory Mac 16GB (2x8GB) SO-DIMM DDR3 1...</td>\n",
       "      <td>NaN</td>\n",
       "      <td>1.629.894</td>\n",
       "      <td>177.99</td>\n",
       "    </tr>\n",
       "    <tr>\n",
       "      <th>6</th>\n",
       "      <td>REP0156</td>\n",
       "      <td>iPhone 5 GSM antenna repair</td>\n",
       "      <td>NaN</td>\n",
       "      <td>699.899</td>\n",
       "      <td>68.99</td>\n",
       "    </tr>\n",
       "    <tr>\n",
       "      <th>7</th>\n",
       "      <td>REP0185</td>\n",
       "      <td>Home button repair iPad mini</td>\n",
       "      <td>NaN</td>\n",
       "      <td>699.899</td>\n",
       "      <td>69.99</td>\n",
       "    </tr>\n",
       "    <tr>\n",
       "      <th>8</th>\n",
       "      <td>REP0188</td>\n",
       "      <td>Full Screen Repair iPad Mini 2</td>\n",
       "      <td>NaN</td>\n",
       "      <td>2.099.895</td>\n",
       "      <td>209.99</td>\n",
       "    </tr>\n",
       "  </tbody>\n",
       "</table>\n",
       "</div>"
      ],
      "text/plain": [
       "         sku                                               name  price  \\\n",
       "0    TWS0019  Twelve South MagicWand support Apple Magic Tra...    NaN   \n",
       "1  CRU0015-2  Crucial memory Mac 16GB (2x8GB) SO-DIMM DDR3 1...    NaN   \n",
       "6    REP0156                        iPhone 5 GSM antenna repair    NaN   \n",
       "7    REP0185                       Home button repair iPad mini    NaN   \n",
       "8    REP0188                     Full Screen Repair iPad Mini 2    NaN   \n",
       "\n",
       "  promo_price  max_price  \n",
       "0     299.899      29.99  \n",
       "1   1.629.894     177.99  \n",
       "6     699.899      68.99  \n",
       "7     699.899      69.99  \n",
       "8   2.099.895     209.99  "
      ]
     },
     "execution_count": 61,
     "metadata": {},
     "output_type": "execute_result"
    }
   ],
   "source": [
    "# it seems there is a relation between promo price and maximum price,\n",
    "# so I am going to replace the wrong prices with the maximum price in orderlines\n",
    "(\n",
    "products\n",
    "    # locate all the rows with missing values in the column price\n",
    "    .loc[products['price'].isna()]\n",
    "    # join the information with the table we created before, that contains the \n",
    "    # maximum values for each product with a wrong price in products table\n",
    "    .merge(prod_na_price, how='left',on='sku')\n",
    "    # drop all the products that we are not able to find on the ordelines table\n",
    "    .dropna(subset=['max_price'])\n",
    "    # drop columns we are not interested to see\n",
    "    .drop(['desc','in_stock','type'], axis=1)\n",
    "    .head()\n",
    ")"
   ]
  },
  {
   "cell_type": "code",
   "execution_count": 62,
   "id": "5cfb3c47-278f-41a1-a62e-12529eebfbe1",
   "metadata": {},
   "outputs": [
    {
     "data": {
      "text/html": [
       "<div>\n",
       "<style scoped>\n",
       "    .dataframe tbody tr th:only-of-type {\n",
       "        vertical-align: middle;\n",
       "    }\n",
       "\n",
       "    .dataframe tbody tr th {\n",
       "        vertical-align: top;\n",
       "    }\n",
       "\n",
       "    .dataframe thead th {\n",
       "        text-align: right;\n",
       "    }\n",
       "</style>\n",
       "<table border=\"1\" class=\"dataframe\">\n",
       "  <thead>\n",
       "    <tr style=\"text-align: right;\">\n",
       "      <th></th>\n",
       "      <th>sku</th>\n",
       "      <th>name</th>\n",
       "      <th>desc</th>\n",
       "      <th>price</th>\n",
       "      <th>promo_price</th>\n",
       "      <th>in_stock</th>\n",
       "      <th>type</th>\n",
       "      <th>max_price</th>\n",
       "      <th>inferred_price</th>\n",
       "    </tr>\n",
       "  </thead>\n",
       "  <tbody>\n",
       "    <tr>\n",
       "      <th>0</th>\n",
       "      <td>RAI0007</td>\n",
       "      <td>Silver Rain Design mStand Support</td>\n",
       "      <td>Aluminum support compatible with all MacBook</td>\n",
       "      <td>59.99</td>\n",
       "      <td>499.899</td>\n",
       "      <td>1</td>\n",
       "      <td>8696</td>\n",
       "      <td>NaN</td>\n",
       "      <td>False</td>\n",
       "    </tr>\n",
       "    <tr>\n",
       "      <th>1</th>\n",
       "      <td>APP0023</td>\n",
       "      <td>Apple Mac Keyboard Keypad Spanish</td>\n",
       "      <td>USB ultrathin keyboard Apple Mac Spanish.</td>\n",
       "      <td>59.00</td>\n",
       "      <td>589.996</td>\n",
       "      <td>0</td>\n",
       "      <td>13855401</td>\n",
       "      <td>NaN</td>\n",
       "      <td>False</td>\n",
       "    </tr>\n",
       "    <tr>\n",
       "      <th>2</th>\n",
       "      <td>APP0025</td>\n",
       "      <td>Mighty Mouse Apple Mouse for Mac</td>\n",
       "      <td>mouse Apple USB cable.</td>\n",
       "      <td>59.00</td>\n",
       "      <td>569.898</td>\n",
       "      <td>0</td>\n",
       "      <td>1387</td>\n",
       "      <td>NaN</td>\n",
       "      <td>False</td>\n",
       "    </tr>\n",
       "    <tr>\n",
       "      <th>3</th>\n",
       "      <td>APP0072</td>\n",
       "      <td>Apple Dock to USB Cable iPhone and iPod white</td>\n",
       "      <td>IPhone dock and USB Cable Apple iPod.</td>\n",
       "      <td>25.00</td>\n",
       "      <td>229.997</td>\n",
       "      <td>0</td>\n",
       "      <td>1230</td>\n",
       "      <td>NaN</td>\n",
       "      <td>False</td>\n",
       "    </tr>\n",
       "    <tr>\n",
       "      <th>4</th>\n",
       "      <td>KIN0007</td>\n",
       "      <td>Mac Memory Kingston 2GB 667MHz DDR2 SO-DIMM</td>\n",
       "      <td>2GB RAM Mac mini and iMac (2006/07) MacBook Pr...</td>\n",
       "      <td>34.99</td>\n",
       "      <td>31.99</td>\n",
       "      <td>1</td>\n",
       "      <td>1364</td>\n",
       "      <td>NaN</td>\n",
       "      <td>False</td>\n",
       "    </tr>\n",
       "  </tbody>\n",
       "</table>\n",
       "</div>"
      ],
      "text/plain": [
       "       sku                                           name  \\\n",
       "0  RAI0007              Silver Rain Design mStand Support   \n",
       "1  APP0023              Apple Mac Keyboard Keypad Spanish   \n",
       "2  APP0025               Mighty Mouse Apple Mouse for Mac   \n",
       "3  APP0072  Apple Dock to USB Cable iPhone and iPod white   \n",
       "4  KIN0007    Mac Memory Kingston 2GB 667MHz DDR2 SO-DIMM   \n",
       "\n",
       "                                                desc  price promo_price  \\\n",
       "0       Aluminum support compatible with all MacBook  59.99     499.899   \n",
       "1          USB ultrathin keyboard Apple Mac Spanish.  59.00     589.996   \n",
       "2                             mouse Apple USB cable.  59.00     569.898   \n",
       "3              IPhone dock and USB Cable Apple iPod.  25.00     229.997   \n",
       "4  2GB RAM Mac mini and iMac (2006/07) MacBook Pr...  34.99       31.99   \n",
       "\n",
       "   in_stock      type  max_price  inferred_price  \n",
       "0         1      8696        NaN           False  \n",
       "1         0  13855401        NaN           False  \n",
       "2         0      1387        NaN           False  \n",
       "3         0      1230        NaN           False  \n",
       "4         1      1364        NaN           False  "
      ]
     },
     "execution_count": 62,
     "metadata": {},
     "output_type": "execute_result"
    }
   ],
   "source": [
    "# time to replace the missing values with the maximum price from order lines\n",
    "# get the maximum price from the table prod_na_price\n",
    "merged_prod = products.merge(prod_na_price, how='left', on='sku')\n",
    "\n",
    "# fill the missing values in price with the new column 'max_price'\n",
    "merged_prod['price'] = merged_prod['price'].fillna(merged_prod['max_price'])\n",
    "\n",
    "# drop the products that do not have any maximum value (because they do not appear on orderlines)\n",
    "merged_prod.dropna(subset = ['price'], inplace=True)\n",
    "\n",
    "# create a column to remember which are the modified products price\n",
    "merged_prod['inferred_price'] = merged_prod['sku'].isin(prod_na_price['sku'])\n",
    "merged_prod.head()"
   ]
  },
  {
   "cell_type": "markdown",
   "id": "ea0e5987-ecca-4182-88a3-0648664403e3",
   "metadata": {},
   "source": [
    "##### Apply the changes into the products table"
   ]
  },
  {
   "cell_type": "code",
   "execution_count": 63,
   "id": "a8a64657-c4c2-41d8-bac4-776ee398dc95",
   "metadata": {},
   "outputs": [
    {
     "name": "stdout",
     "output_type": "stream",
     "text": [
      "<class 'pandas.core.frame.DataFrame'>\n",
      "Int64Index: 10386 entries, 0 to 10578\n",
      "Data columns (total 5 columns):\n",
      " #   Column          Non-Null Count  Dtype  \n",
      "---  ------          --------------  -----  \n",
      " 0   sku             10386 non-null  object \n",
      " 1   name            10386 non-null  object \n",
      " 2   desc            10379 non-null  object \n",
      " 3   price           10386 non-null  float64\n",
      " 4   inferred_price  10386 non-null  bool   \n",
      "dtypes: bool(1), float64(1), object(3)\n",
      "memory usage: 415.8+ KB\n"
     ]
    }
   ],
   "source": [
    "products = merged_prod.drop(columns=['promo_price','in_stock','type','max_price'])\n",
    "products.info()"
   ]
  },
  {
   "cell_type": "code",
   "execution_count": 64,
   "id": "55f95893-3aa7-4552-b8fa-13c9e377b767",
   "metadata": {},
   "outputs": [
    {
     "data": {
      "text/plain": [
       "sku               0\n",
       "name              0\n",
       "desc              7\n",
       "price             0\n",
       "inferred_price    0\n",
       "dtype: int64"
      ]
     },
     "execution_count": 64,
     "metadata": {},
     "output_type": "execute_result"
    }
   ],
   "source": [
    "products.isna().sum()"
   ]
  },
  {
   "cell_type": "markdown",
   "id": "b41386ac-c178-4e42-9083-f469074dd95a",
   "metadata": {},
   "source": [
    "# Data Quality"
   ]
  },
  {
   "cell_type": "markdown",
   "id": "721e10b1-9d8c-4951-81f4-bc7d95d6d4bc",
   "metadata": {},
   "source": [
    "## Check if the same order id appear in orderlines and orders"
   ]
  },
  {
   "cell_type": "code",
   "execution_count": 65,
   "id": "5d2f6ef1-a654-470e-852f-00ea32e9471e",
   "metadata": {},
   "outputs": [
    {
     "name": "stdout",
     "output_type": "stream",
     "text": [
      "Orders id from orderlines in orders: \n"
     ]
    },
    {
     "data": {
      "text/plain": [
       "True     204607\n",
       "False      2963\n",
       "Name: order_id, dtype: int64"
      ]
     },
     "execution_count": 65,
     "metadata": {},
     "output_type": "execute_result"
    }
   ],
   "source": [
    "print('Orders id from orderlines in orders: ')\n",
    "orders['order_id'].isin(orderlines['id_order']).value_counts()"
   ]
  },
  {
   "cell_type": "code",
   "execution_count": 66,
   "id": "5a244fbb-b545-4e6a-8aab-2cc449e25a81",
   "metadata": {},
   "outputs": [
    {
     "name": "stdout",
     "output_type": "stream",
     "text": [
      "Orders id from orders in orderlines: \n"
     ]
    },
    {
     "data": {
      "text/plain": [
       "True     293556\n",
       "False       427\n",
       "Name: id_order, dtype: int64"
      ]
     },
     "execution_count": 66,
     "metadata": {},
     "output_type": "execute_result"
    }
   ],
   "source": [
    "print('Orders id from orders in orderlines: ')\n",
    "orderlines['id_order'].isin(orders['order_id']).value_counts()"
   ]
  },
  {
   "cell_type": "markdown",
   "id": "cdd8034a-b957-4ec1-b159-ebd812f2f637",
   "metadata": {},
   "source": [
    "How to detect which orders appear on both tables? (ordes and orderlines)\n",
    "An option would be to use `.merge()` and `.query()`. You can achieve the same result with `.isin()` method."
   ]
  },
  {
   "cell_type": "code",
   "execution_count": 67,
   "id": "479aa8ef-20fc-4cb1-a79b-32e4b7900121",
   "metadata": {},
   "outputs": [
    {
     "data": {
      "text/html": [
       "<div>\n",
       "<style scoped>\n",
       "    .dataframe tbody tr th:only-of-type {\n",
       "        vertical-align: middle;\n",
       "    }\n",
       "\n",
       "    .dataframe tbody tr th {\n",
       "        vertical-align: top;\n",
       "    }\n",
       "\n",
       "    .dataframe thead th {\n",
       "        text-align: right;\n",
       "    }\n",
       "</style>\n",
       "<table border=\"1\" class=\"dataframe\">\n",
       "  <thead>\n",
       "    <tr style=\"text-align: right;\">\n",
       "      <th></th>\n",
       "      <th>order_id</th>\n",
       "      <th>id_order</th>\n",
       "    </tr>\n",
       "  </thead>\n",
       "  <tbody>\n",
       "    <tr>\n",
       "      <th>0</th>\n",
       "      <td>241319</td>\n",
       "      <td>241319</td>\n",
       "    </tr>\n",
       "    <tr>\n",
       "      <th>1</th>\n",
       "      <td>241423</td>\n",
       "      <td>241423</td>\n",
       "    </tr>\n",
       "    <tr>\n",
       "      <th>2</th>\n",
       "      <td>242832</td>\n",
       "      <td>242832</td>\n",
       "    </tr>\n",
       "    <tr>\n",
       "      <th>3</th>\n",
       "      <td>243330</td>\n",
       "      <td>243330</td>\n",
       "    </tr>\n",
       "    <tr>\n",
       "      <th>4</th>\n",
       "      <td>243784</td>\n",
       "      <td>243784</td>\n",
       "    </tr>\n",
       "  </tbody>\n",
       "</table>\n",
       "</div>"
      ],
      "text/plain": [
       "   order_id  id_order\n",
       "0    241319    241319\n",
       "1    241423    241423\n",
       "2    242832    242832\n",
       "3    243330    243330\n",
       "4    243784    243784"
      ]
     },
     "execution_count": 67,
     "metadata": {},
     "output_type": "execute_result"
    }
   ],
   "source": [
    "order_ids = pd.merge(\n",
    "    # select the columns from the two tables we want to merge\n",
    "    orders['order_id'], orderlines['id_order'], \n",
    "    # select only the rows that the values appear in both tables\n",
    "    how='inner', \n",
    "    # define the ids on each table\n",
    "    left_on='order_id', right_on='id_order'\n",
    ")\n",
    "order_ids.head()"
   ]
  },
  {
   "cell_type": "code",
   "execution_count": 68,
   "id": "f5727afd-ba10-4642-953b-4de243d7e856",
   "metadata": {},
   "outputs": [],
   "source": [
    "# select any of the columns (both contains the same information) and transform\n",
    "# it into a list\n",
    "order_ids = order_ids['order_id'].to_list()\n",
    "\n",
    "# filter the rows on orders and orderlines\n",
    "orders.query('order_id in @order_ids', inplace=True)\n",
    "orderlines.query('id_order in @order_ids', inplace=True)"
   ]
  },
  {
   "cell_type": "markdown",
   "id": "4a47ce9d-ecec-4f99-9c7e-67997cc8ab86",
   "metadata": {},
   "source": [
    "Time to see if now we have tables (orders and orderlines) with the same order ids: "
   ]
  },
  {
   "cell_type": "code",
   "execution_count": 69,
   "id": "a554d15f-429c-4ce7-a622-313c022a5609",
   "metadata": {},
   "outputs": [
    {
     "name": "stdout",
     "output_type": "stream",
     "text": [
      "Orders id from orderlines in orders: \n"
     ]
    },
    {
     "data": {
      "text/plain": [
       "True    204607\n",
       "Name: order_id, dtype: int64"
      ]
     },
     "execution_count": 69,
     "metadata": {},
     "output_type": "execute_result"
    }
   ],
   "source": [
    "print('Orders id from orderlines in orders: ')\n",
    "orders['order_id'].isin(orderlines['id_order']).value_counts()"
   ]
  },
  {
   "cell_type": "code",
   "execution_count": 70,
   "id": "055f8de8-5ee8-45b2-b5c4-0f8c5f41fbe0",
   "metadata": {},
   "outputs": [
    {
     "name": "stdout",
     "output_type": "stream",
     "text": [
      "Orders id from orders in orderlines: \n"
     ]
    },
    {
     "data": {
      "text/plain": [
       "True    293556\n",
       "Name: id_order, dtype: int64"
      ]
     },
     "execution_count": 70,
     "metadata": {},
     "output_type": "execute_result"
    }
   ],
   "source": [
    "print('Orders id from orders in orderlines: ')\n",
    "orderlines['id_order'].isin(orders['order_id']).value_counts()"
   ]
  },
  {
   "cell_type": "markdown",
   "id": "0627fa82-3ec6-4883-8f9d-bdb7be673b8e",
   "metadata": {},
   "source": [
    "## Check if the dates between ordes and orderlines matches"
   ]
  },
  {
   "cell_type": "code",
   "execution_count": 71,
   "id": "2b6bf86c-3435-409e-8c14-4f701912ff73",
   "metadata": {},
   "outputs": [
    {
     "name": "stdout",
     "output_type": "stream",
     "text": [
      "Min. and max. date in orders:\n"
     ]
    },
    {
     "data": {
      "text/html": [
       "<div>\n",
       "<style scoped>\n",
       "    .dataframe tbody tr th:only-of-type {\n",
       "        vertical-align: middle;\n",
       "    }\n",
       "\n",
       "    .dataframe tbody tr th {\n",
       "        vertical-align: top;\n",
       "    }\n",
       "\n",
       "    .dataframe thead th {\n",
       "        text-align: right;\n",
       "    }\n",
       "</style>\n",
       "<table border=\"1\" class=\"dataframe\">\n",
       "  <thead>\n",
       "    <tr style=\"text-align: right;\">\n",
       "      <th></th>\n",
       "      <th>created_date</th>\n",
       "    </tr>\n",
       "  </thead>\n",
       "  <tbody>\n",
       "    <tr>\n",
       "      <th>min</th>\n",
       "      <td>2017-01-01 00:07:19</td>\n",
       "    </tr>\n",
       "    <tr>\n",
       "      <th>max</th>\n",
       "      <td>2018-03-14 13:58:36</td>\n",
       "    </tr>\n",
       "  </tbody>\n",
       "</table>\n",
       "</div>"
      ],
      "text/plain": [
       "            created_date\n",
       "min  2017-01-01 00:07:19\n",
       "max  2018-03-14 13:58:36"
      ]
     },
     "execution_count": 71,
     "metadata": {},
     "output_type": "execute_result"
    }
   ],
   "source": [
    "print('Min. and max. date in orders:')\n",
    "orders.agg({'created_date':['min','max']})"
   ]
  },
  {
   "cell_type": "code",
   "execution_count": 72,
   "id": "8941ce0a-6dbd-4c28-bc14-f8a2483d7910",
   "metadata": {},
   "outputs": [
    {
     "name": "stdout",
     "output_type": "stream",
     "text": [
      "Min. and max. date in orderlines:\n"
     ]
    },
    {
     "data": {
      "text/html": [
       "<div>\n",
       "<style scoped>\n",
       "    .dataframe tbody tr th:only-of-type {\n",
       "        vertical-align: middle;\n",
       "    }\n",
       "\n",
       "    .dataframe tbody tr th {\n",
       "        vertical-align: top;\n",
       "    }\n",
       "\n",
       "    .dataframe thead th {\n",
       "        text-align: right;\n",
       "    }\n",
       "</style>\n",
       "<table border=\"1\" class=\"dataframe\">\n",
       "  <thead>\n",
       "    <tr style=\"text-align: right;\">\n",
       "      <th></th>\n",
       "      <th>date</th>\n",
       "    </tr>\n",
       "  </thead>\n",
       "  <tbody>\n",
       "    <tr>\n",
       "      <th>min</th>\n",
       "      <td>2017-01-01 00:07:19</td>\n",
       "    </tr>\n",
       "    <tr>\n",
       "      <th>max</th>\n",
       "      <td>2018-03-14 13:58:36</td>\n",
       "    </tr>\n",
       "  </tbody>\n",
       "</table>\n",
       "</div>"
      ],
      "text/plain": [
       "                    date\n",
       "min  2017-01-01 00:07:19\n",
       "max  2018-03-14 13:58:36"
      ]
     },
     "execution_count": 72,
     "metadata": {},
     "output_type": "execute_result"
    }
   ],
   "source": [
    "print('Min. and max. date in orderlines:')\n",
    "orderlines.agg({'date':['min','max']})"
   ]
  },
  {
   "cell_type": "markdown",
   "id": "0cee08a0-c10f-4ef3-8d51-7a97882ea97c",
   "metadata": {},
   "source": [
    "Yes, they are the same."
   ]
  },
  {
   "cell_type": "markdown",
   "id": "5a89057f-5cb0-4b4a-b451-33aaa64baf62",
   "metadata": {},
   "source": [
    "## Select only the completed orders in orders and orderlines"
   ]
  },
  {
   "cell_type": "code",
   "execution_count": 73,
   "id": "a0a0f091-7192-4b51-a5db-05d27189be94",
   "metadata": {},
   "outputs": [
    {
     "name": "stdout",
     "output_type": "stream",
     "text": [
      "Orders rows with all the states: 204607\n",
      "Orders rows with only the completed state: 46558\n"
     ]
    }
   ],
   "source": [
    "print('Orders rows with all the states:', orders.shape[0])\n",
    "orders.query('state == \"Completed\"', inplace=True)\n",
    "print('Orders rows with only the completed state:', orders.shape[0])"
   ]
  },
  {
   "cell_type": "code",
   "execution_count": 74,
   "id": "2ef5a1fe-f260-4a21-95f1-4ac5ebdd7de1",
   "metadata": {},
   "outputs": [
    {
     "name": "stdout",
     "output_type": "stream",
     "text": [
      "Orderlines rows with all the states: 293556\n",
      "Orderlines rows with the completed states: 62101\n"
     ]
    }
   ],
   "source": [
    "# filter the completed ordes in orderlines\n",
    "print('Orderlines rows with all the states:', orderlines.shape[0])\n",
    "\n",
    "# create a list of order id to call it later in the .query function\n",
    "order_id_compl = orders['order_id'].to_list()\n",
    "orderlines.query('id_order in @order_id_compl', inplace=True)\n",
    "\n",
    "print('Orderlines rows with the completed states:', orderlines.shape[0])"
   ]
  },
  {
   "cell_type": "markdown",
   "id": "fecfbb6d-3cd0-49ee-ae1b-c7636559ba8e",
   "metadata": {},
   "source": [
    "## Check all the products in orderlines are in products"
   ]
  },
  {
   "cell_type": "code",
   "execution_count": 75,
   "id": "b611a9aa-87e5-4a43-8102-6f8d6e46061b",
   "metadata": {},
   "outputs": [
    {
     "name": "stdout",
     "output_type": "stream",
     "text": [
      "Orderlines rows without removing any products: 62101\n",
      "Orderlines rows without removing any products: 61740\n"
     ]
    }
   ],
   "source": [
    "# filter the completed ordes in orderlines\n",
    "print('Orderlines rows without removing any products:', orderlines.shape[0])\n",
    "\n",
    "# create a list of order id to call it later in the .query function\n",
    "products_sku = products['sku'].to_list()\n",
    "orderlines.query('sku in @products_sku', inplace=True)\n",
    "\n",
    "print('Orderlines rows without removing any products:', orderlines.shape[0])"
   ]
  },
  {
   "cell_type": "markdown",
   "id": "38e91086-cf9a-4402-8393-6856f538d438",
   "metadata": {},
   "source": [
    "# Data exploration"
   ]
  },
  {
   "cell_type": "markdown",
   "id": "86c8f711-b29d-4ee5-9ded-954c99d1add2",
   "metadata": {},
   "source": [
    "## Create enriched datasets\n",
    "\n",
    "We will group all the information in two dataframes: \n",
    "\n",
    "* Orders: it will include the total unit price aggregated from orderlines and the shipping cost\n",
    "* Orderlines: we will merge the information from products and brands to have everything in one dataframe"
   ]
  },
  {
   "cell_type": "markdown",
   "id": "adfc5649-bf44-4933-b907-08f484b36e19",
   "metadata": {},
   "source": [
    "### Orderlines with products and brands information"
   ]
  },
  {
   "cell_type": "code",
   "execution_count": 76,
   "id": "7bef2bb0-d286-4c5d-81b9-3f7c230a7142",
   "metadata": {},
   "outputs": [
    {
     "data": {
      "text/html": [
       "<div>\n",
       "<style scoped>\n",
       "    .dataframe tbody tr th:only-of-type {\n",
       "        vertical-align: middle;\n",
       "    }\n",
       "\n",
       "    .dataframe tbody tr th {\n",
       "        vertical-align: top;\n",
       "    }\n",
       "\n",
       "    .dataframe thead th {\n",
       "        text-align: right;\n",
       "    }\n",
       "</style>\n",
       "<table border=\"1\" class=\"dataframe\">\n",
       "  <thead>\n",
       "    <tr style=\"text-align: right;\">\n",
       "      <th></th>\n",
       "      <th>id</th>\n",
       "      <th>id_order</th>\n",
       "      <th>product_id</th>\n",
       "      <th>product_quantity</th>\n",
       "      <th>sku</th>\n",
       "      <th>unit_price</th>\n",
       "      <th>date</th>\n",
       "      <th>name</th>\n",
       "      <th>desc</th>\n",
       "      <th>price</th>\n",
       "      <th>inferred_price</th>\n",
       "      <th>short</th>\n",
       "      <th>discount</th>\n",
       "      <th>discount_perc</th>\n",
       "      <th>total_price</th>\n",
       "      <th>long</th>\n",
       "    </tr>\n",
       "  </thead>\n",
       "  <tbody>\n",
       "    <tr>\n",
       "      <th>0</th>\n",
       "      <td>1119116</td>\n",
       "      <td>299545</td>\n",
       "      <td>0</td>\n",
       "      <td>1</td>\n",
       "      <td>OWC0100</td>\n",
       "      <td>47.49</td>\n",
       "      <td>2017-01-01 01:46:16</td>\n",
       "      <td>OWC In-line Digital Temperature Sensor Kit HDD...</td>\n",
       "      <td>Kit temperature sensor for HDD iMac 21 inch an...</td>\n",
       "      <td>60.99</td>\n",
       "      <td>False</td>\n",
       "      <td>OWC</td>\n",
       "      <td>True</td>\n",
       "      <td>0.284270</td>\n",
       "      <td>47.49</td>\n",
       "      <td>OWC</td>\n",
       "    </tr>\n",
       "    <tr>\n",
       "      <th>1</th>\n",
       "      <td>1119119</td>\n",
       "      <td>299546</td>\n",
       "      <td>0</td>\n",
       "      <td>1</td>\n",
       "      <td>IOT0014</td>\n",
       "      <td>18.99</td>\n",
       "      <td>2017-01-01 01:50:34</td>\n",
       "      <td>iOttie Easy View 2 Car Black Support</td>\n",
       "      <td>IPhone car holder 7 plus / 7/6 Plus / 6 / 5s /...</td>\n",
       "      <td>22.95</td>\n",
       "      <td>False</td>\n",
       "      <td>IOT</td>\n",
       "      <td>True</td>\n",
       "      <td>0.208531</td>\n",
       "      <td>18.99</td>\n",
       "      <td>iOttie</td>\n",
       "    </tr>\n",
       "    <tr>\n",
       "      <th>2</th>\n",
       "      <td>1119120</td>\n",
       "      <td>295347</td>\n",
       "      <td>0</td>\n",
       "      <td>1</td>\n",
       "      <td>APP0700</td>\n",
       "      <td>72.19</td>\n",
       "      <td>2017-01-01 01:54:11</td>\n",
       "      <td>Apple 85W MagSafe 2 charger MacBook Pro screen...</td>\n",
       "      <td>Apple MagSafe 2 Charger for MacBook Pro 15-inc...</td>\n",
       "      <td>89.00</td>\n",
       "      <td>False</td>\n",
       "      <td>APP</td>\n",
       "      <td>True</td>\n",
       "      <td>0.232858</td>\n",
       "      <td>72.19</td>\n",
       "      <td>Apple</td>\n",
       "    </tr>\n",
       "    <tr>\n",
       "      <th>3</th>\n",
       "      <td>1119126</td>\n",
       "      <td>299549</td>\n",
       "      <td>0</td>\n",
       "      <td>1</td>\n",
       "      <td>PAC0929</td>\n",
       "      <td>2565.99</td>\n",
       "      <td>2017-01-01 02:07:42</td>\n",
       "      <td>Apple iMac 27 \"Core i5 3.2GHz Retina 5K | 32GB...</td>\n",
       "      <td>IMac desktop computer 27 inch Retina 5K RAM 32...</td>\n",
       "      <td>3209.00</td>\n",
       "      <td>False</td>\n",
       "      <td>PAC</td>\n",
       "      <td>True</td>\n",
       "      <td>0.250589</td>\n",
       "      <td>2565.99</td>\n",
       "      <td>Pack</td>\n",
       "    </tr>\n",
       "    <tr>\n",
       "      <th>4</th>\n",
       "      <td>1119134</td>\n",
       "      <td>299556</td>\n",
       "      <td>0</td>\n",
       "      <td>1</td>\n",
       "      <td>CRU0039-A</td>\n",
       "      <td>60.90</td>\n",
       "      <td>2017-01-01 02:20:14</td>\n",
       "      <td>(Open) Crucial 240GB SSD 7mm BX200</td>\n",
       "      <td>SSD hard drive and high-speed performance with...</td>\n",
       "      <td>76.99</td>\n",
       "      <td>False</td>\n",
       "      <td>CRU</td>\n",
       "      <td>True</td>\n",
       "      <td>0.264204</td>\n",
       "      <td>60.90</td>\n",
       "      <td>Crucial</td>\n",
       "    </tr>\n",
       "  </tbody>\n",
       "</table>\n",
       "</div>"
      ],
      "text/plain": [
       "        id  id_order  product_id  product_quantity        sku  unit_price  \\\n",
       "0  1119116    299545           0                 1    OWC0100       47.49   \n",
       "1  1119119    299546           0                 1    IOT0014       18.99   \n",
       "2  1119120    295347           0                 1    APP0700       72.19   \n",
       "3  1119126    299549           0                 1    PAC0929     2565.99   \n",
       "4  1119134    299556           0                 1  CRU0039-A       60.90   \n",
       "\n",
       "                  date                                               name  \\\n",
       "0  2017-01-01 01:46:16  OWC In-line Digital Temperature Sensor Kit HDD...   \n",
       "1  2017-01-01 01:50:34               iOttie Easy View 2 Car Black Support   \n",
       "2  2017-01-01 01:54:11  Apple 85W MagSafe 2 charger MacBook Pro screen...   \n",
       "3  2017-01-01 02:07:42  Apple iMac 27 \"Core i5 3.2GHz Retina 5K | 32GB...   \n",
       "4  2017-01-01 02:20:14                 (Open) Crucial 240GB SSD 7mm BX200   \n",
       "\n",
       "                                                desc    price  inferred_price  \\\n",
       "0  Kit temperature sensor for HDD iMac 21 inch an...    60.99           False   \n",
       "1  IPhone car holder 7 plus / 7/6 Plus / 6 / 5s /...    22.95           False   \n",
       "2  Apple MagSafe 2 Charger for MacBook Pro 15-inc...    89.00           False   \n",
       "3  IMac desktop computer 27 inch Retina 5K RAM 32...  3209.00           False   \n",
       "4  SSD hard drive and high-speed performance with...    76.99           False   \n",
       "\n",
       "  short  discount  discount_perc  total_price     long  \n",
       "0   OWC      True       0.284270        47.49      OWC  \n",
       "1   IOT      True       0.208531        18.99   iOttie  \n",
       "2   APP      True       0.232858        72.19    Apple  \n",
       "3   PAC      True       0.250589      2565.99     Pack  \n",
       "4   CRU      True       0.264204        60.90  Crucial  "
      ]
     },
     "execution_count": 76,
     "metadata": {},
     "output_type": "execute_result"
    }
   ],
   "source": [
    "orderlines = (\n",
    "orderlines\n",
    "    # add infromation from products table\n",
    "    .merge(products, how='left', on='sku')\n",
    "    # create variables\n",
    "    .assign(\n",
    "        # extract the first three letters from sku (ex: APP001 --> APP)\n",
    "        short = lambda x: x['sku'].str[0:3], \n",
    "        # boolean column to know if there is a discount or not (the price of \n",
    "        # products is different than the unit price in orderlines)\n",
    "        discount = lambda x: x['unit_price'] != x['price'], \n",
    "        # calculate the % of discount: difference price (products) and \n",
    "        # unit price (orderlines) in percentage\n",
    "        discount_perc = lambda x: x['price'] / x['unit_price'] - 1, \n",
    "        # calculate the total price (qty * unit price)\n",
    "        total_price = lambda x: x['unit_price'] * x['product_quantity']\n",
    "    )\n",
    "    # add the brands information\n",
    "    .merge(brands, how='left', on='short')\n",
    ")\n",
    "\n",
    "orderlines.head()"
   ]
  },
  {
   "cell_type": "markdown",
   "id": "bf1c1f63-c053-455f-baa7-7c7946f61e52",
   "metadata": {},
   "source": [
    "### Orders with orderlines information (aggregated)\n",
    "\n",
    "Our goal here is to check it the total price by order id in orderlines table is the same as the total paid in orders table:"
   ]
  },
  {
   "cell_type": "code",
   "execution_count": 77,
   "id": "54ee79ef-0876-4cf5-86e7-70280eda7f2a",
   "metadata": {},
   "outputs": [
    {
     "data": {
      "text/html": [
       "<div>\n",
       "<style scoped>\n",
       "    .dataframe tbody tr th:only-of-type {\n",
       "        vertical-align: middle;\n",
       "    }\n",
       "\n",
       "    .dataframe tbody tr th {\n",
       "        vertical-align: top;\n",
       "    }\n",
       "\n",
       "    .dataframe thead th {\n",
       "        text-align: right;\n",
       "    }\n",
       "</style>\n",
       "<table border=\"1\" class=\"dataframe\">\n",
       "  <thead>\n",
       "    <tr style=\"text-align: right;\">\n",
       "      <th></th>\n",
       "      <th>id_order</th>\n",
       "      <th>order_lines_paid</th>\n",
       "      <th>created_date</th>\n",
       "      <th>total_paid</th>\n",
       "      <th>state</th>\n",
       "      <th>price_check</th>\n",
       "      <th>shipping_cost</th>\n",
       "    </tr>\n",
       "  </thead>\n",
       "  <tbody>\n",
       "    <tr>\n",
       "      <th>0</th>\n",
       "      <td>241423</td>\n",
       "      <td>129.16</td>\n",
       "      <td>2017-11-06 13:10:02</td>\n",
       "      <td>136.15</td>\n",
       "      <td>Completed</td>\n",
       "      <td>False</td>\n",
       "      <td>6.99</td>\n",
       "    </tr>\n",
       "    <tr>\n",
       "      <th>1</th>\n",
       "      <td>242832</td>\n",
       "      <td>10.77</td>\n",
       "      <td>2017-12-31 17:40:03</td>\n",
       "      <td>15.76</td>\n",
       "      <td>Completed</td>\n",
       "      <td>False</td>\n",
       "      <td>4.99</td>\n",
       "    </tr>\n",
       "    <tr>\n",
       "      <th>2</th>\n",
       "      <td>243330</td>\n",
       "      <td>77.99</td>\n",
       "      <td>2017-02-16 10:59:38</td>\n",
       "      <td>84.98</td>\n",
       "      <td>Completed</td>\n",
       "      <td>False</td>\n",
       "      <td>6.99</td>\n",
       "    </tr>\n",
       "    <tr>\n",
       "      <th>3</th>\n",
       "      <td>245275</td>\n",
       "      <td>149.00</td>\n",
       "      <td>2017-06-28 11:35:37</td>\n",
       "      <td>149.00</td>\n",
       "      <td>Completed</td>\n",
       "      <td>True</td>\n",
       "      <td>0.00</td>\n",
       "    </tr>\n",
       "    <tr>\n",
       "      <th>4</th>\n",
       "      <td>245595</td>\n",
       "      <td>105.98</td>\n",
       "      <td>2017-01-21 12:52:47</td>\n",
       "      <td>112.97</td>\n",
       "      <td>Completed</td>\n",
       "      <td>False</td>\n",
       "      <td>6.99</td>\n",
       "    </tr>\n",
       "  </tbody>\n",
       "</table>\n",
       "</div>"
      ],
      "text/plain": [
       "   id_order  order_lines_paid         created_date  total_paid      state  \\\n",
       "0    241423            129.16  2017-11-06 13:10:02      136.15  Completed   \n",
       "1    242832             10.77  2017-12-31 17:40:03       15.76  Completed   \n",
       "2    243330             77.99  2017-02-16 10:59:38       84.98  Completed   \n",
       "3    245275            149.00  2017-06-28 11:35:37      149.00  Completed   \n",
       "4    245595            105.98  2017-01-21 12:52:47      112.97  Completed   \n",
       "\n",
       "   price_check  shipping_cost  \n",
       "0        False           6.99  \n",
       "1        False           4.99  \n",
       "2        False           6.99  \n",
       "3         True           0.00  \n",
       "4        False           6.99  "
      ]
     },
     "execution_count": 77,
     "metadata": {},
     "output_type": "execute_result"
    }
   ],
   "source": [
    "orders = (\n",
    "# we start by aggregating the information from orderlines\n",
    "orderlines\n",
    "    # find out the sum of the total price by each order id in orderlines\n",
    "    .groupby('id_order')\n",
    "    .agg({'total_price':'sum'})\n",
    "    .reset_index()\n",
    "    # rename the column total price for a better understanding of the values inside\n",
    "    .rename(columns = {'total_price':'order_lines_paid'})\n",
    "    # time to merge the aggregated table orderlines with the table orders\n",
    "    .merge(orders, how='inner', left_on='id_order', right_on='order_id')\n",
    "    # variable creation\n",
    "    .assign(\n",
    "        # boolean column to see if the orderlines total paid matches with orders \n",
    "        # total paid\n",
    "        price_check = lambda x: x['order_lines_paid'] == x['total_paid'], \n",
    "        # we will assume that the difference represents the shipping cost\n",
    "        shipping_cost = lambda x: x['total_paid'] - x['order_lines_paid']\n",
    "    )\n",
    "    .drop(columns = {'order_id'})\n",
    ")\n",
    "\n",
    "orders.head()"
   ]
  },
  {
   "cell_type": "markdown",
   "id": "1a9bd8e7-936a-430f-a6c0-a14207e7f712",
   "metadata": {},
   "source": [
    "## Revenue Analysis"
   ]
  },
  {
   "cell_type": "code",
   "execution_count": 78,
   "id": "00c69869-1027-496f-9bda-92e90a0f806a",
   "metadata": {},
   "outputs": [
    {
     "name": "stdout",
     "output_type": "stream",
     "text": [
      "Total revenue (in euros) in all the orders 15861788\n"
     ]
    }
   ],
   "source": [
    "print('Total revenue (in euros) in all the orders', \n",
    "      round(orders['total_paid'].sum()))"
   ]
  },
  {
   "cell_type": "code",
   "execution_count": 80,
   "id": "56b0e3dd-acd9-4d37-9023-1d1ac0d1763f",
   "metadata": {},
   "outputs": [
    {
     "data": {
      "image/png": "[encoded data removed]",
      "text/plain": [
       "<Figure size 432x288 with 1 Axes>"
      ]
     },
     "metadata": {
      "needs_background": "light"
     },
     "output_type": "display_data"
    }
   ],
   "source": [
    "# see the information by month: \n",
    "plot_data = (\n",
    "orders\n",
    "    .assign(\n",
    "        year = pd.to_datetime(orders['created_date']).dt.year, \n",
    "        month = pd.to_datetime(orders['created_date']).dt.month\n",
    "    )\n",
    "    .groupby(['year','month'])\n",
    "    .agg({'order_lines_paid':'sum'})\n",
    "    .reset_index()\n",
    "    .assign(revenue = lambda x: x['order_lines_paid'] / 1e6)\n",
    ")\n",
    "\n",
    "sns.barplot(data=plot_data, x='month', y='revenue', hue='year')\n",
    "plt.title(\"Revenue by month\")\n",
    "plt.ylabel('Revenue in Euros (Millions)')\n",
    "plt.xlabel('')\n",
    "plt.show()"
   ]
  },
  {
   "cell_type": "markdown",
   "id": "9527bf0d-8da0-4c8c-a3ac-f7f4d31c9426",
   "metadata": {},
   "source": [
    "## Discount Analysis"
   ]
  },
  {
   "cell_type": "code",
   "execution_count": 179,
   "id": "5619229c-f3e0-4fee-9171-6a763011d4a7",
   "metadata": {},
   "outputs": [
    {
     "data": {
      "text/html": [
       "<div>\n",
       "<style scoped>\n",
       "    .dataframe tbody tr th:only-of-type {\n",
       "        vertical-align: middle;\n",
       "    }\n",
       "\n",
       "    .dataframe tbody tr th {\n",
       "        vertical-align: top;\n",
       "    }\n",
       "\n",
       "    .dataframe thead th {\n",
       "        text-align: right;\n",
       "    }\n",
       "</style>\n",
       "<table border=\"1\" class=\"dataframe\">\n",
       "  <thead>\n",
       "    <tr style=\"text-align: right;\">\n",
       "      <th></th>\n",
       "      <th>sku</th>\n",
       "      <th>name</th>\n",
       "      <th>desc</th>\n",
       "      <th>revenue</th>\n",
       "      <th>count</th>\n",
       "      <th>avg_discount_perc</th>\n",
       "      <th>unit_price_std</th>\n",
       "      <th>perc</th>\n",
       "      <th>perc_cumsum</th>\n",
       "    </tr>\n",
       "  </thead>\n",
       "  <tbody>\n",
       "    <tr>\n",
       "      <th>949</th>\n",
       "      <td>APP2075</td>\n",
       "      <td>Apple MacBook Pro 15 \"Core i7 Touch Bar 29Ghz ...</td>\n",
       "      <td>New MacBook Pro 15-inch Core i7 Touch Bar 29Gh...</td>\n",
       "      <td>215485.71</td>\n",
       "      <td>70</td>\n",
       "      <td>0.089476</td>\n",
       "      <td>65.991611</td>\n",
       "      <td>1.452847</td>\n",
       "      <td>1.452847</td>\n",
       "    </tr>\n",
       "    <tr>\n",
       "      <th>948</th>\n",
       "      <td>APP2074</td>\n",
       "      <td>Apple MacBook Pro 15 \"Core i7 Touch Bar 28GHz ...</td>\n",
       "      <td>New MacBook Pro 15-inch Touch Bar to 28GHz Cor...</td>\n",
       "      <td>156383.56</td>\n",
       "      <td>61</td>\n",
       "      <td>0.095191</td>\n",
       "      <td>71.334861</td>\n",
       "      <td>1.054369</td>\n",
       "      <td>2.507215</td>\n",
       "    </tr>\n",
       "    <tr>\n",
       "      <th>1183</th>\n",
       "      <td>APP2490</td>\n",
       "      <td>Apple iPhone 64GB X Silver</td>\n",
       "      <td>New Apple iPhone 64GB Free Silver X</td>\n",
       "      <td>155727.70</td>\n",
       "      <td>130</td>\n",
       "      <td>0.023449</td>\n",
       "      <td>57.341093</td>\n",
       "      <td>1.049947</td>\n",
       "      <td>3.557162</td>\n",
       "    </tr>\n",
       "    <tr>\n",
       "      <th>2868</th>\n",
       "      <td>LGE0044</td>\n",
       "      <td>LG 27UD88-W Monitor 27 \"UHD 4K USB 3.0 USB-C</td>\n",
       "      <td>99% Professional Monitor sRGB color calibrator...</td>\n",
       "      <td>140272.29</td>\n",
       "      <td>209</td>\n",
       "      <td>0.059262</td>\n",
       "      <td>18.477225</td>\n",
       "      <td>0.945743</td>\n",
       "      <td>4.502905</td>\n",
       "    </tr>\n",
       "    <tr>\n",
       "      <th>1182</th>\n",
       "      <td>APP2489</td>\n",
       "      <td>Apple iPhone 64GB Space Gray X</td>\n",
       "      <td>New Free iPhone 64GB X</td>\n",
       "      <td>137530.55</td>\n",
       "      <td>118</td>\n",
       "      <td>0.020850</td>\n",
       "      <td>35.411603</td>\n",
       "      <td>0.927258</td>\n",
       "      <td>5.430163</td>\n",
       "    </tr>\n",
       "  </tbody>\n",
       "</table>\n",
       "</div>"
      ],
      "text/plain": [
       "          sku                                               name  \\\n",
       "949   APP2075  Apple MacBook Pro 15 \"Core i7 Touch Bar 29Ghz ...   \n",
       "948   APP2074  Apple MacBook Pro 15 \"Core i7 Touch Bar 28GHz ...   \n",
       "1183  APP2490                         Apple iPhone 64GB X Silver   \n",
       "2868  LGE0044       LG 27UD88-W Monitor 27 \"UHD 4K USB 3.0 USB-C   \n",
       "1182  APP2489                     Apple iPhone 64GB Space Gray X   \n",
       "\n",
       "                                                   desc    revenue  count  \\\n",
       "949   New MacBook Pro 15-inch Core i7 Touch Bar 29Gh...  215485.71     70   \n",
       "948   New MacBook Pro 15-inch Touch Bar to 28GHz Cor...  156383.56     61   \n",
       "1183                New Apple iPhone 64GB Free Silver X  155727.70    130   \n",
       "2868  99% Professional Monitor sRGB color calibrator...  140272.29    209   \n",
       "1182                             New Free iPhone 64GB X  137530.55    118   \n",
       "\n",
       "      avg_discount_perc  unit_price_std      perc  perc_cumsum  \n",
       "949            0.089476       65.991611  1.452847     1.452847  \n",
       "948            0.095191       71.334861  1.054369     2.507215  \n",
       "1183           0.023449       57.341093  1.049947     3.557162  \n",
       "2868           0.059262       18.477225  0.945743     4.502905  \n",
       "1182           0.020850       35.411603  0.927258     5.430163  "
      ]
     },
     "execution_count": 179,
     "metadata": {},
     "output_type": "execute_result"
    }
   ],
   "source": [
    "# detect the top products that represents 60% of the revenues, with a unit price between 0 and 7000 euros\n",
    "prod_revenue = (\n",
    "orderlines\n",
    "    .query('0 < unit_price < 7000')\n",
    "    .groupby(['sku','name','desc'])\n",
    "    .agg({\n",
    "        'total_price':'sum',\n",
    "        'product_id':'count',\n",
    "        'discount_perc':'mean',\n",
    "        'unit_price':'std'\n",
    "    })\n",
    "    .reset_index()\n",
    "    .rename(columns = {\n",
    "        'product_id':'count', \n",
    "        'total_price':'revenue',\n",
    "        'unit_price':'unit_price_std',\n",
    "        'discount_perc':'avg_discount_perc'\n",
    "    })\n",
    "    .sort_values('revenue', ascending=False)\n",
    "    .assign(perc = lambda x: x['revenue'] / orderlines['unit_price'].sum() * 100)\n",
    "    .assign(perc_cumsum = lambda x: x['perc'].cumsum())\n",
    "    .query('perc_cumsum <= 80')\n",
    ")\n",
    "\n",
    "prod_revenue.head()"
   ]
  },
  {
   "cell_type": "code",
   "execution_count": 110,
   "id": "d3db8516-b8f6-4279-a8dc-cefc8f6ce8f9",
   "metadata": {},
   "outputs": [
    {
     "data": {
      "image/png": "[encoded data removed]",
      "text/plain": [
       "<Figure size 720x720 with 1 Axes>"
      ]
     },
     "metadata": {
      "needs_background": "light"
     },
     "output_type": "display_data"
    }
   ],
   "source": [
    "plot_data = prod_revenue.query('perc > 0.4')\n",
    "\n",
    "fig, ax = plt.subplots(figsize=(10, 10))\n",
    "\n",
    "sns.scatterplot(x='revenue', y='sku', data=plot_data,\n",
    "                size='count', hue='avg_discount_perc', palette=\"ch:start=.2,rot=-.3\")\n",
    "plt.title('Top ENIAC products in revenue (2017 & 2018)')\n",
    "plt.xlabel('Total Revenue in Euros')\n",
    "plt.ylabel('')\n",
    "sns.despine(left=False)\n",
    "plt.show()"
   ]
  },
  {
   "cell_type": "code",
   "execution_count": 101,
   "id": "5aeef061-621e-420e-abd3-23166fa82ddb",
   "metadata": {},
   "outputs": [
    {
     "data": {
      "text/html": [
       "<div>\n",
       "<style scoped>\n",
       "    .dataframe tbody tr th:only-of-type {\n",
       "        vertical-align: middle;\n",
       "    }\n",
       "\n",
       "    .dataframe tbody tr th {\n",
       "        vertical-align: top;\n",
       "    }\n",
       "\n",
       "    .dataframe thead th {\n",
       "        text-align: right;\n",
       "    }\n",
       "</style>\n",
       "<table border=\"1\" class=\"dataframe\">\n",
       "  <thead>\n",
       "    <tr style=\"text-align: right;\">\n",
       "      <th></th>\n",
       "      <th>sku</th>\n",
       "      <th>name</th>\n",
       "      <th>desc</th>\n",
       "      <th>revenue</th>\n",
       "      <th>count</th>\n",
       "      <th>avg_discount_perc</th>\n",
       "      <th>unit_price_std</th>\n",
       "      <th>perc</th>\n",
       "      <th>perc_cumsum</th>\n",
       "    </tr>\n",
       "  </thead>\n",
       "  <tbody>\n",
       "    <tr>\n",
       "      <th>855</th>\n",
       "      <td>APP1922</td>\n",
       "      <td>AirPods Apple Bluetooth Headset for iPhone iPa...</td>\n",
       "      <td>Apple AirPods wireless headsets and cargo tran...</td>\n",
       "      <td>91899.92</td>\n",
       "      <td>545</td>\n",
       "      <td>0.119761</td>\n",
       "      <td>9.404897</td>\n",
       "      <td>0.619607</td>\n",
       "      <td>10.810264</td>\n",
       "    </tr>\n",
       "  </tbody>\n",
       "</table>\n",
       "</div>"
      ],
      "text/plain": [
       "         sku                                               name  \\\n",
       "855  APP1922  AirPods Apple Bluetooth Headset for iPhone iPa...   \n",
       "\n",
       "                                                  desc   revenue  count  \\\n",
       "855  Apple AirPods wireless headsets and cargo tran...  91899.92    545   \n",
       "\n",
       "     avg_discount_perc  unit_price_std      perc  perc_cumsum  \n",
       "855           0.119761        9.404897  0.619607    10.810264  "
      ]
     },
     "execution_count": 101,
     "metadata": {},
     "output_type": "execute_result"
    }
   ],
   "source": [
    "prod = 'APP1922'\n",
    "prod_revenue.query('sku == @prod')"
   ]
  },
  {
   "cell_type": "code",
   "execution_count": 108,
   "id": "d6aff721-3dd1-4a4d-84e1-b28bf909b205",
   "metadata": {},
   "outputs": [
    {
     "data": {
      "text/html": [
       "<div>\n",
       "<style scoped>\n",
       "    .dataframe tbody tr th:only-of-type {\n",
       "        vertical-align: middle;\n",
       "    }\n",
       "\n",
       "    .dataframe tbody tr th {\n",
       "        vertical-align: top;\n",
       "    }\n",
       "\n",
       "    .dataframe thead th {\n",
       "        text-align: right;\n",
       "    }\n",
       "</style>\n",
       "<table border=\"1\" class=\"dataframe\">\n",
       "  <thead>\n",
       "    <tr style=\"text-align: right;\">\n",
       "      <th></th>\n",
       "      <th>date</th>\n",
       "      <th>unit_price</th>\n",
       "      <th>daily_revenue</th>\n",
       "      <th>discount_perc</th>\n",
       "      <th>cumsum_revenue</th>\n",
       "    </tr>\n",
       "  </thead>\n",
       "  <tbody>\n",
       "    <tr>\n",
       "      <th>0</th>\n",
       "      <td>2017-05-09</td>\n",
       "      <td>179.0</td>\n",
       "      <td>358.0</td>\n",
       "      <td>0.0</td>\n",
       "      <td>358.0</td>\n",
       "    </tr>\n",
       "    <tr>\n",
       "      <th>1</th>\n",
       "      <td>2017-05-13</td>\n",
       "      <td>179.0</td>\n",
       "      <td>179.0</td>\n",
       "      <td>0.0</td>\n",
       "      <td>537.0</td>\n",
       "    </tr>\n",
       "    <tr>\n",
       "      <th>2</th>\n",
       "      <td>2017-05-16</td>\n",
       "      <td>179.0</td>\n",
       "      <td>179.0</td>\n",
       "      <td>0.0</td>\n",
       "      <td>716.0</td>\n",
       "    </tr>\n",
       "    <tr>\n",
       "      <th>3</th>\n",
       "      <td>2017-05-22</td>\n",
       "      <td>179.0</td>\n",
       "      <td>179.0</td>\n",
       "      <td>0.0</td>\n",
       "      <td>895.0</td>\n",
       "    </tr>\n",
       "    <tr>\n",
       "      <th>4</th>\n",
       "      <td>2017-06-30</td>\n",
       "      <td>179.0</td>\n",
       "      <td>537.0</td>\n",
       "      <td>0.0</td>\n",
       "      <td>1432.0</td>\n",
       "    </tr>\n",
       "  </tbody>\n",
       "</table>\n",
       "</div>"
      ],
      "text/plain": [
       "         date  unit_price  daily_revenue  discount_perc  cumsum_revenue\n",
       "0  2017-05-09       179.0          358.0            0.0           358.0\n",
       "1  2017-05-13       179.0          179.0            0.0           537.0\n",
       "2  2017-05-16       179.0          179.0            0.0           716.0\n",
       "3  2017-05-22       179.0          179.0            0.0           895.0\n",
       "4  2017-06-30       179.0          537.0            0.0          1432.0"
      ]
     },
     "execution_count": 108,
     "metadata": {},
     "output_type": "execute_result"
    }
   ],
   "source": [
    "plot_data = (\n",
    "orderlines\n",
    "    .assign(\n",
    "        date = pd.to_datetime(orderlines['date']), \n",
    "        discount_perc = orderlines['discount_perc']\n",
    "    )\n",
    "    .query('sku == @prod')\n",
    "    .sort_values('date')\n",
    ")\n",
    "plot_data['cumsum_revenue'] = plot_data['total_price'].cumsum()\n",
    "plot_data = (\n",
    "plot_data\n",
    "    .assign(date = plot_data['date'].dt.date)\n",
    "    .groupby(['date'])\n",
    "    .agg({\n",
    "        'unit_price':'median',\n",
    "        'total_price':'sum',\n",
    "        'discount_perc':'mean'\n",
    "    })\n",
    "    .reset_index()\n",
    "    .assign(cumsum_revenue = lambda x: x['total_price'].cumsum())\n",
    "    .rename(columns = {'total_price':'daily_revenue'})\n",
    ")\n",
    "plot_data.head()"
   ]
  },
  {
   "cell_type": "code",
   "execution_count": 109,
   "id": "ca855ff3-d33c-4046-a27e-831bed9e938a",
   "metadata": {},
   "outputs": [
    {
     "data": {
      "image/png": "[encoded data removed]",
      "text/plain": [
       "<Figure size 1008x432 with 1 Axes>"
      ]
     },
     "metadata": {
      "needs_background": "light"
     },
     "output_type": "display_data"
    }
   ],
   "source": [
    "fig, ax = plt.subplots(figsize=(14, 6))\n",
    "\n",
    "sns.scatterplot(data=plot_data, x='date', y='cumsum_revenue', hue='discount_perc', \n",
    "                size='daily_revenue', palette=\"ch:start=.2,rot=-.3\")\n",
    "plt.title('Revenue evolution from the product ' + prod)\n",
    "plt.ylabel('Revenue acumulated in Euros')\n",
    "plt\n",
    "\n",
    "sns.despine(left=False)"
   ]
  },
  {
   "cell_type": "markdown",
   "id": "46ff9140-e229-4b58-bee6-5e73e5a62e16",
   "metadata": {},
   "source": [
    "### Categories"
   ]
  },
  {
   "cell_type": "code",
   "execution_count": 202,
   "id": "13e2b7ed-c0e4-44c4-b526-ec23e7f2b3ce",
   "metadata": {},
   "outputs": [
    {
     "data": {
      "text/html": [
       "<div>\n",
       "<style scoped>\n",
       "    .dataframe tbody tr th:only-of-type {\n",
       "        vertical-align: middle;\n",
       "    }\n",
       "\n",
       "    .dataframe tbody tr th {\n",
       "        vertical-align: top;\n",
       "    }\n",
       "\n",
       "    .dataframe thead th {\n",
       "        text-align: right;\n",
       "    }\n",
       "</style>\n",
       "<table border=\"1\" class=\"dataframe\">\n",
       "  <thead>\n",
       "    <tr style=\"text-align: right;\">\n",
       "      <th></th>\n",
       "      <th>sku</th>\n",
       "      <th>name</th>\n",
       "      <th>accessory</th>\n",
       "      <th>smartphone</th>\n",
       "      <th>laptop</th>\n",
       "      <th>warranty</th>\n",
       "      <th>pc</th>\n",
       "      <th>tablet</th>\n",
       "      <th>nas</th>\n",
       "      <th>count</th>\n",
       "    </tr>\n",
       "  </thead>\n",
       "  <tbody>\n",
       "    <tr>\n",
       "      <th>855</th>\n",
       "      <td>APP1922</td>\n",
       "      <td>AirPods Apple Bluetooth Headset for iPhone iPa...</td>\n",
       "      <td>2</td>\n",
       "      <td>0</td>\n",
       "      <td>0</td>\n",
       "      <td>0</td>\n",
       "      <td>0</td>\n",
       "      <td>0</td>\n",
       "      <td>0</td>\n",
       "      <td>2</td>\n",
       "    </tr>\n",
       "    <tr>\n",
       "      <th>2895</th>\n",
       "      <td>LGE0067</td>\n",
       "      <td>43UD79-B LG Monitor 425 \"4K 72% NTSC USB-C Spe...</td>\n",
       "      <td>2</td>\n",
       "      <td>0</td>\n",
       "      <td>0</td>\n",
       "      <td>0</td>\n",
       "      <td>0</td>\n",
       "      <td>0</td>\n",
       "      <td>0</td>\n",
       "      <td>2</td>\n",
       "    </tr>\n",
       "    <tr>\n",
       "      <th>5696</th>\n",
       "      <td>WAC0171</td>\n",
       "      <td>Education - Wacom Intuos graphics tablet with ...</td>\n",
       "      <td>1</td>\n",
       "      <td>0</td>\n",
       "      <td>0</td>\n",
       "      <td>0</td>\n",
       "      <td>0</td>\n",
       "      <td>1</td>\n",
       "      <td>0</td>\n",
       "      <td>2</td>\n",
       "    </tr>\n",
       "    <tr>\n",
       "      <th>4965</th>\n",
       "      <td>SEA0105</td>\n",
       "      <td>IronWolf Seagate Hard Drive 8TB SATA NAS 3</td>\n",
       "      <td>1</td>\n",
       "      <td>0</td>\n",
       "      <td>0</td>\n",
       "      <td>0</td>\n",
       "      <td>0</td>\n",
       "      <td>0</td>\n",
       "      <td>1</td>\n",
       "      <td>2</td>\n",
       "    </tr>\n",
       "    <tr>\n",
       "      <th>4963</th>\n",
       "      <td>SEA0104</td>\n",
       "      <td>IronWolf Seagate Hard Drive 6TB SATA NAS 3</td>\n",
       "      <td>1</td>\n",
       "      <td>0</td>\n",
       "      <td>0</td>\n",
       "      <td>0</td>\n",
       "      <td>0</td>\n",
       "      <td>0</td>\n",
       "      <td>1</td>\n",
       "      <td>2</td>\n",
       "    </tr>\n",
       "    <tr>\n",
       "      <th>1027</th>\n",
       "      <td>APP2161</td>\n",
       "      <td>Smart Apple iPad Keyboard Case Keyboard Pro 10...</td>\n",
       "      <td>2</td>\n",
       "      <td>0</td>\n",
       "      <td>0</td>\n",
       "      <td>0</td>\n",
       "      <td>0</td>\n",
       "      <td>1</td>\n",
       "      <td>0</td>\n",
       "      <td>3</td>\n",
       "    </tr>\n",
       "    <tr>\n",
       "      <th>557</th>\n",
       "      <td>APP1215</td>\n",
       "      <td>Spanish Keyboard Keyboard Magic Apple Mac</td>\n",
       "      <td>2</td>\n",
       "      <td>0</td>\n",
       "      <td>0</td>\n",
       "      <td>0</td>\n",
       "      <td>0</td>\n",
       "      <td>0</td>\n",
       "      <td>0</td>\n",
       "      <td>2</td>\n",
       "    </tr>\n",
       "    <tr>\n",
       "      <th>4972</th>\n",
       "      <td>SEA0110</td>\n",
       "      <td>Seagate Hard Drive 4TB NAS IronWolf SATA 3</td>\n",
       "      <td>1</td>\n",
       "      <td>0</td>\n",
       "      <td>0</td>\n",
       "      <td>0</td>\n",
       "      <td>0</td>\n",
       "      <td>0</td>\n",
       "      <td>1</td>\n",
       "      <td>2</td>\n",
       "    </tr>\n",
       "    <tr>\n",
       "      <th>2865</th>\n",
       "      <td>LGE0041-A</td>\n",
       "      <td>Open - LG 38UC99-W Monitor 38 \"UHD 4K USB 3.0 ...</td>\n",
       "      <td>2</td>\n",
       "      <td>0</td>\n",
       "      <td>0</td>\n",
       "      <td>0</td>\n",
       "      <td>0</td>\n",
       "      <td>0</td>\n",
       "      <td>0</td>\n",
       "      <td>2</td>\n",
       "    </tr>\n",
       "    <tr>\n",
       "      <th>2860</th>\n",
       "      <td>LGE0038-A</td>\n",
       "      <td>Open - LG 27UD88-W Monitor 27 \"UHD 4K USB 3.0 ...</td>\n",
       "      <td>2</td>\n",
       "      <td>0</td>\n",
       "      <td>0</td>\n",
       "      <td>0</td>\n",
       "      <td>0</td>\n",
       "      <td>0</td>\n",
       "      <td>0</td>\n",
       "      <td>2</td>\n",
       "    </tr>\n",
       "    <tr>\n",
       "      <th>602</th>\n",
       "      <td>APP1465</td>\n",
       "      <td>Spanish Keyboard Keyboard Magic Apple Mac (OEM)</td>\n",
       "      <td>2</td>\n",
       "      <td>0</td>\n",
       "      <td>0</td>\n",
       "      <td>0</td>\n",
       "      <td>0</td>\n",
       "      <td>0</td>\n",
       "      <td>0</td>\n",
       "      <td>2</td>\n",
       "    </tr>\n",
       "    <tr>\n",
       "      <th>1097</th>\n",
       "      <td>APP2272-A</td>\n",
       "      <td>Open - Apple MacBook Pro 13 \"Core i5 Touch Bar...</td>\n",
       "      <td>1</td>\n",
       "      <td>0</td>\n",
       "      <td>1</td>\n",
       "      <td>0</td>\n",
       "      <td>0</td>\n",
       "      <td>0</td>\n",
       "      <td>0</td>\n",
       "      <td>2</td>\n",
       "    </tr>\n",
       "    <tr>\n",
       "      <th>5753</th>\n",
       "      <td>WAC0231</td>\n",
       "      <td>Wacom Intuos Grip Pen Digital pen 4 / C21</td>\n",
       "      <td>2</td>\n",
       "      <td>0</td>\n",
       "      <td>0</td>\n",
       "      <td>0</td>\n",
       "      <td>0</td>\n",
       "      <td>0</td>\n",
       "      <td>0</td>\n",
       "      <td>2</td>\n",
       "    </tr>\n",
       "    <tr>\n",
       "      <th>5680</th>\n",
       "      <td>WAC0157-A</td>\n",
       "      <td>Open - Wacom Cintiq Interactive Pen &amp; Touch 27...</td>\n",
       "      <td>2</td>\n",
       "      <td>0</td>\n",
       "      <td>0</td>\n",
       "      <td>0</td>\n",
       "      <td>0</td>\n",
       "      <td>0</td>\n",
       "      <td>0</td>\n",
       "      <td>2</td>\n",
       "    </tr>\n",
       "    <tr>\n",
       "      <th>5687</th>\n",
       "      <td>WAC0166</td>\n",
       "      <td>Wacom Intuos Graphics Tablet S Draw with penci...</td>\n",
       "      <td>1</td>\n",
       "      <td>0</td>\n",
       "      <td>0</td>\n",
       "      <td>0</td>\n",
       "      <td>0</td>\n",
       "      <td>1</td>\n",
       "      <td>0</td>\n",
       "      <td>2</td>\n",
       "    </tr>\n",
       "  </tbody>\n",
       "</table>\n",
       "</div>"
      ],
      "text/plain": [
       "            sku                                               name  accessory  \\\n",
       "855     APP1922  AirPods Apple Bluetooth Headset for iPhone iPa...          2   \n",
       "2895    LGE0067  43UD79-B LG Monitor 425 \"4K 72% NTSC USB-C Spe...          2   \n",
       "5696    WAC0171  Education - Wacom Intuos graphics tablet with ...          1   \n",
       "4965    SEA0105         IronWolf Seagate Hard Drive 8TB SATA NAS 3          1   \n",
       "4963    SEA0104         IronWolf Seagate Hard Drive 6TB SATA NAS 3          1   \n",
       "1027    APP2161  Smart Apple iPad Keyboard Case Keyboard Pro 10...          2   \n",
       "557     APP1215          Spanish Keyboard Keyboard Magic Apple Mac          2   \n",
       "4972    SEA0110         Seagate Hard Drive 4TB NAS IronWolf SATA 3          1   \n",
       "2865  LGE0041-A  Open - LG 38UC99-W Monitor 38 \"UHD 4K USB 3.0 ...          2   \n",
       "2860  LGE0038-A  Open - LG 27UD88-W Monitor 27 \"UHD 4K USB 3.0 ...          2   \n",
       "602     APP1465    Spanish Keyboard Keyboard Magic Apple Mac (OEM)          2   \n",
       "1097  APP2272-A  Open - Apple MacBook Pro 13 \"Core i5 Touch Bar...          1   \n",
       "5753    WAC0231          Wacom Intuos Grip Pen Digital pen 4 / C21          2   \n",
       "5680  WAC0157-A  Open - Wacom Cintiq Interactive Pen & Touch 27...          2   \n",
       "5687    WAC0166  Wacom Intuos Graphics Tablet S Draw with penci...          1   \n",
       "\n",
       "      smartphone  laptop  warranty  pc  tablet  nas  count  \n",
       "855            0       0         0   0       0    0      2  \n",
       "2895           0       0         0   0       0    0      2  \n",
       "5696           0       0         0   0       1    0      2  \n",
       "4965           0       0         0   0       0    1      2  \n",
       "4963           0       0         0   0       0    1      2  \n",
       "1027           0       0         0   0       1    0      3  \n",
       "557            0       0         0   0       0    0      2  \n",
       "4972           0       0         0   0       0    1      2  \n",
       "2865           0       0         0   0       0    0      2  \n",
       "2860           0       0         0   0       0    0      2  \n",
       "602            0       0         0   0       0    0      2  \n",
       "1097           0       1         0   0       0    0      2  \n",
       "5753           0       0         0   0       0    0      2  \n",
       "5680           0       0         0   0       0    0      2  \n",
       "5687           0       0         0   0       1    0      2  "
      ]
     },
     "execution_count": 202,
     "metadata": {},
     "output_type": "execute_result"
    }
   ],
   "source": [
    "accessory_exp = (r'(case|cable|adapter|[mM]ouse|support|keyboard|charger|dock|(Hard Drive)'+\n",
    "                '|(SSD Disk)|AirPods|Headset|(Headphones)|[sS]peaker|(Hard Disk Thunderbolt)'+\n",
    "                '|([Pp]encil)|[pP]en)|([Kk]eyboard)|[tT]rackpad|[mM]emory|(SSD Crucial MX300)' + \n",
    "                '(Apple Watch)|(Fitbit Smartwatch)|[mM]onitor')\n",
    "# headphones_exp = r'(AirPods|Headset|(Headphones))'\n",
    "tablet_exp = r\"(Apple iPad)|([tT]ablet)\"\n",
    "# monitor_exp = r'([mM]onitor)'\n",
    "smartphone_exp = r'(Apple iPhone)'\n",
    "# smartwatch_exp = r'(Apple Watch)|(Fitbit Smartwatch)'\n",
    "laptop_exp = r'((Apple MacBook Pro)|(Apple MacBook Air)|(Wacom MobileStudio Pro)|(Apple Macbook Air)|(Apple Macbook Pro 15))'\n",
    "warranty_exp = r'(AppleCare Protection)'\n",
    "software = r''\n",
    "pc_exp = r'(Apple iMac)|(iMac Pro)|(Mac mini)'\n",
    "nas_exp = r'NAS'\n",
    "\n",
    "\n",
    "pd.set_option('display.max_rows', 1000)\n",
    "# prod_cat = \n",
    "(\n",
    "prod_revenue\n",
    "    .loc[:,['sku','name']] #,'desc','revenue'\n",
    "    .assign(\n",
    "        accessory = prod_revenue['name'].str.count(accessory_exp), \n",
    "#         headphone = prod_revenue['name'].str.count(headphones_exp),\n",
    "#         monitor = prod_revenue['name'].str.count(monitor_exp),\n",
    "        smartphone = prod_revenue['name'].str.count(smartphone_exp),\n",
    "#         smartwatch = prod_revenue['name'].str.count(smartwatch_exp),\n",
    "        laptop = prod_revenue['name'].str.count(laptop_exp), \n",
    "        warranty = prod_revenue['name'].str.count(warranty_exp),\n",
    "        pc = prod_revenue['name'].str.count(pc_exp), \n",
    "        tablet = prod_revenue['name'].str.count(tablet_exp), \n",
    "        nas = prod_revenue['name'].str.count(nas_exp),\n",
    "        count = lambda x: x['accessory'] + x['smartphone'] + x['laptop'] + x['warranty'] + x['pc'] + x['tablet'] + x['nas']\n",
    "    )\n",
    "    .query(\n",
    "# #         'accessory == 0 & monitor == 0 & smartphone == 0 & smartwatch == 0 & laptop == 0 & warranty == 0 & pc == 0 & tablet == 0 & nas == 0'\n",
    "#         'accessory != 0 & monitor != 0 & smartphone != 0 & smartwatch != 0 & laptop != 0 & warranty != 0 & pc != 0 & tablet != 0 & nas != 0'\n",
    "        'count > 1'\n",
    "    )\n",
    ")\n"
   ]
  },
  {
   "cell_type": "code",
   "execution_count": null,
   "id": "21362474-19d9-4743-8652-c88f052377a5",
   "metadata": {},
   "outputs": [],
   "source": [
    "prod_cat['category'] = prod['count']"
   ]
  },
  {
   "cell_type": "code",
   "execution_count": null,
   "id": "d3938b10",
   "metadata": {},
   "outputs": [],
   "source": [
    "products = products.assign(new_type = ((products['type']).astype(float)%10000).astype(int))\n",
    "#products.loc[products['sku'].str.contains(\"REP|SEV\") & products['new_type'] == 0, 'type'] = 2062  #Services\n",
    "#products.loc[products['sku'].str.contains(\"MOP|MOB\") & products['new_type'] == 0, 'type'] = 230   #Acessory"
   ]
  }
 ],
 "metadata": {
  "kernelspec": {
   "display_name": "Python 3.9.7 ('base')",
   "language": "python",
   "name": "python3"
  },
  "language_info": {
   "codemirror_mode": {
    "name": "ipython",
    "version": 3
   },
   "file_extension": ".py",
   "mimetype": "text/x-python",
   "name": "python",
   "nbconvert_exporter": "python",
   "pygments_lexer": "ipython3",
   "version": "3.9.7"
  },
  "toc-autonumbering": false,
  "toc-showcode": false,
  "toc-showmarkdowntxt": false,
  "toc-showtags": false,
  "vscode": {
   "interpreter": {
    "hash": "c2238120c9728f74513279f8a3f1aeaaba1d165fa4f95681a8f2d6d36a71a29d"
   }
  }
 },
 "nbformat": 4,
 "nbformat_minor": 5
}
