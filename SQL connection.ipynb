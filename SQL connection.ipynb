{
 "cells": [
  {
   "cell_type": "code",
   "execution_count": null,
   "id": "b8f62cac-bdb3-4092-a02f-ebbfad15054f",
   "metadata": {},
   "outputs": [],
   "source": [
    "# To import library\n",
    "!pip install pymysql"
   ]
  },
  {
   "cell_type": "code",
   "execution_count": null,
   "id": "39b723c0-e77b-4c55-abcf-b9765778d527",
   "metadata": {},
   "outputs": [],
   "source": [
    "# To define connection\n",
    "schema=\"data_enginnering\"   # name of the database you want to use here\n",
    "host=\"wbs-pa-project3-db.cbros8g5htpi.us-east-1.rds.amazonaws.com\"        # to connect to your local server\n",
    "user=\"admin\"\n",
    "password=\"password\" # your password!!!!\n",
    "port=3306\n",
    "con = f'mysql+pymysql://{user}:{password}@{host}:{port}/{schema}'"
   ]
  },
  {
   "cell_type": "code",
   "execution_count": null,
   "id": "1abece04-0da8-4ffb-b283-da1fdb35d133",
   "metadata": {},
   "outputs": [],
   "source": [
    "# to push data from python dataframe to MySQL\n",
    "city.to_sql('cities',         # 'cities'-> table name;\n",
    "              if_exists='append', # if_exists -> will create new table if doesn't exist, otherwise, 'append' - will append data to existing table;\n",
    "              con=con,            # con-> connection string;\n",
    "              index=False)"
   ]
  }
 ],
 "metadata": {
  "kernelspec": {
   "display_name": "Python 3 (ipykernel)",
   "language": "python",
   "name": "python3"
  },
  "language_info": {
   "codemirror_mode": {
    "name": "ipython",
    "version": 3
   },
   "file_extension": ".py",
   "mimetype": "text/x-python",
   "name": "python",
   "nbconvert_exporter": "python",
   "pygments_lexer": "ipython3",
   "version": "3.9.12"
  }
 },
 "nbformat": 4,
 "nbformat_minor": 5
}
