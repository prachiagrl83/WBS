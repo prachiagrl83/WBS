{
 "cells": [
  {
   "cell_type": "markdown",
   "metadata": {
    "id": "F2jvFDY8iifQ"
   },
   "source": [
    "# Ordinal Encoding with Titanic\n",
    "\n",
    "In this notebook, we implement ordinal encoding to the column \"Cabin\" in the Titanic dataset. The column has been initially \"engineered\" so that only the first letter remains. Then, the order of the categories is manually defined, alphabetically, from \"A\" to \"T\", and ultimatelly with \"N_A\" (the replacement for null values).\n",
    "\n",
    "With this choice of preprocessing, we achieve a more compact dataset (fewer columns created with one-hot encoding), although our pipeline gets more complex: the categorical branch will contain now the SimpleImputer, followed by a ColumnTransformer that branches into One Hot and Ordinal encoding. \n",
    "\n",
    "A common error is trying to use a ColumnTransformer after the column names have been lost in a previous pipeline step (in our case, the SimpleImputer). This can be solved either using a pandas method instead of a sklearn transformer (e.g. `df.fill_na`), wrapped in a FunctionTransformer, as we will demonstrate in the sample solution for the Housing dataset, or by passing the indeces instead of the column names to the ColumnTransformer, as we show here."
   ]
  },
  {
   "cell_type": "markdown",
   "metadata": {
    "id": "D1EfIX7AlTUD"
   },
   "source": [
    "## 1. Reading, cleaning & splitting"
   ]
  },
  {
   "cell_type": "code",
   "execution_count": 1,
   "metadata": {
    "executionInfo": {
     "elapsed": 1904,
     "status": "ok",
     "timestamp": 1654696331110,
     "user": {
      "displayName": "Guillem Perdigo",
      "userId": "04677264432036902014"
     },
     "user_tz": -120
    },
    "id": "yUo6iad0iifT"
   },
   "outputs": [],
   "source": [
    "import pandas as pd\n",
    "from sklearn.model_selection import train_test_split\n",
    "from sklearn.impute import SimpleImputer\n",
    "from sklearn.tree import DecisionTreeClassifier\n",
    "from sklearn.metrics import accuracy_score\n",
    "from sklearn.pipeline import make_pipeline\n",
    "from sklearn.preprocessing import OneHotEncoder\n",
    "from sklearn.compose import ColumnTransformer\n",
    "from sklearn.preprocessing import OrdinalEncoder\n",
    "\n",
    "# reading\n",
    "url = \"https://drive.google.com/file/d/1g3uhw_y3tboRm2eYDPfUzXXsw8IOYDCy/view?usp=sharing\"\n",
    "path = 'https://drive.google.com/uc?export=download&id='+url.split('/')[-2]\n",
    "data = df = pd.read_csv(path)\n",
    "\n",
    "# X and y creation\n",
    "X = data.drop(columns=[\"PassengerId\", \"Name\", \"Ticket\"])\n",
    "y = X.pop(\"Survived\")\n",
    "\n",
    "# Feature Engineering\n",
    "X.loc[:, \"Cabin\"] = X.Cabin.str[0]\n",
    "\n",
    "# data splitting\n",
    "X_train, X_test, y_train, y_test = train_test_split(X, y, test_size=0.2, random_state=123)"
   ]
  },
  {
   "cell_type": "markdown",
   "metadata": {
    "id": "ijprBQsPiifU"
   },
   "source": [
    "## 2. Building the `preprocessor`\n",
    "\n",
    "We have included all the code to create the preprocessing pipeline in a single cell for compactness. Take your time to understand what's going on. If needed, create multiple cells and bring the code there step by step, analyzing the output each time. Writing a sketch of the pipeline with pen an paper is also a good idea."
   ]
  },
  {
   "cell_type": "code",
   "execution_count": 2,
   "metadata": {
    "executionInfo": {
     "elapsed": 244,
     "status": "ok",
     "timestamp": 1654696419584,
     "user": {
      "displayName": "Guillem Perdigo",
      "userId": "04677264432036902014"
     },
     "user_tz": -120
    },
    "id": "uG46hmLliifV"
   },
   "outputs": [],
   "source": [
    "# 1. defining categorical & ordinal columns\n",
    "X_cat = X.select_dtypes(exclude=\"number\").copy()\n",
    "X_num = X.select_dtypes(include=\"number\").copy()\n",
    "\n",
    "# 2. numerical pipeline\n",
    "numeric_pipe = make_pipeline(\n",
    "    SimpleImputer(strategy=\"mean\"))\n",
    "\n",
    "# 3. categorical pipeline\n",
    "# 3.1 defining ordinal & onehot columns\n",
    "ordinal_cols = X_cat.columns.get_indexer([\"Cabin\"])\n",
    "onehot_cols = X_cat.columns.get_indexer([\"Sex\", \"Embarked\"])\n",
    "\n",
    "# 3.2. defining the categorical encoder\n",
    "# 3.2.1. we manually establish the order of the categories for our ordinal feature (Cabin), including \"N_A\"\n",
    "cabin_cats = [\"A\", \"B\", \"C\", \"D\", \"E\", \"F\", \"G\", \"T\", \"N_A\"]\n",
    "# 3.2.2. defining the categorical encoder: a ColumnTransformer with 2 branches: ordinal & onehot\n",
    "categorical_encoder = ColumnTransformer(\n",
    "    transformers=[\n",
    "        (\"cat_ordinal\", OrdinalEncoder(categories=[cabin_cats]), ordinal_cols),\n",
    "        (\"cat_onehot\", OneHotEncoder(handle_unknown=\"ignore\"), onehot_cols),\n",
    "    ]\n",
    ")\n",
    "\n",
    "# 3.3. categorical pipeline = \"N_A\" imputer + categorical encoder\n",
    "categorical_pipe = make_pipeline(SimpleImputer(strategy=\"constant\", fill_value=\"N_A\"),\n",
    "                                 categorical_encoder\n",
    "                                )\n",
    "# 4. full preprocessing: a ColumnTransformer with 2 branches: numeric & categorical\n",
    "full_preprocessing = ColumnTransformer(\n",
    "    transformers=[\n",
    "        (\"num_pipe\", numeric_pipe, X_num.columns),\n",
    "        (\"cat_pipe\", categorical_pipe, X_cat.columns),\n",
    "    ]\n",
    ")"
   ]
  },
  {
   "cell_type": "markdown",
   "metadata": {
    "id": "0GuEXVBbiifW"
   },
   "source": [
    "## 3. Decision Tree"
   ]
  },
  {
   "cell_type": "code",
   "execution_count": 3,
   "metadata": {
    "colab": {
     "base_uri": "https://localhost:8080/"
    },
    "executionInfo": {
     "elapsed": 6822,
     "status": "ok",
     "timestamp": 1654696432642,
     "user": {
      "displayName": "Guillem Perdigo",
      "userId": "04677264432036902014"
     },
     "user_tz": -120
    },
    "id": "FJgPsuhmiifW",
    "outputId": "0b5dfaa0-b99f-42d1-abcc-a4b5ed73ab52"
   },
   "outputs": [
    {
     "name": "stdout",
     "output_type": "stream",
     "text": [
      "Fitting 5 folds for each of 60 candidates, totalling 300 fits\n"
     ]
    },
    {
     "data": {
      "text/plain": [
       "{'dtree': 0.8033586132177681}"
      ]
     },
     "execution_count": 3,
     "metadata": {},
     "output_type": "execute_result"
    }
   ],
   "source": [
    "from sklearn.model_selection import GridSearchCV\n",
    "\n",
    "# full pipeline: preprocessor + model\n",
    "full_pipeline = make_pipeline(full_preprocessing, \n",
    "                              DecisionTreeClassifier())\n",
    "\n",
    "# define parameter grid\n",
    "param_grid = {\n",
    "    \"columntransformer__num_pipe__simpleimputer__strategy\":[\"mean\", \"median\"],\n",
    "    \"decisiontreeclassifier__max_depth\": range(2, 14, 2),\n",
    "    \"decisiontreeclassifier__min_samples_leaf\": range(3, 12, 2)\n",
    "}\n",
    "\n",
    "# define GridSearchCV\n",
    "search = GridSearchCV(full_pipeline,\n",
    "                      param_grid,\n",
    "                      cv=5,\n",
    "                      verbose=1)\n",
    "\n",
    "search.fit(X_train, y_train)\n",
    " \n",
    "scores = {\"dtree\" : search.best_score_}\n",
    "\n",
    "scores"
   ]
  },
  {
   "cell_type": "markdown",
   "metadata": {
    "id": "zGkHfgxUiifX"
   },
   "source": [
    "## 4. Error analysis"
   ]
  },
  {
   "cell_type": "code",
   "execution_count": null,
   "metadata": {
    "id": "AgbII3IBiifX",
    "outputId": "2d8eef4e-95ae-4104-8eb8-346202bb4ffb"
   },
   "outputs": [
    {
     "data": {
      "text/plain": [
       "0.8435754189944135"
      ]
     },
     "execution_count": 40,
     "metadata": {},
     "output_type": "execute_result"
    }
   ],
   "source": [
    "accuracy_score(search.predict(X_test), y_test)"
   ]
  },
  {
   "cell_type": "code",
   "execution_count": null,
   "metadata": {
    "id": "QJhpOKy5iifY",
    "outputId": "bc3371bb-34a5-41c1-8c64-ca337a59d29a"
   },
   "outputs": [
    {
     "data": {
      "image/png": "[encoded data removed]",
      "text/plain": [
       "<Figure size 432x288 with 2 Axes>"
      ]
     },
     "metadata": {
      "needs_background": "light"
     },
     "output_type": "display_data"
    }
   ],
   "source": [
    "#from sklearn.metrics import plot_confusion_matrix\n",
    "#plot_confusion_matrix(search, X_test, y_test, display_labels=['Not Survied', 'Survived']);\n",
    "\n",
    "from sklearn.metrics import ConfusionMatrixDisplay\n",
    "ConfusionMatrixDisplay.from_estimator(search, \n",
    "                                      X_test, \n",
    "                                      y_test, \n",
    "                                      display_labels=['Not Survied', 'Survived']);"
   ]
  },
  {
   "cell_type": "markdown",
   "metadata": {
    "id": "TmrBluhpiifY"
   },
   "source": [
    "## 5. KNN"
   ]
  },
  {
   "cell_type": "code",
   "execution_count": null,
   "metadata": {
    "id": "zibyYi_BiifY"
   },
   "outputs": [],
   "source": [
    "from sklearn.neighbors import KNeighborsClassifier\n",
    "from sklearn.preprocessing import StandardScaler\n",
    "\n",
    "knn_full_pipeline = make_pipeline(full_preprocessing,\n",
    "                                  StandardScaler(),\n",
    "                                  KNeighborsClassifier()\n",
    "                                 )"
   ]
  },
  {
   "cell_type": "code",
   "execution_count": null,
   "metadata": {
    "id": "6ptlVfzpiifZ",
    "outputId": "fe744777-3371-4dbb-d252-7fb4e9c4b35c"
   },
   "outputs": [
    {
     "name": "stdout",
     "output_type": "stream",
     "text": [
      "Fitting 5 folds for each of 192 candidates, totalling 960 fits\n"
     ]
    },
    {
     "data": {
      "text/plain": [
       "{'dtree': 0.8033586132177681, 'knn': 0.8188121737417511}"
      ]
     },
     "execution_count": 43,
     "metadata": {},
     "output_type": "execute_result"
    }
   ],
   "source": [
    "\n",
    "from sklearn.model_selection import GridSearchCV\n",
    "\n",
    "param_grid = {\n",
    "    \"columntransformer__num_pipe__simpleimputer__strategy\":[\"mean\", \"median\"],\n",
    "    \"kneighborsclassifier__n_neighbors\": range(2, 50, 2),\n",
    "    \"kneighborsclassifier__weights\": [\"uniform\", \"distance\"],\n",
    "    \"standardscaler__with_std\":[True, False]\n",
    "}\n",
    "\n",
    "knn_search = GridSearchCV(knn_full_pipeline,\n",
    "                      param_grid,\n",
    "                      cv=5,\n",
    "                      verbose=1)\n",
    "\n",
    "knn_search.fit(X_train, y_train)\n",
    "\n",
    "scores[\"knn\"] = knn_search.best_score_\n",
    "\n",
    "scores"
   ]
  },
  {
   "cell_type": "code",
   "execution_count": null,
   "metadata": {
    "id": "ifAaphxPiifZ",
    "outputId": "4ac1f64b-dd50-4a1d-a638-bbea0735656d"
   },
   "outputs": [
    {
     "data": {
      "text/plain": [
       "{'columntransformer__num_pipe__simpleimputer__strategy': 'mean',\n",
       " 'kneighborsclassifier__n_neighbors': 12,\n",
       " 'kneighborsclassifier__weights': 'uniform',\n",
       " 'standardscaler__with_std': True}"
      ]
     },
     "execution_count": 44,
     "metadata": {},
     "output_type": "execute_result"
    }
   ],
   "source": [
    "knn_search.best_params_"
   ]
  },
  {
   "cell_type": "markdown",
   "metadata": {
    "id": "t8tBn78EmfT3"
   },
   "source": [
    "## **Your challenge**\n",
    "\n",
    "In a new notebook, apply everything you have learned here to the Housing project, following the Learning platform."
   ]
  },
  {
   "cell_type": "code",
   "execution_count": null,
   "metadata": {
    "id": "z1v_fDPamf2f"
   },
   "outputs": [],
   "source": []
  }
 ],
 "metadata": {
  "colab": {
   "name": "6-titanic-ordinal-encoding.ipynb",
   "provenance": []
  },
  "kernelspec": {
   "display_name": "Python 3 (ipykernel)",
   "language": "python",
   "name": "python3"
  },
  "language_info": {
   "codemirror_mode": {
    "name": "ipython",
    "version": 3
   },
   "file_extension": ".py",
   "mimetype": "text/x-python",
   "name": "python",
   "nbconvert_exporter": "python",
   "pygments_lexer": "ipython3",
   "version": "3.8.13"
  }
 },
 "nbformat": 4,
 "nbformat_minor": 4
}
