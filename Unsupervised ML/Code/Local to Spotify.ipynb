{
 "cells": [
  {
   "cell_type": "code",
   "execution_count": 1,
   "id": "5b23857b-4ed7-408d-a9c4-d2aad1e8a17f",
   "metadata": {},
   "outputs": [
    {
     "name": "stdout",
     "output_type": "stream",
     "text": [
      "Requirement already satisfied: spotify in c:\\users\\prach\\anaconda3\\lib\\site-packages (0.10.2)\n",
      "Requirement already satisfied: backoff<2.0.0,>=1.10.0 in c:\\users\\prach\\anaconda3\\lib\\site-packages (from spotify) (1.11.1)\n",
      "Requirement already satisfied: aiohttp<4.0,>=3.6 in c:\\users\\prach\\anaconda3\\lib\\site-packages (from spotify) (3.8.1)\n",
      "Requirement already satisfied: aiosignal>=1.1.2 in c:\\users\\prach\\anaconda3\\lib\\site-packages (from aiohttp<4.0,>=3.6->spotify) (1.2.0)\n",
      "Requirement already satisfied: yarl<2.0,>=1.0 in c:\\users\\prach\\anaconda3\\lib\\site-packages (from aiohttp<4.0,>=3.6->spotify) (1.6.3)\n",
      "Requirement already satisfied: async-timeout<5.0,>=4.0.0a3 in c:\\users\\prach\\anaconda3\\lib\\site-packages (from aiohttp<4.0,>=3.6->spotify) (4.0.2)\n",
      "Requirement already satisfied: frozenlist>=1.1.1 in c:\\users\\prach\\anaconda3\\lib\\site-packages (from aiohttp<4.0,>=3.6->spotify) (1.2.0)\n",
      "Requirement already satisfied: multidict<7.0,>=4.5 in c:\\users\\prach\\anaconda3\\lib\\site-packages (from aiohttp<4.0,>=3.6->spotify) (5.1.0)\n",
      "Requirement already satisfied: attrs>=17.3.0 in c:\\users\\prach\\anaconda3\\lib\\site-packages (from aiohttp<4.0,>=3.6->spotify) (21.4.0)\n",
      "Requirement already satisfied: charset-normalizer<3.0,>=2.0 in c:\\users\\prach\\anaconda3\\lib\\site-packages (from aiohttp<4.0,>=3.6->spotify) (2.0.4)\n",
      "Requirement already satisfied: idna>=2.0 in c:\\users\\prach\\anaconda3\\lib\\site-packages (from yarl<2.0,>=1.0->aiohttp<4.0,>=3.6->spotify) (3.3)\n",
      "Requirement already satisfied: spotipy in c:\\users\\prach\\anaconda3\\lib\\site-packages (2.21.0)\n",
      "Requirement already satisfied: requests>=2.25.0 in c:\\users\\prach\\anaconda3\\lib\\site-packages (from spotipy) (2.27.1)\n",
      "Requirement already satisfied: redis>=3.5.3 in c:\\users\\prach\\anaconda3\\lib\\site-packages (from spotipy) (4.4.0)\n",
      "Requirement already satisfied: six>=1.15.0 in c:\\users\\prach\\anaconda3\\lib\\site-packages (from spotipy) (1.16.0)\n",
      "Requirement already satisfied: urllib3>=1.26.0 in c:\\users\\prach\\anaconda3\\lib\\site-packages (from spotipy) (1.26.9)\n",
      "Requirement already satisfied: async-timeout>=4.0.2 in c:\\users\\prach\\anaconda3\\lib\\site-packages (from redis>=3.5.3->spotipy) (4.0.2)\n",
      "Requirement already satisfied: charset-normalizer~=2.0.0 in c:\\users\\prach\\anaconda3\\lib\\site-packages (from requests>=2.25.0->spotipy) (2.0.4)\n",
      "Requirement already satisfied: idna<4,>=2.5 in c:\\users\\prach\\anaconda3\\lib\\site-packages (from requests>=2.25.0->spotipy) (3.3)\n",
      "Requirement already satisfied: certifi>=2017.4.17 in c:\\users\\prach\\anaconda3\\lib\\site-packages (from requests>=2.25.0->spotipy) (2021.10.8)\n",
      "Requirement already satisfied: urllib3 in c:\\users\\prach\\anaconda3\\lib\\site-packages (1.26.9)\n"
     ]
    }
   ],
   "source": [
    "!pip install spotify\n",
    "!pip install spotipy\n",
    "!pip install urllib3"
   ]
  },
  {
   "cell_type": "code",
   "execution_count": 6,
   "id": "879d8474-3962-4ddb-9325-99c01fa8564e",
   "metadata": {},
   "outputs": [],
   "source": [
    "import spotipy\n",
    "from spotipy.oauth2 import SpotifyClientCredentials\n",
    "import spotipy.util as util\n",
    "cid ='XXXX' # Client ID;\n",
    "secret = 'XXXX' # Client Secret;\n",
    "username = 'XXXX' # got from Spotify->account settings\n",
    "#for avaliable scopes see https://developer.spotify.com/web-api/using-scopes/\n",
    "scope = 'user-library-read playlist-modify-public playlist-read-private'\n",
    "redirect_uri='http://localhost/' # works on 3000,8888 as well\n",
    "client_credentials_manager = SpotifyClientCredentials(client_id=cid, client_secret=secret)\n",
    "sp = spotipy.Spotify(client_credentials_manager=client_credentials_manager)\n",
    "token = util.prompt_for_user_token(username, scope, cid, secret, redirect_uri)\n",
    "if token:\n",
    " sp = spotipy.Spotify(auth=token)\n",
    "else:\n",
    " print(\"Can't get token for\", username)"
   ]
  },
  {
   "cell_type": "code",
   "execution_count": 7,
   "id": "0d3b392b-14d4-4e09-bde3-16b965005750",
   "metadata": {},
   "outputs": [],
   "source": [
    "playlist_recs = sp.user_playlist_create('XXXX', name='my personal playlist')"
   ]
  },
  {
   "cell_type": "code",
   "execution_count": null,
   "id": "c09c917a-3d88-4f63-a45a-aa4ef128b0d9",
   "metadata": {},
   "outputs": [],
   "source": []
  }
 ],
 "metadata": {
  "kernelspec": {
   "display_name": "Python 3 (ipykernel)",
   "language": "python",
   "name": "python3"
  },
  "language_info": {
   "codemirror_mode": {
    "name": "ipython",
    "version": 3
   },
   "file_extension": ".py",
   "mimetype": "text/x-python",
   "name": "python",
   "nbconvert_exporter": "python",
   "pygments_lexer": "ipython3",
   "version": "3.9.12"
  }
 },
 "nbformat": 4,
 "nbformat_minor": 5
}
